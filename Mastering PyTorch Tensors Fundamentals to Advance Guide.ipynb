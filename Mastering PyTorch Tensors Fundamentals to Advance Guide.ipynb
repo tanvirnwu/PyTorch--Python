{
 "cells": [
  {
   "cell_type": "markdown",
   "id": "61c3282b",
   "metadata": {
    "papermill": {
     "duration": 0.036673,
     "end_time": "2023-10-28T01:42:56.025299",
     "exception": false,
     "start_time": "2023-10-28T01:42:55.988626",
     "status": "completed"
    },
    "tags": []
   },
   "source": [
    "## **Introduction**\n",
    "\n",
    "**[PyTorch](https://pytorch.org/)** is an open-source machine learning library developed by Facebook's AI Research lab. It’s popular in the deep learning community due to its flexibility and dynamic computation graph, which makes it easier to work with and debug. PyTorch provides a wide range of APIs for both neural networks and tensor computations. It is also known for its pythonic design, making it very straightforward and intuitive for Python developers to learn and implement deep learning algorithms. The extensive community support and plethora of tutorials and documentation available make learning and implementing models using PyTorch an enriching experience.\n",
    "\n",
    "For more detailed information and resources, you can visit the official **[PyTorch website](https://pytorch.org/)**."
   ]
  },
  {
   "cell_type": "code",
   "execution_count": 1,
   "id": "57efeeee",
   "metadata": {
    "execution": {
     "iopub.execute_input": "2023-10-28T01:42:56.098300Z",
     "iopub.status.busy": "2023-10-28T01:42:56.097984Z",
     "iopub.status.idle": "2023-10-28T01:43:00.984095Z",
     "shell.execute_reply": "2023-10-28T01:43:00.983189Z"
    },
    "papermill": {
     "duration": 4.92471,
     "end_time": "2023-10-28T01:43:00.986548",
     "exception": false,
     "start_time": "2023-10-28T01:42:56.061838",
     "status": "completed"
    },
    "tags": []
   },
   "outputs": [
    {
     "name": "stdout",
     "output_type": "stream",
     "text": [
      "2.0.0\n"
     ]
    }
   ],
   "source": [
    "# Importing PyTorch, essential for deep learning tasks.\n",
    "import torch\n",
    "\n",
    "# Importing pandas for data manipulation and analysis.\n",
    "import pandas as pd\n",
    "\n",
    "# Importing numpy for numerical computations.\n",
    "import numpy as np\n",
    "\n",
    "# Importing matplotlib for data visualization.\n",
    "import matplotlib.pyplot as plt\n",
    "\n",
    "# Printing the version of PyTorch to verify installation.\n",
    "print(torch.__version__)"
   ]
  },
  {
   "cell_type": "markdown",
   "id": "3be88457",
   "metadata": {
    "id": "3KdMa8liMKre",
    "papermill": {
     "duration": 0.036194,
     "end_time": "2023-10-28T01:43:01.058637",
     "exception": false,
     "start_time": "2023-10-28T01:43:01.022443",
     "status": "completed"
    },
    "tags": []
   },
   "source": [
    "## **What is Tensor?**\n",
    "**Tensor:** A tensor is a multi-dimensional array that is the fundamental building block of PyTorch and many other machine learning and deep learning libraries. Tensors are similar to NumPy’s ndarrays, but they also have the additional capability to be used on GPUs for accelerated computing. Tensors are optimized for automatic differentiation (autograd) and are used as the primary data structure to build neural networks in PyTorch.\n",
    "\n",
    "Here are a few key points about tensors:\n",
    "\n",
    "#### **Dimentions**\n",
    "- **0D Tensor:** A 0-dimensional tensor is a single number (scalar).\n",
    "- **1D Tensor:** A 1-dimensional tensor is similar to a vector.\n",
    "- **2D Tensor:** A 2-dimensional tensor is similar to a matrix.\n",
    "- **ND Tensor:** Tensors can have three or more dimensions, allowing them to represent more complex data structures.\n",
    "\n",
    "#### **Data Types**\n",
    "- Tensors can hold data of different data types such as float, int, and boolean.\n",
    "\n",
    "#### **Device Compatibility**\n",
    "- Tensors can be moved onto any device, such as a GPU, to accelerate computing.\n",
    "\n",
    "#### **Autograd**\n",
    "- PyTorch tensors support autograd, meaning that they can automatically compute gradients or derivatives, essential for neural network training."
   ]
  },
  {
   "cell_type": "markdown",
   "id": "06133c19",
   "metadata": {
    "papermill": {
     "duration": 0.035015,
     "end_time": "2023-10-28T01:43:01.169855",
     "exception": false,
     "start_time": "2023-10-28T01:43:01.134840",
     "status": "completed"
    },
    "tags": []
   },
   "source": [
    "## **Creating Tensors**"
   ]
  },
  {
   "cell_type": "markdown",
   "id": "1e598f48",
   "metadata": {
    "papermill": {
     "duration": 0.035629,
     "end_time": "2023-10-28T01:43:01.240686",
     "exception": false,
     "start_time": "2023-10-28T01:43:01.205057",
     "status": "completed"
    },
    "tags": []
   },
   "source": [
    "#### **0D Tensor**"
   ]
  },
  {
   "cell_type": "code",
   "execution_count": 2,
   "id": "988d7455",
   "metadata": {
    "execution": {
     "iopub.execute_input": "2023-10-28T01:43:01.316062Z",
     "iopub.status.busy": "2023-10-28T01:43:01.315583Z",
     "iopub.status.idle": "2023-10-28T01:43:01.360225Z",
     "shell.execute_reply": "2023-10-28T01:43:01.359242Z"
    },
    "id": "I45Vpb2XLs4s",
    "outputId": "a63df0b4-5505-4ae7-c407-a05e5c34da69",
    "papermill": {
     "duration": 0.0858,
     "end_time": "2023-10-28T01:43:01.362437",
     "exception": false,
     "start_time": "2023-10-28T01:43:01.276637",
     "status": "completed"
    },
    "tags": []
   },
   "outputs": [
    {
     "data": {
      "text/plain": [
       "tensor(7)"
      ]
     },
     "execution_count": 2,
     "metadata": {},
     "output_type": "execute_result"
    }
   ],
   "source": [
    "# Creating a 0-dimensional tensor (scalar) with the value 7 using PyTorch.\n",
    "scalar = torch.tensor(7)\n",
    "scalar"
   ]
  },
  {
   "cell_type": "code",
   "execution_count": 3,
   "id": "ae368cea",
   "metadata": {
    "execution": {
     "iopub.execute_input": "2023-10-28T01:43:01.436120Z",
     "iopub.status.busy": "2023-10-28T01:43:01.435818Z",
     "iopub.status.idle": "2023-10-28T01:43:01.440733Z",
     "shell.execute_reply": "2023-10-28T01:43:01.439901Z"
    },
    "id": "_rnwMsB2MkqU",
    "outputId": "aa93db92-8cdb-4268-9d60-015069d34a3e",
    "papermill": {
     "duration": 0.043376,
     "end_time": "2023-10-28T01:43:01.442974",
     "exception": false,
     "start_time": "2023-10-28T01:43:01.399598",
     "status": "completed"
    },
    "tags": []
   },
   "outputs": [
    {
     "name": "stdout",
     "output_type": "stream",
     "text": [
      "Domention of Scalar is: 0\n"
     ]
    }
   ],
   "source": [
    "# Printing the number of dimensions of the scalar tensor. Expecting 0 because it's a scalar.\n",
    "print(f\"Domention of Scalar is: {scalar.ndim}\")"
   ]
  },
  {
   "cell_type": "code",
   "execution_count": 4,
   "id": "e8a74621",
   "metadata": {
    "execution": {
     "iopub.execute_input": "2023-10-28T01:43:01.515950Z",
     "iopub.status.busy": "2023-10-28T01:43:01.515669Z",
     "iopub.status.idle": "2023-10-28T01:43:01.520192Z",
     "shell.execute_reply": "2023-10-28T01:43:01.519284Z"
    },
    "id": "LLCnynZtM0TY",
    "outputId": "f3ba28d9-8836-4336-92b3-53ab98649c3c",
    "papermill": {
     "duration": 0.043374,
     "end_time": "2023-10-28T01:43:01.522241",
     "exception": false,
     "start_time": "2023-10-28T01:43:01.478867",
     "status": "completed"
    },
    "tags": []
   },
   "outputs": [
    {
     "name": "stdout",
     "output_type": "stream",
     "text": [
      "Value of Scalar is: 7\n"
     ]
    }
   ],
   "source": [
    "# Printing the value of the scalar tensor using formatted string.\n",
    "print(f\"Value of Scalar is: {scalar.item()}\")"
   ]
  },
  {
   "cell_type": "markdown",
   "id": "75512690",
   "metadata": {
    "papermill": {
     "duration": 0.040748,
     "end_time": "2023-10-28T01:43:01.600920",
     "exception": false,
     "start_time": "2023-10-28T01:43:01.560172",
     "status": "completed"
    },
    "tags": []
   },
   "source": [
    "#### **1D Vector**"
   ]
  },
  {
   "cell_type": "code",
   "execution_count": 5,
   "id": "83cf90b9",
   "metadata": {
    "execution": {
     "iopub.execute_input": "2023-10-28T01:43:01.679648Z",
     "iopub.status.busy": "2023-10-28T01:43:01.679267Z",
     "iopub.status.idle": "2023-10-28T01:43:01.687808Z",
     "shell.execute_reply": "2023-10-28T01:43:01.686955Z"
    },
    "id": "H-wCNG9nM9EO",
    "outputId": "0873b72c-45ac-497b-cddc-4f5c145610a0",
    "papermill": {
     "duration": 0.049665,
     "end_time": "2023-10-28T01:43:01.689832",
     "exception": false,
     "start_time": "2023-10-28T01:43:01.640167",
     "status": "completed"
    },
    "tags": []
   },
   "outputs": [
    {
     "data": {
      "text/plain": [
       "tensor([7, 7])"
      ]
     },
     "execution_count": 5,
     "metadata": {},
     "output_type": "execute_result"
    }
   ],
   "source": [
    "# Creating a 1-dimensional tensor (vector) with two elements, both being the value 7.\n",
    "vector = torch.tensor([7, 7])\n",
    "vector"
   ]
  },
  {
   "cell_type": "code",
   "execution_count": 6,
   "id": "e3698350",
   "metadata": {
    "execution": {
     "iopub.execute_input": "2023-10-28T01:43:01.767172Z",
     "iopub.status.busy": "2023-10-28T01:43:01.766906Z",
     "iopub.status.idle": "2023-10-28T01:43:01.771688Z",
     "shell.execute_reply": "2023-10-28T01:43:01.770720Z"
    },
    "id": "KZBGfKcCNG5s",
    "outputId": "dbcee822-06ca-4862-b866-0582cac7ce78",
    "papermill": {
     "duration": 0.045447,
     "end_time": "2023-10-28T01:43:01.773705",
     "exception": false,
     "start_time": "2023-10-28T01:43:01.728258",
     "status": "completed"
    },
    "tags": []
   },
   "outputs": [
    {
     "name": "stdout",
     "output_type": "stream",
     "text": [
      "Domention of Vector is: 1\n"
     ]
    }
   ],
   "source": [
    "# Printing the number of dimensions of the scalar tensor. Expecting 0 because it's a scalar.\n",
    "print(f\"Domention of Vector is: {vector.ndim}\")"
   ]
  },
  {
   "cell_type": "code",
   "execution_count": 7,
   "id": "46f48cb6",
   "metadata": {
    "execution": {
     "iopub.execute_input": "2023-10-28T01:43:01.848854Z",
     "iopub.status.busy": "2023-10-28T01:43:01.848560Z",
     "iopub.status.idle": "2023-10-28T01:43:01.853177Z",
     "shell.execute_reply": "2023-10-28T01:43:01.852310Z"
    },
    "id": "cJqqHWt2NTz0",
    "outputId": "1431bfb4-958f-46b3-f336-7741c93ba55b",
    "papermill": {
     "duration": 0.043891,
     "end_time": "2023-10-28T01:43:01.855170",
     "exception": false,
     "start_time": "2023-10-28T01:43:01.811279",
     "status": "completed"
    },
    "tags": []
   },
   "outputs": [
    {
     "name": "stdout",
     "output_type": "stream",
     "text": [
      "Shape of the Vector: torch.Size([2])\n"
     ]
    }
   ],
   "source": [
    "print(f\"Shape of the Vector: {vector.shape}\")"
   ]
  },
  {
   "cell_type": "markdown",
   "id": "0ebc196f",
   "metadata": {
    "papermill": {
     "duration": 0.036423,
     "end_time": "2023-10-28T01:43:01.927701",
     "exception": false,
     "start_time": "2023-10-28T01:43:01.891278",
     "status": "completed"
    },
    "tags": []
   },
   "source": [
    "#### **2D Tensor: Matrix**\n",
    "In this code, a 2-dimensional tensor (matrix) named MATRIX is created with the specified values in a 2x2 format. "
   ]
  },
  {
   "cell_type": "code",
   "execution_count": 8,
   "id": "b39974fb",
   "metadata": {
    "execution": {
     "iopub.execute_input": "2023-10-28T01:43:02.000765Z",
     "iopub.status.busy": "2023-10-28T01:43:02.000481Z",
     "iopub.status.idle": "2023-10-28T01:43:02.008800Z",
     "shell.execute_reply": "2023-10-28T01:43:02.007977Z"
    },
    "id": "CqLWvezQNYcr",
    "outputId": "65df4e5c-6a90-4be5-b544-cb3149f2d414",
    "papermill": {
     "duration": 0.047665,
     "end_time": "2023-10-28T01:43:02.010726",
     "exception": false,
     "start_time": "2023-10-28T01:43:01.963061",
     "status": "completed"
    },
    "tags": []
   },
   "outputs": [
    {
     "name": "stdout",
     "output_type": "stream",
     "text": [
      "tensor([[ 7,  8],\n",
      "        [ 9, 10]])\n"
     ]
    }
   ],
   "source": [
    "# Creating a 2-dimensional tensor (matrix) with the specified values, and displaying it.\n",
    "MATRIX = torch.tensor([[7, 8],\n",
    "                       [9, 10]])\n",
    "print(MATRIX)\n"
   ]
  },
  {
   "cell_type": "code",
   "execution_count": 9,
   "id": "a7c7054a",
   "metadata": {
    "execution": {
     "iopub.execute_input": "2023-10-28T01:43:02.083169Z",
     "iopub.status.busy": "2023-10-28T01:43:02.082875Z",
     "iopub.status.idle": "2023-10-28T01:43:02.087488Z",
     "shell.execute_reply": "2023-10-28T01:43:02.086517Z"
    },
    "id": "6aXuxUwqNo-V",
    "outputId": "5f6e6f49-1653-4973-f18a-bfdd3fe493ca",
    "papermill": {
     "duration": 0.043054,
     "end_time": "2023-10-28T01:43:02.089406",
     "exception": false,
     "start_time": "2023-10-28T01:43:02.046352",
     "status": "completed"
    },
    "tags": []
   },
   "outputs": [
    {
     "name": "stdout",
     "output_type": "stream",
     "text": [
      "Number of Dimensions of MATRIX: 2\n"
     ]
    }
   ],
   "source": [
    "# Printing the number of dimensions of the MATRIX tensor. Since MATRIX is 2-dimensional, it will return 2.\n",
    "print(f\"Number of Dimensions of MATRIX: {MATRIX.ndim}\")"
   ]
  },
  {
   "cell_type": "code",
   "execution_count": 10,
   "id": "9296d8fc",
   "metadata": {
    "execution": {
     "iopub.execute_input": "2023-10-28T01:43:02.163489Z",
     "iopub.status.busy": "2023-10-28T01:43:02.163202Z",
     "iopub.status.idle": "2023-10-28T01:43:02.167917Z",
     "shell.execute_reply": "2023-10-28T01:43:02.167026Z"
    },
    "id": "KDNQ8WTJNrne",
    "outputId": "e8a6f040-7aef-48ee-fa35-3d9709ed2d5b",
    "papermill": {
     "duration": 0.043617,
     "end_time": "2023-10-28T01:43:02.170019",
     "exception": false,
     "start_time": "2023-10-28T01:43:02.126402",
     "status": "completed"
    },
    "tags": []
   },
   "outputs": [
    {
     "name": "stdout",
     "output_type": "stream",
     "text": [
      "Shape of MATRIX: torch.Size([2, 2])\n"
     ]
    }
   ],
   "source": [
    "# Printing the shape of the MATRIX tensor. This will return the size of each dimension of the MATRIX.\n",
    "print(f\"Shape of MATRIX: {MATRIX.shape}\")"
   ]
  },
  {
   "cell_type": "code",
   "execution_count": 11,
   "id": "f5817dd6",
   "metadata": {
    "execution": {
     "iopub.execute_input": "2023-10-28T01:43:02.245924Z",
     "iopub.status.busy": "2023-10-28T01:43:02.245649Z",
     "iopub.status.idle": "2023-10-28T01:43:02.250926Z",
     "shell.execute_reply": "2023-10-28T01:43:02.250042Z"
    },
    "id": "gsnAnJjCNubr",
    "outputId": "4250929e-18fb-4fd5-a485-04d60bb8762c",
    "papermill": {
     "duration": 0.045728,
     "end_time": "2023-10-28T01:43:02.253002",
     "exception": false,
     "start_time": "2023-10-28T01:43:02.207274",
     "status": "completed"
    },
    "tags": []
   },
   "outputs": [
    {
     "name": "stdout",
     "output_type": "stream",
     "text": [
      "tensor([ 9, 10])\n"
     ]
    }
   ],
   "source": [
    "# Accessing and printing the second row of the MATRIX tensor.\n",
    "# Indexing is zero-based.\n",
    "print(MATRIX[1])"
   ]
  },
  {
   "cell_type": "code",
   "execution_count": 12,
   "id": "92937cc3",
   "metadata": {
    "execution": {
     "iopub.execute_input": "2023-10-28T01:43:02.330247Z",
     "iopub.status.busy": "2023-10-28T01:43:02.329976Z",
     "iopub.status.idle": "2023-10-28T01:43:02.334845Z",
     "shell.execute_reply": "2023-10-28T01:43:02.334022Z"
    },
    "id": "DidangZmNxv1",
    "outputId": "3e5daa1a-83d1-417b-d14f-36ff4be3e25f",
    "papermill": {
     "duration": 0.045726,
     "end_time": "2023-10-28T01:43:02.336634",
     "exception": false,
     "start_time": "2023-10-28T01:43:02.290908",
     "status": "completed"
    },
    "tags": []
   },
   "outputs": [
    {
     "name": "stdout",
     "output_type": "stream",
     "text": [
      "tensor([7, 8])\n"
     ]
    }
   ],
   "source": [
    "# Accessing and printing the first row of the MATRIX tensor.\n",
    "print(MATRIX[0])"
   ]
  },
  {
   "cell_type": "markdown",
   "id": "046dc2f1",
   "metadata": {
    "papermill": {
     "duration": 0.036095,
     "end_time": "2023-10-28T01:43:02.408522",
     "exception": false,
     "start_time": "2023-10-28T01:43:02.372427",
     "status": "completed"
    },
    "tags": []
   },
   "source": [
    "#### **3D Tensor**\n",
    "In this code snippet, a 3-dimensional tensor named TENSOR is created with the specified values. Using the print statement will cleanly display the TENSOR tensor when you run this code, showcasing its three-dimensional structure:"
   ]
  },
  {
   "cell_type": "code",
   "execution_count": 13,
   "id": "0466b359",
   "metadata": {
    "execution": {
     "iopub.execute_input": "2023-10-28T01:43:02.483190Z",
     "iopub.status.busy": "2023-10-28T01:43:02.482906Z",
     "iopub.status.idle": "2023-10-28T01:43:02.488885Z",
     "shell.execute_reply": "2023-10-28T01:43:02.487942Z"
    },
    "id": "Dwbbm-R9NzB_",
    "outputId": "5a30b5ce-b94e-4c83-8239-13d5394702f1",
    "papermill": {
     "duration": 0.045218,
     "end_time": "2023-10-28T01:43:02.490711",
     "exception": false,
     "start_time": "2023-10-28T01:43:02.445493",
     "status": "completed"
    },
    "tags": []
   },
   "outputs": [
    {
     "name": "stdout",
     "output_type": "stream",
     "text": [
      "tensor([[[1, 2, 3],\n",
      "         [3, 4, 5],\n",
      "         [5, 6, 7]]])\n"
     ]
    }
   ],
   "source": [
    "# Creating a 3-dimensional tensor (TENSOR) with the specified values, and displaying it.\n",
    "TENSOR = torch.tensor([[[1, 2, 3],\n",
    "                        [3, 4, 5],\n",
    "                        [5, 6, 7]]])\n",
    "print(TENSOR)"
   ]
  },
  {
   "cell_type": "code",
   "execution_count": 14,
   "id": "4a4f6176",
   "metadata": {
    "execution": {
     "iopub.execute_input": "2023-10-28T01:43:02.564173Z",
     "iopub.status.busy": "2023-10-28T01:43:02.563906Z",
     "iopub.status.idle": "2023-10-28T01:43:02.568414Z",
     "shell.execute_reply": "2023-10-28T01:43:02.567506Z"
    },
    "id": "uj1AoYL3OLyH",
    "outputId": "018e7bad-95ba-4f9c-ae4c-b37a7a6c1c98",
    "papermill": {
     "duration": 0.043244,
     "end_time": "2023-10-28T01:43:02.570324",
     "exception": false,
     "start_time": "2023-10-28T01:43:02.527080",
     "status": "completed"
    },
    "tags": []
   },
   "outputs": [
    {
     "name": "stdout",
     "output_type": "stream",
     "text": [
      "Shape of TENSOR: torch.Size([1, 3, 3]), Number of Dimensions: 3\n"
     ]
    }
   ],
   "source": [
    "# Printing the shape and number of dimensions of the TENSOR. \n",
    "# The shape will return the size of each dimension, and ndim will return the number of dimensions.\n",
    "print(f\"Shape of TENSOR: {TENSOR.shape}, Number of Dimensions: {TENSOR.ndim}\")"
   ]
  },
  {
   "cell_type": "code",
   "execution_count": 15,
   "id": "8b0d72be",
   "metadata": {
    "execution": {
     "iopub.execute_input": "2023-10-28T01:43:02.646137Z",
     "iopub.status.busy": "2023-10-28T01:43:02.645849Z",
     "iopub.status.idle": "2023-10-28T01:43:02.651089Z",
     "shell.execute_reply": "2023-10-28T01:43:02.650014Z"
    },
    "id": "fOaZYE4aOQkM",
    "outputId": "30d3c14d-b5ab-4d68-afc4-ac408c6e9848",
    "papermill": {
     "duration": 0.044834,
     "end_time": "2023-10-28T01:43:02.653040",
     "exception": false,
     "start_time": "2023-10-28T01:43:02.608206",
     "status": "completed"
    },
    "tags": []
   },
   "outputs": [
    {
     "name": "stdout",
     "output_type": "stream",
     "text": [
      "tensor([[1, 2, 3],\n",
      "        [3, 4, 5],\n",
      "        [5, 6, 7]])\n"
     ]
    }
   ],
   "source": [
    "# Accessing and printing the first element of the TENSOR. Since TENSOR is a 3D tensor, this will return a 2D matrix.\n",
    "print(TENSOR[0])"
   ]
  },
  {
   "cell_type": "code",
   "execution_count": 16,
   "id": "4cb84e8f",
   "metadata": {
    "execution": {
     "iopub.execute_input": "2023-10-28T01:43:02.728117Z",
     "iopub.status.busy": "2023-10-28T01:43:02.727838Z",
     "iopub.status.idle": "2023-10-28T01:43:02.735515Z",
     "shell.execute_reply": "2023-10-28T01:43:02.734215Z"
    },
    "id": "yUnBeYyJOeMU",
    "outputId": "3a8050f4-7330-4b1d-f396-c8274ef239e6",
    "papermill": {
     "duration": 0.04814,
     "end_time": "2023-10-28T01:43:02.737683",
     "exception": false,
     "start_time": "2023-10-28T01:43:02.689543",
     "status": "completed"
    },
    "tags": []
   },
   "outputs": [
    {
     "name": "stdout",
     "output_type": "stream",
     "text": [
      "tensor([[[1, 2, 3],\n",
      "         [3, 4, 5],\n",
      "         [5, 6, 7]],\n",
      "\n",
      "        [[1, 2, 3],\n",
      "         [3, 4, 5],\n",
      "         [5, 6, 7]]])\n"
     ]
    }
   ],
   "source": [
    "# 3D Tensor\n",
    "# Creating a 3-dimensional tensor (TENSOR_2) with two 3x3 matrices, and displaying it.\n",
    "TENSOR_2 = torch.tensor([[[1, 2, 3],\n",
    "                          [3, 4, 5],\n",
    "                          [5, 6, 7]],\n",
    "\n",
    "                         [[1, 2, 3],\n",
    "                          [3, 4, 5],\n",
    "                          [5, 6, 7]]\n",
    "                         ])\n",
    "\n",
    "print(TENSOR_2)"
   ]
  },
  {
   "cell_type": "code",
   "execution_count": 17,
   "id": "0818286a",
   "metadata": {
    "execution": {
     "iopub.execute_input": "2023-10-28T01:43:02.813839Z",
     "iopub.status.busy": "2023-10-28T01:43:02.813543Z",
     "iopub.status.idle": "2023-10-28T01:43:02.818083Z",
     "shell.execute_reply": "2023-10-28T01:43:02.817187Z"
    },
    "id": "cHaGNCnGOlZb",
    "outputId": "00fcd6a5-3758-4b47-c8e9-d3e4bdbf3332",
    "papermill": {
     "duration": 0.04584,
     "end_time": "2023-10-28T01:43:02.820289",
     "exception": false,
     "start_time": "2023-10-28T01:43:02.774449",
     "status": "completed"
    },
    "tags": []
   },
   "outputs": [
    {
     "name": "stdout",
     "output_type": "stream",
     "text": [
      "Number of Dimensions of TENSOR_2: 3, Shape of TENSOR_2: torch.Size([2, 3, 3])\n"
     ]
    }
   ],
   "source": [
    "# Printing the number of dimensions and the shape of TENSOR_2.\n",
    "# .ndim returns the number of dimensions, and .shape returns the size of each dimension.\n",
    "print(f\"Number of Dimensions of TENSOR_2: {TENSOR_2.ndim}, Shape of TENSOR_2: {TENSOR_2.shape}\")"
   ]
  },
  {
   "cell_type": "code",
   "execution_count": 18,
   "id": "eef8bcf0",
   "metadata": {
    "execution": {
     "iopub.execute_input": "2023-10-28T01:43:02.894388Z",
     "iopub.status.busy": "2023-10-28T01:43:02.894092Z",
     "iopub.status.idle": "2023-10-28T01:43:02.900268Z",
     "shell.execute_reply": "2023-10-28T01:43:02.899404Z"
    },
    "id": "ntgeCd8WPKfU",
    "outputId": "7b132d38-4975-472e-938c-af6085370cc8",
    "papermill": {
     "duration": 0.045441,
     "end_time": "2023-10-28T01:43:02.902250",
     "exception": false,
     "start_time": "2023-10-28T01:43:02.856809",
     "status": "completed"
    },
    "tags": []
   },
   "outputs": [
    {
     "name": "stdout",
     "output_type": "stream",
     "text": [
      "Number of Dimensions of TENSOR_3 is: 3, Shape of TENSOR_3: torch.Size([3, 3, 3])\n"
     ]
    }
   ],
   "source": [
    "# 3D Tensor\n",
    "# Creating a 3-dimensional tensor (TENSOR_3) with three 3x3 matrices, and displaying its number of dimensions and shape.\n",
    "TENSOR_3 = torch.tensor([[[1, 2, 3],\n",
    "                          [3, 4, 5],\n",
    "                          [5, 6, 7]],\n",
    "\n",
    "                         [[1, 2, 3],\n",
    "                          [3, 4, 5],\n",
    "                          [5, 6, 7]],\n",
    "\n",
    "                         [[1, 2, 3],\n",
    "                          [3, 4, 5],\n",
    "                          [5, 6, 7]]\n",
    "                         ])\n",
    "\n",
    "# Printing the number of dimensions and the shape of TENSOR_3.\n",
    "print(f\"Number of Dimensions of TENSOR_3 is: {TENSOR_3.ndim}, Shape of TENSOR_3: {TENSOR_3.shape}\")"
   ]
  },
  {
   "cell_type": "markdown",
   "id": "4aa18477",
   "metadata": {
    "id": "P94566UIPZk8",
    "papermill": {
     "duration": 0.037071,
     "end_time": "2023-10-28T01:43:02.975524",
     "exception": false,
     "start_time": "2023-10-28T01:43:02.938453",
     "status": "completed"
    },
    "tags": []
   },
   "source": [
    "## **Creating Random Tensors**"
   ]
  },
  {
   "cell_type": "code",
   "execution_count": 19,
   "id": "0d4924f9",
   "metadata": {
    "execution": {
     "iopub.execute_input": "2023-10-28T01:43:03.051535Z",
     "iopub.status.busy": "2023-10-28T01:43:03.051225Z",
     "iopub.status.idle": "2023-10-28T01:43:03.108829Z",
     "shell.execute_reply": "2023-10-28T01:43:03.107799Z"
    },
    "id": "Xhqso6WxPg3X",
    "outputId": "5e19117c-d5e6-4f1c-f5df-402188337b02",
    "papermill": {
     "duration": 0.097225,
     "end_time": "2023-10-28T01:43:03.110835",
     "exception": false,
     "start_time": "2023-10-28T01:43:03.013610",
     "status": "completed"
    },
    "tags": []
   },
   "outputs": [
    {
     "name": "stdout",
     "output_type": "stream",
     "text": [
      "tensor([[0.4040, 0.1968, 0.5024, 0.5774],\n",
      "        [0.0024, 0.8129, 0.9515, 0.5040],\n",
      "        [0.2446, 0.2588, 0.4798, 0.1987]])\n"
     ]
    }
   ],
   "source": [
    "# Creating a random tensor of shape (3, 4) with values uniformly distributed between 0 and 1.\n",
    "random_tensor = torch.rand(3, 4)\n",
    "print(random_tensor)"
   ]
  },
  {
   "cell_type": "code",
   "execution_count": 20,
   "id": "bff0e42f",
   "metadata": {
    "execution": {
     "iopub.execute_input": "2023-10-28T01:43:03.188011Z",
     "iopub.status.busy": "2023-10-28T01:43:03.187731Z",
     "iopub.status.idle": "2023-10-28T01:43:03.192335Z",
     "shell.execute_reply": "2023-10-28T01:43:03.191416Z"
    },
    "id": "mvnTVgo1T7Rc",
    "outputId": "2c15dcfe-441c-4363-b276-9b1f31c9ff86",
    "papermill": {
     "duration": 0.046673,
     "end_time": "2023-10-28T01:43:03.194823",
     "exception": false,
     "start_time": "2023-10-28T01:43:03.148150",
     "status": "completed"
    },
    "tags": []
   },
   "outputs": [
    {
     "name": "stdout",
     "output_type": "stream",
     "text": [
      "Number of Dimensions of random_tensor: 2\n"
     ]
    }
   ],
   "source": [
    "# Printing the number of dimensions of random_tensor using the .ndim attribute.\n",
    "print(f\"Number of Dimensions of random_tensor: {random_tensor.ndim}\")"
   ]
  },
  {
   "cell_type": "code",
   "execution_count": 21,
   "id": "d67508f6",
   "metadata": {
    "execution": {
     "iopub.execute_input": "2023-10-28T01:43:03.275912Z",
     "iopub.status.busy": "2023-10-28T01:43:03.275631Z",
     "iopub.status.idle": "2023-10-28T01:43:03.280585Z",
     "shell.execute_reply": "2023-10-28T01:43:03.279688Z"
    },
    "id": "d2MnyFbpT_Ad",
    "outputId": "cde50133-e95b-412f-da3d-992cd0b4f5aa",
    "papermill": {
     "duration": 0.048727,
     "end_time": "2023-10-28T01:43:03.282509",
     "exception": false,
     "start_time": "2023-10-28T01:43:03.233782",
     "status": "completed"
    },
    "tags": []
   },
   "outputs": [
    {
     "name": "stdout",
     "output_type": "stream",
     "text": [
      "Shape of random_tensor: torch.Size([3, 4])\n"
     ]
    }
   ],
   "source": [
    "# Printing the shape of random_tensor using the .shape attribute.\n",
    "# This will return a tuple representing the size of each dimension.\n",
    "print(f\"Shape of random_tensor: {random_tensor.shape}\")"
   ]
  },
  {
   "cell_type": "code",
   "execution_count": 22,
   "id": "751f156b",
   "metadata": {
    "execution": {
     "iopub.execute_input": "2023-10-28T01:43:03.359103Z",
     "iopub.status.busy": "2023-10-28T01:43:03.358792Z",
     "iopub.status.idle": "2023-10-28T01:43:03.365102Z",
     "shell.execute_reply": "2023-10-28T01:43:03.364139Z"
    },
    "id": "UAdKHLhPUBVh",
    "outputId": "712073a3-83b2-4230-df23-28940ebc7a19",
    "papermill": {
     "duration": 0.047431,
     "end_time": "2023-10-28T01:43:03.367095",
     "exception": false,
     "start_time": "2023-10-28T01:43:03.319664",
     "status": "completed"
    },
    "tags": []
   },
   "outputs": [
    {
     "name": "stdout",
     "output_type": "stream",
     "text": [
      "tensor([[[0.9727, 0.4000, 0.4697, 0.9433],\n",
      "         [0.4788, 0.0810, 0.4840, 0.2424],\n",
      "         [0.9889, 0.9818, 0.8022, 0.8394],\n",
      "         [0.4816, 0.9432, 0.9366, 0.8859],\n",
      "         [0.4099, 0.1777, 0.8083, 0.2739],\n",
      "         [0.4185, 0.4140, 0.3383, 0.8796]]])\n"
     ]
    }
   ],
   "source": [
    "# Creating a 3D random tensor of shape (1, 6, 4) with values uniformly distributed between 0 and 1.\n",
    "random_tensor = torch.rand(1, 6, 4)\n",
    "print(random_tensor)"
   ]
  },
  {
   "cell_type": "code",
   "execution_count": 23,
   "id": "75e6c2dd",
   "metadata": {
    "execution": {
     "iopub.execute_input": "2023-10-28T01:43:03.442941Z",
     "iopub.status.busy": "2023-10-28T01:43:03.442259Z",
     "iopub.status.idle": "2023-10-28T01:43:03.448708Z",
     "shell.execute_reply": "2023-10-28T01:43:03.447643Z"
    },
    "id": "5NVV5hE1UZ1X",
    "outputId": "fa567d2f-2962-4654-8944-e5fac4a5f8dd",
    "papermill": {
     "duration": 0.046211,
     "end_time": "2023-10-28T01:43:03.450672",
     "exception": false,
     "start_time": "2023-10-28T01:43:03.404461",
     "status": "completed"
    },
    "tags": []
   },
   "outputs": [
    {
     "name": "stdout",
     "output_type": "stream",
     "text": [
      "Shape of random_image_size_tensor: torch.Size([224, 224, 3]), Number of Dimensions: 3\n"
     ]
    }
   ],
   "source": [
    "# Create a random tensor resembling an image size\n",
    "# Generating a random tensor of shape (224, 224, 3), symbolizing an image of 224x224 pixels with 3 color channels (RGB).\n",
    "random_image_size_tensor = torch.rand(size=(224, 224, 3))\n",
    "\n",
    "# Printing the shape and number of dimensions of the generated tensor.\n",
    "print(f\"Shape of random_image_size_tensor: {random_image_size_tensor.shape}, Number of Dimensions: {random_image_size_tensor.ndim}\")"
   ]
  },
  {
   "cell_type": "markdown",
   "id": "93aa276b",
   "metadata": {
    "id": "zRb7GVNqVm2d",
    "papermill": {
     "duration": 0.03741,
     "end_time": "2023-10-28T01:43:03.525612",
     "exception": false,
     "start_time": "2023-10-28T01:43:03.488202",
     "status": "completed"
    },
    "tags": []
   },
   "source": [
    "## **Zeros and Ones**\n",
    "In PyTorch, you can easily create tensors filled exclusively with zeros or ones. These types of tensors can be particularly useful for various scenarios, such as initializing weights in neural networks, among other use cases."
   ]
  },
  {
   "cell_type": "markdown",
   "id": "6a071121",
   "metadata": {
    "papermill": {
     "duration": 0.037937,
     "end_time": "2023-10-28T01:43:03.600739",
     "exception": false,
     "start_time": "2023-10-28T01:43:03.562802",
     "status": "completed"
    },
    "tags": []
   },
   "source": [
    "#### **Creating a Zero Tensor**\n",
    "You can use the torch.zeros() function to create a tensor filled with zeros. "
   ]
  },
  {
   "cell_type": "code",
   "execution_count": 24,
   "id": "9bea40d4",
   "metadata": {
    "execution": {
     "iopub.execute_input": "2023-10-28T01:43:03.676184Z",
     "iopub.status.busy": "2023-10-28T01:43:03.675201Z",
     "iopub.status.idle": "2023-10-28T01:43:03.683312Z",
     "shell.execute_reply": "2023-10-28T01:43:03.682271Z"
    },
    "id": "YiRiJPF-VpXP",
    "outputId": "623da6c1-93b9-4d34-c753-f79814fa10b5",
    "papermill": {
     "duration": 0.047849,
     "end_time": "2023-10-28T01:43:03.685316",
     "exception": false,
     "start_time": "2023-10-28T01:43:03.637467",
     "status": "completed"
    },
    "tags": []
   },
   "outputs": [
    {
     "name": "stdout",
     "output_type": "stream",
     "text": [
      "Zero Tensor:\n",
      "tensor([[0., 0., 0.],\n",
      "        [0., 0., 0.],\n",
      "        [0., 0., 0.]])\n"
     ]
    }
   ],
   "source": [
    "# Creating a tensor of shape (3, 3) filled with zeros\n",
    "zero_tensor = torch.zeros(3, 3)\n",
    "print(\"Zero Tensor:\")\n",
    "print(zero_tensor)"
   ]
  },
  {
   "cell_type": "markdown",
   "id": "c36f7529",
   "metadata": {
    "papermill": {
     "duration": 0.038619,
     "end_time": "2023-10-28T01:43:03.762521",
     "exception": false,
     "start_time": "2023-10-28T01:43:03.723902",
     "status": "completed"
    },
    "tags": []
   },
   "source": [
    "#### **Creating a One Tensor**\n",
    "Likewise, the torch.ones() function allows you to create a tensor populated with ones. "
   ]
  },
  {
   "cell_type": "code",
   "execution_count": 25,
   "id": "9fc39481",
   "metadata": {
    "execution": {
     "iopub.execute_input": "2023-10-28T01:43:03.838118Z",
     "iopub.status.busy": "2023-10-28T01:43:03.837756Z",
     "iopub.status.idle": "2023-10-28T01:43:03.844555Z",
     "shell.execute_reply": "2023-10-28T01:43:03.843639Z"
    },
    "id": "ZAmK47xXVzAn",
    "outputId": "feed3f13-7db4-473b-821c-d47518f6c86f",
    "papermill": {
     "duration": 0.046894,
     "end_time": "2023-10-28T01:43:03.846445",
     "exception": false,
     "start_time": "2023-10-28T01:43:03.799551",
     "status": "completed"
    },
    "tags": []
   },
   "outputs": [
    {
     "name": "stdout",
     "output_type": "stream",
     "text": [
      "\n",
      "One Tensor:\n",
      "tensor([[1., 1., 1.],\n",
      "        [1., 1., 1.],\n",
      "        [1., 1., 1.]])\n"
     ]
    }
   ],
   "source": [
    "# Creating a tensor of shape (3, 3) filled with ones\n",
    "one_tensor = torch.ones(3, 3)\n",
    "print(\"\\nOne Tensor:\")\n",
    "print(one_tensor)"
   ]
  },
  {
   "cell_type": "code",
   "execution_count": 26,
   "id": "b9a36675",
   "metadata": {
    "execution": {
     "iopub.execute_input": "2023-10-28T01:43:03.922015Z",
     "iopub.status.busy": "2023-10-28T01:43:03.921739Z",
     "iopub.status.idle": "2023-10-28T01:43:03.926770Z",
     "shell.execute_reply": "2023-10-28T01:43:03.925877Z"
    },
    "id": "9vtFO7b5V31M",
    "outputId": "f4cfc5f4-85ba-4426-9861-0d62f404803c",
    "papermill": {
     "duration": 0.044952,
     "end_time": "2023-10-28T01:43:03.928715",
     "exception": false,
     "start_time": "2023-10-28T01:43:03.883763",
     "status": "completed"
    },
    "tags": []
   },
   "outputs": [
    {
     "name": "stdout",
     "output_type": "stream",
     "text": [
      "Data type of zero_tensor: torch.float32\n",
      "Data type of one_tensor: torch.float32\n"
     ]
    }
   ],
   "source": [
    "# Displaying the data types of zero_tensor and one_tensor using the .dtype attribute.\n",
    "# It returns the data type of the tensor's elements.\n",
    "print(f\"Data type of zero_tensor: {zero_tensor.dtype}\")\n",
    "print(f\"Data type of one_tensor: {one_tensor.dtype}\")"
   ]
  },
  {
   "cell_type": "markdown",
   "id": "ad3675ec",
   "metadata": {
    "id": "ism2q17AV54A",
    "papermill": {
     "duration": 0.036544,
     "end_time": "2023-10-28T01:43:04.002183",
     "exception": false,
     "start_time": "2023-10-28T01:43:03.965639",
     "status": "completed"
    },
    "tags": []
   },
   "source": [
    "## **Arange of Tensors and Tensor-like**\n",
    "The torch.arange() function is used to create a 1-dimensional tensor with a sequence of numbers within a specified range. "
   ]
  },
  {
   "cell_type": "code",
   "execution_count": 27,
   "id": "add625c8",
   "metadata": {
    "execution": {
     "iopub.execute_input": "2023-10-28T01:43:04.078126Z",
     "iopub.status.busy": "2023-10-28T01:43:04.077275Z",
     "iopub.status.idle": "2023-10-28T01:43:04.086933Z",
     "shell.execute_reply": "2023-10-28T01:43:04.086087Z"
    },
    "id": "j62QoSg6WP4q",
    "outputId": "4368008d-36ac-497a-d013-0a19f717746b",
    "papermill": {
     "duration": 0.049734,
     "end_time": "2023-10-28T01:43:04.088788",
     "exception": false,
     "start_time": "2023-10-28T01:43:04.039054",
     "status": "completed"
    },
    "tags": []
   },
   "outputs": [
    {
     "name": "stdout",
     "output_type": "stream",
     "text": [
      "Tensor created with torch.arange(0, 10):\n",
      "tensor([0, 1, 2, 3, 4, 5, 6, 7, 8, 9])\n"
     ]
    }
   ],
   "source": [
    "# Creating a 1D tensor with a sequence of integers from 0 to 9.\n",
    "arange_tensor = torch.arange(0, 10)\n",
    "\n",
    "# Printing the created tensor.\n",
    "print(\"Tensor created with torch.arange(0, 10):\")\n",
    "print(arange_tensor)"
   ]
  },
  {
   "cell_type": "code",
   "execution_count": 28,
   "id": "47ab5755",
   "metadata": {
    "execution": {
     "iopub.execute_input": "2023-10-28T01:43:04.164698Z",
     "iopub.status.busy": "2023-10-28T01:43:04.164427Z",
     "iopub.status.idle": "2023-10-28T01:43:04.170046Z",
     "shell.execute_reply": "2023-10-28T01:43:04.169242Z"
    },
    "id": "8RJq3S3iWT7A",
    "outputId": "24e31c6d-d2e8-47de-8eb7-2d017aa85b21",
    "papermill": {
     "duration": 0.046379,
     "end_time": "2023-10-28T01:43:04.172125",
     "exception": false,
     "start_time": "2023-10-28T01:43:04.125746",
     "status": "completed"
    },
    "tags": []
   },
   "outputs": [
    {
     "name": "stdout",
     "output_type": "stream",
     "text": [
      "Tensor created with torch.arange(start=1, end=1000, step=77):\n",
      "tensor([  1,  78, 155, 232, 309, 386, 463, 540, 617, 694, 771, 848, 925])\n"
     ]
    }
   ],
   "source": [
    "# Using torch.arange() with specified start, end, and step values.\n",
    "# Creating a tensor with values starting from 1, ending before 1000, incrementing by 77.\n",
    "one_to_thousand = torch.arange(start=1, end=1000, step=77)\n",
    "\n",
    "# Printing the created tensor.\n",
    "print(\"Tensor created with torch.arange(start=1, end=1000, step=77):\")\n",
    "print(one_to_thousand)"
   ]
  },
  {
   "cell_type": "code",
   "execution_count": 29,
   "id": "70211dd0",
   "metadata": {
    "execution": {
     "iopub.execute_input": "2023-10-28T01:43:04.248465Z",
     "iopub.status.busy": "2023-10-28T01:43:04.248149Z",
     "iopub.status.idle": "2023-10-28T01:43:04.253596Z",
     "shell.execute_reply": "2023-10-28T01:43:04.252773Z"
    },
    "id": "WTcrxrrJXGun",
    "outputId": "9a4bf4bb-e7cd-44b4-e5a9-0979a47dad6d",
    "papermill": {
     "duration": 0.046263,
     "end_time": "2023-10-28T01:43:04.255570",
     "exception": false,
     "start_time": "2023-10-28T01:43:04.209307",
     "status": "completed"
    },
    "tags": []
   },
   "outputs": [
    {
     "data": {
      "text/plain": [
       "torch.Size([13])"
      ]
     },
     "execution_count": 29,
     "metadata": {},
     "output_type": "execute_result"
    }
   ],
   "source": [
    "one_to_thousand.shape"
   ]
  },
  {
   "cell_type": "markdown",
   "id": "a6c7be4b",
   "metadata": {
    "papermill": {
     "duration": 0.038123,
     "end_time": "2023-10-28T01:43:04.332402",
     "exception": false,
     "start_time": "2023-10-28T01:43:04.294279",
     "status": "completed"
    },
    "tags": []
   },
   "source": [
    "#### **Tensor-Like**\n",
    "torch.zeros_like() is a practical function used in various scenarios, primarily when you need a new tensor with the same shape and properties (e.g., data type, device) as an existing tensor but want to initialize it with zeros. "
   ]
  },
  {
   "cell_type": "code",
   "execution_count": 30,
   "id": "fd12475f",
   "metadata": {
    "execution": {
     "iopub.execute_input": "2023-10-28T01:43:04.408221Z",
     "iopub.status.busy": "2023-10-28T01:43:04.407933Z",
     "iopub.status.idle": "2023-10-28T01:43:04.414055Z",
     "shell.execute_reply": "2023-10-28T01:43:04.413141Z"
    },
    "id": "myLdQGs1W-VB",
    "outputId": "0973f94e-cc7c-458b-d18f-ba065161a53e",
    "papermill": {
     "duration": 0.046552,
     "end_time": "2023-10-28T01:43:04.415868",
     "exception": false,
     "start_time": "2023-10-28T01:43:04.369316",
     "status": "completed"
    },
    "tags": []
   },
   "outputs": [
    {
     "name": "stdout",
     "output_type": "stream",
     "text": [
      "Tensor ten_zeros, with the same shape and properties as one_to_ten but filled with zeros:\n",
      "tensor([0, 0, 0, 0, 0, 0, 0, 0, 0, 0])\n"
     ]
    }
   ],
   "source": [
    "one_to_ten = torch.arange(1, 11)  # Creating a tensor with values from 1 to 10\n",
    "\n",
    "# Creating a tensor named ten_zeros with the same shape and properties as one_to_ten, but filled with zeros.\n",
    "ten_zeros = torch.zeros_like(input=one_to_ten)\n",
    "\n",
    "# Printing the ten_zeros tensor\n",
    "print(\"Tensor ten_zeros, with the same shape and properties as one_to_ten but filled with zeros:\")\n",
    "print(ten_zeros)"
   ]
  },
  {
   "cell_type": "markdown",
   "id": "cf23d9ad",
   "metadata": {
    "id": "t92ZQdAzXPLI",
    "papermill": {
     "duration": 0.037556,
     "end_time": "2023-10-28T01:43:04.490959",
     "exception": false,
     "start_time": "2023-10-28T01:43:04.453403",
     "status": "completed"
    },
    "tags": []
   },
   "source": [
    "## **Tensor Data Types**"
   ]
  },
  {
   "cell_type": "markdown",
   "id": "44e00e57",
   "metadata": {
    "papermill": {
     "duration": 0.037651,
     "end_time": "2023-10-28T01:43:04.566916",
     "exception": false,
     "start_time": "2023-10-28T01:43:04.529265",
     "status": "completed"
    },
    "tags": []
   },
   "source": [
    "#### **Float 16**"
   ]
  },
  {
   "cell_type": "code",
   "execution_count": 31,
   "id": "8d441f6b",
   "metadata": {
    "execution": {
     "iopub.execute_input": "2023-10-28T01:43:04.647013Z",
     "iopub.status.busy": "2023-10-28T01:43:04.646734Z",
     "iopub.status.idle": "2023-10-28T01:43:04.657546Z",
     "shell.execute_reply": "2023-10-28T01:43:04.656554Z"
    },
    "papermill": {
     "duration": 0.053003,
     "end_time": "2023-10-28T01:43:04.659747",
     "exception": false,
     "start_time": "2023-10-28T01:43:04.606744",
     "status": "completed"
    },
    "tags": []
   },
   "outputs": [
    {
     "name": "stdout",
     "output_type": "stream",
     "text": [
      "Tensor: tensor([3., 6., 9.], dtype=torch.float16), Data Type: torch.float16\n"
     ]
    }
   ],
   "source": [
    "# Creating a tensor with floating-point values and specifying the data type as torch.float16.\n",
    "float_16_tensor = torch.tensor([3.0, 6.0, 9.0], dtype=torch.float16)\n",
    "\n",
    "# Printing the tensor and its data type.\n",
    "print(f\"Tensor: {float_16_tensor}, Data Type: {float_16_tensor.dtype}\")"
   ]
  },
  {
   "cell_type": "markdown",
   "id": "e6f2f8cb",
   "metadata": {
    "papermill": {
     "duration": 0.039244,
     "end_time": "2023-10-28T01:43:04.736303",
     "exception": false,
     "start_time": "2023-10-28T01:43:04.697059",
     "status": "completed"
    },
    "tags": []
   },
   "source": [
    "#### **Float 32**"
   ]
  },
  {
   "cell_type": "code",
   "execution_count": 32,
   "id": "0e0909ac",
   "metadata": {
    "execution": {
     "iopub.execute_input": "2023-10-28T01:43:04.817684Z",
     "iopub.status.busy": "2023-10-28T01:43:04.817307Z",
     "iopub.status.idle": "2023-10-28T01:43:04.824549Z",
     "shell.execute_reply": "2023-10-28T01:43:04.823421Z"
    },
    "id": "Eaj8hiWIXq2M",
    "outputId": "b3ada270-0d87-4ab0-8bbd-7b175746edd6",
    "papermill": {
     "duration": 0.051978,
     "end_time": "2023-10-28T01:43:04.826836",
     "exception": false,
     "start_time": "2023-10-28T01:43:04.774858",
     "status": "completed"
    },
    "tags": []
   },
   "outputs": [
    {
     "name": "stdout",
     "output_type": "stream",
     "text": [
      "Tensor: tensor([3., 6., 9.]), Data Type: torch.float32\n"
     ]
    }
   ],
   "source": [
    "# Creating a tensor with floating-point values and letting PyTorch infer the data type.\n",
    "float_32_tensor = torch.tensor([3.0, 6.0, 9.0], dtype=None)\n",
    "\n",
    "# Printing the tensor and its data type.\n",
    "print(f\"Tensor: {float_32_tensor}, Data Type: {float_32_tensor.dtype}\")"
   ]
  },
  {
   "cell_type": "code",
   "execution_count": 33,
   "id": "6c878df4",
   "metadata": {
    "execution": {
     "iopub.execute_input": "2023-10-28T01:43:04.907523Z",
     "iopub.status.busy": "2023-10-28T01:43:04.907256Z",
     "iopub.status.idle": "2023-10-28T01:43:04.913410Z",
     "shell.execute_reply": "2023-10-28T01:43:04.912397Z"
    },
    "id": "FlJ61GoiX-zE",
    "outputId": "434c94c2-f267-4cfe-d6a7-43c0d0e8e494",
    "papermill": {
     "duration": 0.046357,
     "end_time": "2023-10-28T01:43:04.915402",
     "exception": false,
     "start_time": "2023-10-28T01:43:04.869045",
     "status": "completed"
    },
    "tags": []
   },
   "outputs": [
    {
     "name": "stdout",
     "output_type": "stream",
     "text": [
      "Tensor: tensor([3., 6., 9.]), Data Type: torch.float32\n"
     ]
    }
   ],
   "source": [
    "# Creating a tensor with additional specifications: dtype, device, and requires_grad.\n",
    "float_32_tensor = torch.tensor([3.0, 6.0, 9.0],  # Data values\n",
    "                               dtype=None,        # Data Type: Not explicitly set, will be inferred\n",
    "                               device=None,       # Device: Not explicitly set, will use the default device (usually CPU)\n",
    "                               requires_grad=False)  # Track Gradients: False\n",
    "\n",
    "# Printing the tensor and its data type.\n",
    "print(f\"Tensor: {float_32_tensor}, Data Type: {float_32_tensor.dtype}\")"
   ]
  },
  {
   "cell_type": "code",
   "execution_count": 34,
   "id": "11dc012e",
   "metadata": {
    "execution": {
     "iopub.execute_input": "2023-10-28T01:43:04.994332Z",
     "iopub.status.busy": "2023-10-28T01:43:04.994059Z",
     "iopub.status.idle": "2023-10-28T01:43:05.000019Z",
     "shell.execute_reply": "2023-10-28T01:43:04.998862Z"
    },
    "id": "btGExBmlZ4Xk",
    "outputId": "257b6f6d-909d-4196-b248-d745cce65b8a",
    "papermill": {
     "duration": 0.048155,
     "end_time": "2023-10-28T01:43:05.002096",
     "exception": false,
     "start_time": "2023-10-28T01:43:04.953941",
     "status": "completed"
    },
    "tags": []
   },
   "outputs": [
    {
     "name": "stdout",
     "output_type": "stream",
     "text": [
      "Result Tensor: tensor([ 9., 36., 81.]), Data Type: torch.float32\n"
     ]
    }
   ],
   "source": [
    "# Element-wise multiplication between two tensors: float_16_tensor and float_32_tensor.\n",
    "nn = float_16_tensor * float_32_tensor\n",
    "\n",
    "# Printing the result tensor and its data type.\n",
    "print(f\"Result Tensor: {nn}, Data Type: {nn.dtype}\")"
   ]
  },
  {
   "cell_type": "code",
   "execution_count": 35,
   "id": "99b05196",
   "metadata": {
    "execution": {
     "iopub.execute_input": "2023-10-28T01:43:05.086353Z",
     "iopub.status.busy": "2023-10-28T01:43:05.086057Z",
     "iopub.status.idle": "2023-10-28T01:43:05.091576Z",
     "shell.execute_reply": "2023-10-28T01:43:05.090720Z"
    },
    "id": "zPMod49uaYAJ",
    "outputId": "2cba4580-39ed-4a4a-f571-ddc46182606e",
    "papermill": {
     "duration": 0.04727,
     "end_time": "2023-10-28T01:43:05.093595",
     "exception": false,
     "start_time": "2023-10-28T01:43:05.046325",
     "status": "completed"
    },
    "tags": []
   },
   "outputs": [
    {
     "name": "stdout",
     "output_type": "stream",
     "text": [
      "tensor([3, 4, 2], dtype=torch.int32)\n"
     ]
    }
   ],
   "source": [
    "# Creating a tensor with integer values and specifying the data type as torch.int32.\n",
    "int_32_tensor = torch.tensor([3, 4, 2], dtype=torch.int32)\n",
    "\n",
    "# Printing the created tensor.\n",
    "print(int_32_tensor)"
   ]
  },
  {
   "cell_type": "code",
   "execution_count": 36,
   "id": "7ecf2b9c",
   "metadata": {
    "execution": {
     "iopub.execute_input": "2023-10-28T01:43:05.173784Z",
     "iopub.status.busy": "2023-10-28T01:43:05.173500Z",
     "iopub.status.idle": "2023-10-28T01:43:05.182547Z",
     "shell.execute_reply": "2023-10-28T01:43:05.181685Z"
    },
    "id": "ibrEoYhiaoLr",
    "outputId": "0a205e02-1baf-4294-b6d7-7d4907616909",
    "papermill": {
     "duration": 0.051775,
     "end_time": "2023-10-28T01:43:05.184506",
     "exception": false,
     "start_time": "2023-10-28T01:43:05.132731",
     "status": "completed"
    },
    "tags": []
   },
   "outputs": [
    {
     "data": {
      "text/plain": [
       "tensor([ 9., 24., 18.], dtype=torch.float16)"
      ]
     },
     "execution_count": 36,
     "metadata": {},
     "output_type": "execute_result"
    }
   ],
   "source": [
    "float_16_tensor*int_32_tensor"
   ]
  },
  {
   "cell_type": "markdown",
   "id": "21939d28",
   "metadata": {
    "id": "4uC9teP_bT_K",
    "papermill": {
     "duration": 0.037679,
     "end_time": "2023-10-28T01:43:05.259994",
     "exception": false,
     "start_time": "2023-10-28T01:43:05.222315",
     "status": "completed"
    },
    "tags": []
   },
   "source": [
    "## **Manipulation of Tensors**"
   ]
  },
  {
   "cell_type": "markdown",
   "id": "d1efa50d",
   "metadata": {
    "id": "deQ7qc3YdjEM",
    "papermill": {
     "duration": 0.039571,
     "end_time": "2023-10-28T01:43:05.337997",
     "exception": false,
     "start_time": "2023-10-28T01:43:05.298426",
     "status": "completed"
    },
    "tags": []
   },
   "source": [
    "In PyTorch, tensors can be manipulated in various ways to perform mathematical operations, reshape their dimensions, and more. This section explores some common tensor operations:"
   ]
  },
  {
   "cell_type": "markdown",
   "id": "74fa0a2f",
   "metadata": {
    "papermill": {
     "duration": 0.039422,
     "end_time": "2023-10-28T01:43:05.417510",
     "exception": false,
     "start_time": "2023-10-28T01:43:05.378088",
     "status": "completed"
    },
    "tags": []
   },
   "source": [
    "#### **1. Tensor Arithmetic Operations**\n",
    "You can perform basic arithmetic operations on tensors, such as addition, subtraction, multiplication, and division. For example:"
   ]
  },
  {
   "cell_type": "code",
   "execution_count": 37,
   "id": "a1886807",
   "metadata": {
    "execution": {
     "iopub.execute_input": "2023-10-28T01:43:05.494493Z",
     "iopub.status.busy": "2023-10-28T01:43:05.494170Z",
     "iopub.status.idle": "2023-10-28T01:43:05.502951Z",
     "shell.execute_reply": "2023-10-28T01:43:05.502137Z"
    },
    "papermill": {
     "duration": 0.04948,
     "end_time": "2023-10-28T01:43:05.504807",
     "exception": false,
     "start_time": "2023-10-28T01:43:05.455327",
     "status": "completed"
    },
    "tags": []
   },
   "outputs": [
    {
     "data": {
      "text/plain": [
       "tensor([5, 7, 9])"
      ]
     },
     "execution_count": 37,
     "metadata": {},
     "output_type": "execute_result"
    }
   ],
   "source": [
    "# Creating two tensors\n",
    "tensor1 = torch.tensor([1, 2, 3])\n",
    "tensor2 = torch.tensor([4, 5, 6])\n",
    "\n",
    "# Addition\n",
    "result_addition = tensor1 + tensor2\n",
    "result_addition"
   ]
  },
  {
   "cell_type": "code",
   "execution_count": 38,
   "id": "0258e6fa",
   "metadata": {
    "execution": {
     "iopub.execute_input": "2023-10-28T01:43:05.582213Z",
     "iopub.status.busy": "2023-10-28T01:43:05.581934Z",
     "iopub.status.idle": "2023-10-28T01:43:05.591076Z",
     "shell.execute_reply": "2023-10-28T01:43:05.590057Z"
    },
    "papermill": {
     "duration": 0.049952,
     "end_time": "2023-10-28T01:43:05.593066",
     "exception": false,
     "start_time": "2023-10-28T01:43:05.543114",
     "status": "completed"
    },
    "tags": []
   },
   "outputs": [
    {
     "data": {
      "text/plain": [
       "tensor([-3, -3, -3])"
      ]
     },
     "execution_count": 38,
     "metadata": {},
     "output_type": "execute_result"
    }
   ],
   "source": [
    "# Subtraction\n",
    "result_subtraction = tensor1 - tensor2\n",
    "result_subtraction"
   ]
  },
  {
   "cell_type": "code",
   "execution_count": 39,
   "id": "d36c0d7e",
   "metadata": {
    "execution": {
     "iopub.execute_input": "2023-10-28T01:43:05.672151Z",
     "iopub.status.busy": "2023-10-28T01:43:05.671864Z",
     "iopub.status.idle": "2023-10-28T01:43:05.678655Z",
     "shell.execute_reply": "2023-10-28T01:43:05.677653Z"
    },
    "papermill": {
     "duration": 0.049094,
     "end_time": "2023-10-28T01:43:05.680721",
     "exception": false,
     "start_time": "2023-10-28T01:43:05.631627",
     "status": "completed"
    },
    "tags": []
   },
   "outputs": [
    {
     "data": {
      "text/plain": [
       "tensor([ 4, 10, 18])"
      ]
     },
     "execution_count": 39,
     "metadata": {},
     "output_type": "execute_result"
    }
   ],
   "source": [
    "# Multiplication\n",
    "result_multiplication = tensor1 * tensor2\n",
    "result_multiplication"
   ]
  },
  {
   "cell_type": "code",
   "execution_count": 40,
   "id": "9cd823fa",
   "metadata": {
    "execution": {
     "iopub.execute_input": "2023-10-28T01:43:05.764104Z",
     "iopub.status.busy": "2023-10-28T01:43:05.763838Z",
     "iopub.status.idle": "2023-10-28T01:43:05.770350Z",
     "shell.execute_reply": "2023-10-28T01:43:05.769535Z"
    },
    "papermill": {
     "duration": 0.049968,
     "end_time": "2023-10-28T01:43:05.772252",
     "exception": false,
     "start_time": "2023-10-28T01:43:05.722284",
     "status": "completed"
    },
    "tags": []
   },
   "outputs": [
    {
     "data": {
      "text/plain": [
       "tensor([0.2500, 0.4000, 0.5000])"
      ]
     },
     "execution_count": 40,
     "metadata": {},
     "output_type": "execute_result"
    }
   ],
   "source": [
    "# Division\n",
    "result_division = tensor1 / tensor2\n",
    "result_division"
   ]
  },
  {
   "cell_type": "markdown",
   "id": "9ec66784",
   "metadata": {
    "papermill": {
     "duration": 0.038823,
     "end_time": "2023-10-28T01:43:05.851116",
     "exception": false,
     "start_time": "2023-10-28T01:43:05.812293",
     "status": "completed"
    },
    "tags": []
   },
   "source": [
    "#### **2. Reshaping Tensors**\n",
    "You can change the shape of a tensor using the .reshape() method or the .view() method. For example:"
   ]
  },
  {
   "cell_type": "code",
   "execution_count": 41,
   "id": "7d4f18f1",
   "metadata": {
    "execution": {
     "iopub.execute_input": "2023-10-28T01:43:05.933530Z",
     "iopub.status.busy": "2023-10-28T01:43:05.933168Z",
     "iopub.status.idle": "2023-10-28T01:43:05.938331Z",
     "shell.execute_reply": "2023-10-28T01:43:05.937434Z"
    },
    "papermill": {
     "duration": 0.04821,
     "end_time": "2023-10-28T01:43:05.940379",
     "exception": false,
     "start_time": "2023-10-28T01:43:05.892169",
     "status": "completed"
    },
    "tags": []
   },
   "outputs": [],
   "source": [
    "# Reshaping a tensor to a different shape\n",
    "original_tensor = torch.tensor([[1, 2], [3, 4], [5, 6]])\n",
    "reshaped_tensor = original_tensor.reshape(2, 3)"
   ]
  },
  {
   "cell_type": "markdown",
   "id": "d3c6cbb0",
   "metadata": {
    "papermill": {
     "duration": 0.038343,
     "end_time": "2023-10-28T01:43:06.017644",
     "exception": false,
     "start_time": "2023-10-28T01:43:05.979301",
     "status": "completed"
    },
    "tags": []
   },
   "source": [
    "#### **3. Reduction Operations**\n",
    "Reduction operations allow you to perform computations across the elements of a tensor. Common reduction operations include sum, mean, minimum, and maximum:"
   ]
  },
  {
   "cell_type": "code",
   "execution_count": 42,
   "id": "333ec02e",
   "metadata": {
    "execution": {
     "iopub.execute_input": "2023-10-28T01:43:06.096673Z",
     "iopub.status.busy": "2023-10-28T01:43:06.096343Z",
     "iopub.status.idle": "2023-10-28T01:43:06.109417Z",
     "shell.execute_reply": "2023-10-28T01:43:06.108506Z"
    },
    "papermill": {
     "duration": 0.054751,
     "end_time": "2023-10-28T01:43:06.111600",
     "exception": false,
     "start_time": "2023-10-28T01:43:06.056849",
     "status": "completed"
    },
    "tags": []
   },
   "outputs": [
    {
     "name": "stdout",
     "output_type": "stream",
     "text": [
      "Sum: tensor(15.)\n",
      "Mean: tensor(3.)\n",
      "Min: tensor(1.)\n",
      "Max: tensor(5.)\n"
     ]
    }
   ],
   "source": [
    "tensor = torch.tensor([1, 2, 3, 4, 5], dtype=torch.float32)  # Convert to float32\n",
    "sum_result = torch.sum(tensor)\n",
    "mean_result = torch.mean(tensor)\n",
    "min_result = torch.min(tensor)\n",
    "max_result = torch.max(tensor)\n",
    "\n",
    "print(\"Sum:\", sum_result)\n",
    "print(\"Mean:\", mean_result)\n",
    "print(\"Min:\", min_result)\n",
    "print(\"Max:\", max_result)"
   ]
  },
  {
   "cell_type": "markdown",
   "id": "94812a40",
   "metadata": {
    "papermill": {
     "duration": 0.038406,
     "end_time": "2023-10-28T01:43:06.189179",
     "exception": false,
     "start_time": "2023-10-28T01:43:06.150773",
     "status": "completed"
    },
    "tags": []
   },
   "source": [
    "#### **4. Element-wise Functions**\n",
    "PyTorch provides various element-wise functions, such as torch.sin(), torch.cos(), torch.exp(), and more, to apply mathematical functions to each element of a tensor:"
   ]
  },
  {
   "cell_type": "code",
   "execution_count": 43,
   "id": "7d03c0b8",
   "metadata": {
    "execution": {
     "iopub.execute_input": "2023-10-28T01:43:06.269110Z",
     "iopub.status.busy": "2023-10-28T01:43:06.268826Z",
     "iopub.status.idle": "2023-10-28T01:43:06.319021Z",
     "shell.execute_reply": "2023-10-28T01:43:06.317578Z"
    },
    "papermill": {
     "duration": 0.092291,
     "end_time": "2023-10-28T01:43:06.321185",
     "exception": false,
     "start_time": "2023-10-28T01:43:06.228894",
     "status": "completed"
    },
    "tags": []
   },
   "outputs": [],
   "source": [
    "# Element-wise functions\n",
    "tensor = torch.tensor([0.0, 1.0, 2.0])\n",
    "sin_result = torch.sin(tensor)\n",
    "exp_result = torch.exp(tensor)"
   ]
  },
  {
   "cell_type": "markdown",
   "id": "b2c64493",
   "metadata": {
    "papermill": {
     "duration": 0.039212,
     "end_time": "2023-10-28T01:43:06.398894",
     "exception": false,
     "start_time": "2023-10-28T01:43:06.359682",
     "status": "completed"
    },
    "tags": []
   },
   "source": [
    "#### **5. Indexing and Slicing**\n",
    "You can access specific elements or slices of a tensor using indexing and slicing operations:"
   ]
  },
  {
   "cell_type": "code",
   "execution_count": 44,
   "id": "aa3c7f11",
   "metadata": {
    "execution": {
     "iopub.execute_input": "2023-10-28T01:43:06.476981Z",
     "iopub.status.busy": "2023-10-28T01:43:06.476687Z",
     "iopub.status.idle": "2023-10-28T01:43:06.486707Z",
     "shell.execute_reply": "2023-10-28T01:43:06.485889Z"
    },
    "papermill": {
     "duration": 0.051257,
     "end_time": "2023-10-28T01:43:06.488650",
     "exception": false,
     "start_time": "2023-10-28T01:43:06.437393",
     "status": "completed"
    },
    "tags": []
   },
   "outputs": [],
   "source": [
    "# Indexing and slicing\n",
    "tensor = torch.tensor([1, 2, 3, 4, 5])\n",
    "element_at_index_2 = tensor[2]\n",
    "slice = tensor[1:4]"
   ]
  },
  {
   "cell_type": "markdown",
   "id": "703e6835",
   "metadata": {
    "id": "oOxeo3rmduvK",
    "papermill": {
     "duration": 0.037749,
     "end_time": "2023-10-28T01:43:06.564984",
     "exception": false,
     "start_time": "2023-10-28T01:43:06.527235",
     "status": "completed"
    },
    "tags": []
   },
   "source": [
    "\n",
    "PyTorch also has a bunch of built-in functions like torch.mul() (short for multiplication) and torch.add() to perform basic operations."
   ]
  },
  {
   "cell_type": "markdown",
   "id": "ed87dec4",
   "metadata": {
    "id": "AuuScX1Ed5N8",
    "papermill": {
     "duration": 0.038877,
     "end_time": "2023-10-28T01:43:06.643910",
     "exception": false,
     "start_time": "2023-10-28T01:43:06.605033",
     "status": "completed"
    },
    "tags": []
   },
   "source": [
    "#### **6. Matrix Multiplication**\n",
    "Matrix multiplication, also known as matrix product or dot product, is a fundamental operation in linear algebra. In PyTorch, you can perform matrix multiplication efficiently using various methods."
   ]
  },
  {
   "cell_type": "code",
   "execution_count": 45,
   "id": "4af7a910",
   "metadata": {
    "execution": {
     "iopub.execute_input": "2023-10-28T01:43:06.723149Z",
     "iopub.status.busy": "2023-10-28T01:43:06.722517Z",
     "iopub.status.idle": "2023-10-28T01:43:06.729220Z",
     "shell.execute_reply": "2023-10-28T01:43:06.728108Z"
    },
    "id": "vsstfW4UfHDX",
    "outputId": "4364bd83-c899-429d-d2dd-63b3ab6539a4",
    "papermill": {
     "duration": 0.04947,
     "end_time": "2023-10-28T01:43:06.731479",
     "exception": false,
     "start_time": "2023-10-28T01:43:06.682009",
     "status": "completed"
    },
    "tags": []
   },
   "outputs": [
    {
     "name": "stdout",
     "output_type": "stream",
     "text": [
      "Tensor: tensor([1, 2, 3])\n",
      "Element-wise Multiplication Result: tensor([1, 4, 9])\n"
     ]
    }
   ],
   "source": [
    "# Creating a tensor\n",
    "tensor = torch.tensor([1, 2, 3])\n",
    "\n",
    "# Element-wise multiplication: Each element multiplies its equivalent (index 0->0, 1->1, 2->2)\n",
    "result = tensor * tensor\n",
    "\n",
    "# Printing the tensor and its element-wise multiplication\n",
    "print(\"Tensor:\", tensor)\n",
    "print(\"Element-wise Multiplication Result:\", result)"
   ]
  },
  {
   "cell_type": "code",
   "execution_count": 46,
   "id": "aece3deb",
   "metadata": {
    "execution": {
     "iopub.execute_input": "2023-10-28T01:43:06.812301Z",
     "iopub.status.busy": "2023-10-28T01:43:06.812011Z",
     "iopub.status.idle": "2023-10-28T01:43:06.823774Z",
     "shell.execute_reply": "2023-10-28T01:43:06.822721Z"
    },
    "id": "WJ9YeeSRfSpS",
    "outputId": "b8ac4a25-2142-49d8-86b2-109e7081fa86",
    "papermill": {
     "duration": 0.054224,
     "end_time": "2023-10-28T01:43:06.825936",
     "exception": false,
     "start_time": "2023-10-28T01:43:06.771712",
     "status": "completed"
    },
    "tags": []
   },
   "outputs": [
    {
     "data": {
      "text/plain": [
       "tensor([[19, 22],\n",
       "        [43, 50]])"
      ]
     },
     "execution_count": 46,
     "metadata": {},
     "output_type": "execute_result"
    }
   ],
   "source": [
    "# Create two matrices\n",
    "matrix1 = torch.tensor([[1, 2], [3, 4]])\n",
    "matrix2 = torch.tensor([[5, 6], [7, 8]])\n",
    "\n",
    "# Perform matrix multiplication using torch.matmul()\n",
    "result_matmul = torch.matmul(matrix1, matrix2)\n",
    "result_matmul"
   ]
  },
  {
   "cell_type": "markdown",
   "id": "b46e08e5",
   "metadata": {
    "papermill": {
     "duration": 0.038582,
     "end_time": "2023-10-28T01:43:06.903446",
     "exception": false,
     "start_time": "2023-10-28T01:43:06.864864",
     "status": "completed"
    },
    "tags": []
   },
   "source": [
    "*You can use the torch.matmul() function to perform matrix multiplication. It takes two tensors as arguments and returns their matrix product.*"
   ]
  },
  {
   "cell_type": "code",
   "execution_count": 47,
   "id": "e2d7b38c",
   "metadata": {
    "execution": {
     "iopub.execute_input": "2023-10-28T01:43:06.983063Z",
     "iopub.status.busy": "2023-10-28T01:43:06.982781Z",
     "iopub.status.idle": "2023-10-28T01:43:06.989636Z",
     "shell.execute_reply": "2023-10-28T01:43:06.988681Z"
    },
    "id": "CgJHx1LNfVv4",
    "outputId": "a32717ca-77f5-48a8-d1ed-dbe849340eba",
    "papermill": {
     "duration": 0.0486,
     "end_time": "2023-10-28T01:43:06.991511",
     "exception": false,
     "start_time": "2023-10-28T01:43:06.942911",
     "status": "completed"
    },
    "tags": []
   },
   "outputs": [
    {
     "data": {
      "text/plain": [
       "tensor([[19, 22],\n",
       "        [43, 50]])"
      ]
     },
     "execution_count": 47,
     "metadata": {},
     "output_type": "execute_result"
    }
   ],
   "source": [
    "# Perform matrix multiplication using the @ operator\n",
    "result_operator = matrix1 @ matrix2\n",
    "result_operator"
   ]
  },
  {
   "cell_type": "markdown",
   "id": "70113c2b",
   "metadata": {
    "papermill": {
     "duration": 0.038443,
     "end_time": "2023-10-28T01:43:07.068480",
     "exception": false,
     "start_time": "2023-10-28T01:43:07.030037",
     "status": "completed"
    },
    "tags": []
   },
   "source": [
    "*PyTorch also provides the @ operator, which is a convenient way to perform matrix multiplication.*"
   ]
  },
  {
   "cell_type": "markdown",
   "id": "f42108bd",
   "metadata": {
    "id": "npE1J0hCgJ7o",
    "papermill": {
     "duration": 0.038832,
     "end_time": "2023-10-28T01:43:07.146450",
     "exception": false,
     "start_time": "2023-10-28T01:43:07.107618",
     "status": "completed"
    },
    "tags": []
   },
   "source": [
    "#### **Important**\n",
    "***One of the most common errors in deep learning (shape errors)\n",
    "Because much of deep learning is multiplying and performing operations on matrices and matrices have a strict rule about what shapes and sizes can be combined, one of the most common errors you'll run into in deep learning is shape mismatches.***"
   ]
  },
  {
   "cell_type": "code",
   "execution_count": 48,
   "id": "d662fad7",
   "metadata": {
    "execution": {
     "iopub.execute_input": "2023-10-28T01:43:07.225801Z",
     "iopub.status.busy": "2023-10-28T01:43:07.225483Z",
     "iopub.status.idle": "2023-10-28T01:43:07.730786Z",
     "shell.execute_reply": "2023-10-28T01:43:07.729446Z"
    },
    "id": "fjIaLWsIgChR",
    "outputId": "bf008331-9e04-4a29-ff12-d4343ba826d7",
    "papermill": {
     "duration": 0.547125,
     "end_time": "2023-10-28T01:43:07.732711",
     "exception": true,
     "start_time": "2023-10-28T01:43:07.185586",
     "status": "failed"
    },
    "tags": []
   },
   "outputs": [
    {
     "ename": "RuntimeError",
     "evalue": "mat1 and mat2 shapes cannot be multiplied (3x2 and 3x2)",
     "output_type": "error",
     "traceback": [
      "\u001b[0;31m---------------------------------------------------------------------------\u001b[0m",
      "\u001b[0;31mRuntimeError\u001b[0m                              Traceback (most recent call last)",
      "Cell \u001b[0;32mIn[48], line 10\u001b[0m\n\u001b[1;32m      2\u001b[0m tensor_A \u001b[38;5;241m=\u001b[39m torch\u001b[38;5;241m.\u001b[39mtensor([[\u001b[38;5;241m1\u001b[39m, \u001b[38;5;241m2\u001b[39m],\n\u001b[1;32m      3\u001b[0m                          [\u001b[38;5;241m3\u001b[39m, \u001b[38;5;241m4\u001b[39m],\n\u001b[1;32m      4\u001b[0m                          [\u001b[38;5;241m5\u001b[39m, \u001b[38;5;241m6\u001b[39m]], dtype\u001b[38;5;241m=\u001b[39mtorch\u001b[38;5;241m.\u001b[39mfloat32)\n\u001b[1;32m      6\u001b[0m tensor_B \u001b[38;5;241m=\u001b[39m torch\u001b[38;5;241m.\u001b[39mtensor([[\u001b[38;5;241m7\u001b[39m, \u001b[38;5;241m10\u001b[39m],\n\u001b[1;32m      7\u001b[0m                          [\u001b[38;5;241m8\u001b[39m, \u001b[38;5;241m11\u001b[39m],\n\u001b[1;32m      8\u001b[0m                          [\u001b[38;5;241m9\u001b[39m, \u001b[38;5;241m12\u001b[39m]], dtype\u001b[38;5;241m=\u001b[39mtorch\u001b[38;5;241m.\u001b[39mfloat32)\n\u001b[0;32m---> 10\u001b[0m \u001b[43mtorch\u001b[49m\u001b[38;5;241;43m.\u001b[39;49m\u001b[43mmatmul\u001b[49m\u001b[43m(\u001b[49m\u001b[43mtensor_A\u001b[49m\u001b[43m,\u001b[49m\u001b[43m \u001b[49m\u001b[43mtensor_B\u001b[49m\u001b[43m)\u001b[49m \u001b[38;5;66;03m# (this will error)\u001b[39;00m\n\u001b[1;32m     11\u001b[0m \u001b[38;5;66;03m# This will produce an error as expected because of the shape missmatch.\u001b[39;00m\n",
      "\u001b[0;31mRuntimeError\u001b[0m: mat1 and mat2 shapes cannot be multiplied (3x2 and 3x2)"
     ]
    }
   ],
   "source": [
    "# Shapes need to be in the right way\n",
    "tensor_A = torch.tensor([[1, 2],\n",
    "                         [3, 4],\n",
    "                         [5, 6]], dtype=torch.float32)\n",
    "\n",
    "tensor_B = torch.tensor([[7, 10],\n",
    "                         [8, 11],\n",
    "                         [9, 12]], dtype=torch.float32)\n",
    "\n",
    "torch.matmul(tensor_A, tensor_B) # (this will error)\n",
    "# This will produce an error as expected because of the shape missmatch."
   ]
  },
  {
   "cell_type": "markdown",
   "id": "5f8d9dd6",
   "metadata": {
    "id": "RDdHuKH2guap",
    "papermill": {
     "duration": null,
     "end_time": null,
     "exception": null,
     "start_time": null,
     "status": "pending"
    },
    "tags": []
   },
   "source": [
    "We can make matrix multiplication work between tensor_A and tensor_B by making their inner dimensions match.\n",
    "\n",
    "One of the ways to do this is with a transpose (switch the dimensions of a given tensor).\n",
    "\n",
    "You can perform transposes in PyTorch using either:\n",
    "\n",
    "torch.transpose(input, dim0, dim1) - where input is the desired tensor to transpose and dim0 and dim1 are the dimensions to be swapped.\n",
    "tensor.T - where tensor is the desired tensor to transpose"
   ]
  },
  {
   "cell_type": "code",
   "execution_count": null,
   "id": "4407c506",
   "metadata": {
    "execution": {
     "iopub.execute_input": "2023-10-28T01:34:46.520644Z",
     "iopub.status.busy": "2023-10-28T01:34:46.520273Z",
     "iopub.status.idle": "2023-10-28T01:34:46.529271Z",
     "shell.execute_reply": "2023-10-28T01:34:46.528272Z",
     "shell.execute_reply.started": "2023-10-28T01:34:46.520617Z"
    },
    "id": "_RNxk2-KgP8w",
    "outputId": "609d78de-067b-4e59-d759-4d2baae77539",
    "papermill": {
     "duration": null,
     "end_time": null,
     "exception": null,
     "start_time": null,
     "status": "pending"
    },
    "tags": []
   },
   "outputs": [],
   "source": [
    "# View tensor_A and tensor_B\n",
    "print(tensor_A)\n",
    "print(tensor_B)"
   ]
  },
  {
   "cell_type": "code",
   "execution_count": null,
   "id": "edbb2f7c",
   "metadata": {
    "execution": {
     "iopub.execute_input": "2023-10-28T01:34:46.531516Z",
     "iopub.status.busy": "2023-10-28T01:34:46.530884Z",
     "iopub.status.idle": "2023-10-28T01:34:46.556779Z",
     "shell.execute_reply": "2023-10-28T01:34:46.555684Z",
     "shell.execute_reply.started": "2023-10-28T01:34:46.531490Z"
    },
    "id": "k26-z3q4gxl9",
    "outputId": "cbbdeace-e592-4d63-a48c-a1cd5dcde30b",
    "papermill": {
     "duration": null,
     "end_time": null,
     "exception": null,
     "start_time": null,
     "status": "pending"
    },
    "tags": []
   },
   "outputs": [],
   "source": [
    "# View tensor_A and tensor_B.T\n",
    "print(tensor_A)\n",
    "print(tensor_B.T)"
   ]
  },
  {
   "cell_type": "code",
   "execution_count": null,
   "id": "22735d3a",
   "metadata": {
    "execution": {
     "iopub.execute_input": "2023-10-28T01:34:46.558748Z",
     "iopub.status.busy": "2023-10-28T01:34:46.558379Z",
     "iopub.status.idle": "2023-10-28T01:34:46.583503Z",
     "shell.execute_reply": "2023-10-28T01:34:46.582428Z",
     "shell.execute_reply.started": "2023-10-28T01:34:46.558716Z"
    },
    "id": "LmkQ98JOg0cd",
    "outputId": "ed80521a-1134-4552-e218-6bce8758da78",
    "papermill": {
     "duration": null,
     "end_time": null,
     "exception": null,
     "start_time": null,
     "status": "pending"
    },
    "tags": []
   },
   "outputs": [],
   "source": [
    "# The operation works when tensor_B is transposed\n",
    "print(f\"Original shapes: tensor_A = {tensor_A.shape}, tensor_B = {tensor_B.shape}\\n\")\n",
    "print(f\"New shapes: tensor_A = {tensor_A.shape} (same as above), tensor_B.T = {tensor_B.T.shape}\\n\")\n",
    "print(f\"Multiplying: {tensor_A.shape} * {tensor_B.T.shape} <- inner dimensions match\\n\")\n",
    "print(\"Output:\\n\")\n",
    "output = torch.matmul(tensor_A, tensor_B.T)\n",
    "print(output)\n",
    "print(f\"\\nOutput shape: {output.shape}\")"
   ]
  },
  {
   "cell_type": "markdown",
   "id": "15bf2996",
   "metadata": {
    "id": "0nXo1msahMaa",
    "papermill": {
     "duration": null,
     "end_time": null,
     "exception": null,
     "start_time": null,
     "status": "pending"
    },
    "tags": []
   },
   "source": [
    "**You can also use torch.mm() which is a short for torch.matmul().**"
   ]
  },
  {
   "cell_type": "code",
   "execution_count": null,
   "id": "baabb9dd",
   "metadata": {
    "execution": {
     "iopub.execute_input": "2023-10-28T01:34:46.585749Z",
     "iopub.status.busy": "2023-10-28T01:34:46.585469Z",
     "iopub.status.idle": "2023-10-28T01:34:46.595377Z",
     "shell.execute_reply": "2023-10-28T01:34:46.594248Z",
     "shell.execute_reply.started": "2023-10-28T01:34:46.585726Z"
    },
    "id": "r9R5OErEhE8h",
    "outputId": "f88036e2-c861-4b54-994a-c33bafcaa193",
    "papermill": {
     "duration": null,
     "end_time": null,
     "exception": null,
     "start_time": null,
     "status": "pending"
    },
    "tags": []
   },
   "outputs": [],
   "source": [
    "# torch.mm is a shortcut for matmul\n",
    "torch.mm(tensor_A, tensor_B.T)"
   ]
  },
  {
   "cell_type": "code",
   "execution_count": null,
   "id": "73ec4834",
   "metadata": {
    "execution": {
     "iopub.execute_input": "2023-10-28T01:34:46.597315Z",
     "iopub.status.busy": "2023-10-28T01:34:46.596971Z",
     "iopub.status.idle": "2023-10-28T01:34:46.616338Z",
     "shell.execute_reply": "2023-10-28T01:34:46.615149Z",
     "shell.execute_reply.started": "2023-10-28T01:34:46.597275Z"
    },
    "id": "YECqRh8chPTp",
    "outputId": "834f5224-c47b-4391-fc89-0e5c681b5b8e",
    "papermill": {
     "duration": null,
     "end_time": null,
     "exception": null,
     "start_time": null,
     "status": "pending"
    },
    "tags": []
   },
   "outputs": [],
   "source": [
    "# Since the linear layer starts with a random weights matrix, let's make it reproducible (more on this later)\n",
    "torch.manual_seed(42)\n",
    "# This uses matrix multiplication\n",
    "linear = torch.nn.Linear(in_features=2, # in_features = matches inner dimension of input\n",
    "                         out_features=6) # out_features = describes outer value\n",
    "x = tensor_A\n",
    "output = linear(x)\n",
    "print(f\"Input shape: {x.shape}\\n\")\n",
    "print(f\"Output:\\n{output}\\n\\nOutput shape: {output.shape}\")"
   ]
  },
  {
   "cell_type": "code",
   "execution_count": null,
   "id": "88440fef",
   "metadata": {
    "execution": {
     "iopub.execute_input": "2023-10-28T01:34:46.618150Z",
     "iopub.status.busy": "2023-10-28T01:34:46.617861Z",
     "iopub.status.idle": "2023-10-28T01:34:46.626827Z",
     "shell.execute_reply": "2023-10-28T01:34:46.625663Z",
     "shell.execute_reply.started": "2023-10-28T01:34:46.618126Z"
    },
    "id": "fzCA3oe-jHmx",
    "outputId": "b2733b11-d9e4-4199-ca39-c22250396f8b",
    "papermill": {
     "duration": null,
     "end_time": null,
     "exception": null,
     "start_time": null,
     "status": "pending"
    },
    "tags": []
   },
   "outputs": [],
   "source": [
    "torch.max(x), torch.min(x), torch.mean(x.type(torch.float32)), torch.sum(x)"
   ]
  },
  {
   "cell_type": "markdown",
   "id": "3e08a632",
   "metadata": {
    "id": "eE7QxSbTjZbm",
    "papermill": {
     "duration": null,
     "end_time": null,
     "exception": null,
     "start_time": null,
     "status": "pending"
    },
    "tags": []
   },
   "source": [
    "## **Positional Min/Max**\n",
    "You can use torch.argmax() and torch.argmin() functions to find the indices where the maximum and minimum values occur in a tensor, respectively. This is useful when you need to determine the positions of extreme values without necessarily retrieving the actual values. We will explore their practical applications further, especially when working with the softmax activation function in a later section.\n",
    "\n",
    "Here's a concise explanation of how to use these functions:\n",
    "\n",
    "- **torch.argmax(tensor)** returns the index of the maximum value in the tensor.\n",
    "- **torch.argmin(tensor)** returns the index of the minimum value in the tensor."
   ]
  },
  {
   "cell_type": "code",
   "execution_count": null,
   "id": "e2a4a8d4",
   "metadata": {
    "execution": {
     "iopub.execute_input": "2023-10-28T01:34:46.628771Z",
     "iopub.status.busy": "2023-10-28T01:34:46.628454Z",
     "iopub.status.idle": "2023-10-28T01:34:46.640112Z",
     "shell.execute_reply": "2023-10-28T01:34:46.639132Z",
     "shell.execute_reply.started": "2023-10-28T01:34:46.628745Z"
    },
    "id": "iyVGZm-fjn2U",
    "outputId": "20751042-8b4f-4d60-fcdd-d60f0e3a7c3f",
    "papermill": {
     "duration": null,
     "end_time": null,
     "exception": null,
     "start_time": null,
     "status": "pending"
    },
    "tags": []
   },
   "outputs": [],
   "source": [
    "# Create a tensor\n",
    "tensor = torch.arange(10, 100, 10)\n",
    "print(f\"Tensor: {tensor}\")\n",
    "\n",
    "# Returns index of max and min values\n",
    "print(f\"Index where max value occurs: {tensor.argmax()}\")\n",
    "print(f\"Index where min value occurs: {tensor.argmin()}\")"
   ]
  },
  {
   "cell_type": "markdown",
   "id": "5c1bee1b",
   "metadata": {
    "id": "oUcak_mwj2YC",
    "papermill": {
     "duration": null,
     "end_time": null,
     "exception": null,
     "start_time": null,
     "status": "pending"
    },
    "tags": []
   },
   "source": [
    "## **Change Tensor Datatype**\n",
    "\n",
    "If we have one tensor in torch.float64 and another in torch.float32, we might encounter data type compatibility issues when performing certain operations. However, we can address this by adjusting the data type of the tensors using torch.Tensor.type(dtype=None), where the dtype parameter specifies the desired data type.\n",
    "\n",
    "Let's start by creating a tensor and examining its data type (the default is torch.float32)."
   ]
  },
  {
   "cell_type": "code",
   "execution_count": null,
   "id": "7a6d6b85",
   "metadata": {
    "execution": {
     "iopub.execute_input": "2023-10-28T01:34:46.642023Z",
     "iopub.status.busy": "2023-10-28T01:34:46.641598Z",
     "iopub.status.idle": "2023-10-28T01:34:46.649521Z",
     "shell.execute_reply": "2023-10-28T01:34:46.648452Z",
     "shell.execute_reply.started": "2023-10-28T01:34:46.641990Z"
    },
    "id": "8DcVoW8nkBH9",
    "outputId": "9d71d456-3e1b-4b17-fbfb-3a5d918f23e8",
    "papermill": {
     "duration": null,
     "end_time": null,
     "exception": null,
     "start_time": null,
     "status": "pending"
    },
    "tags": []
   },
   "outputs": [],
   "source": [
    "# Create a tensor and check its datatype\n",
    "sample_tensor = torch.arange(10., 100., 10.)\n",
    "sample_tensor.dtype, sample_tensor"
   ]
  },
  {
   "cell_type": "code",
   "execution_count": null,
   "id": "94fe2bb1",
   "metadata": {
    "execution": {
     "iopub.execute_input": "2023-10-28T01:34:46.651659Z",
     "iopub.status.busy": "2023-10-28T01:34:46.650778Z",
     "iopub.status.idle": "2023-10-28T01:34:46.661350Z",
     "shell.execute_reply": "2023-10-28T01:34:46.660308Z",
     "shell.execute_reply.started": "2023-10-28T01:34:46.651623Z"
    },
    "id": "49reLBh8kDmk",
    "outputId": "355ef9b2-8d3e-451d-8fcb-c5ced2bf09d8",
    "papermill": {
     "duration": null,
     "end_time": null,
     "exception": null,
     "start_time": null,
     "status": "pending"
    },
    "tags": []
   },
   "outputs": [],
   "source": [
    "# Create a float16 tensor\n",
    "tensor_float16 = sample_tensor.type(torch.float16)\n",
    "tensor_float16"
   ]
  },
  {
   "cell_type": "code",
   "execution_count": null,
   "id": "88f4b5a7",
   "metadata": {
    "execution": {
     "iopub.execute_input": "2023-10-28T01:34:46.665351Z",
     "iopub.status.busy": "2023-10-28T01:34:46.664965Z",
     "iopub.status.idle": "2023-10-28T01:34:46.675113Z",
     "shell.execute_reply": "2023-10-28T01:34:46.673853Z",
     "shell.execute_reply.started": "2023-10-28T01:34:46.665323Z"
    },
    "id": "fxepDnVGkGbk",
    "outputId": "87d95193-62e4-48ba-d212-de4b5a89b548",
    "papermill": {
     "duration": null,
     "end_time": null,
     "exception": null,
     "start_time": null,
     "status": "pending"
    },
    "tags": []
   },
   "outputs": [],
   "source": [
    "# Create a int8 tensor\n",
    "tensor_int8 = sample_tensor.type(torch.int8)\n",
    "tensor_int8"
   ]
  },
  {
   "cell_type": "markdown",
   "id": "e73ba709",
   "metadata": {
    "id": "2P3zULJGkZVs",
    "papermill": {
     "duration": null,
     "end_time": null,
     "exception": null,
     "start_time": null,
     "status": "pending"
    },
    "tags": []
   },
   "source": [
    "## **Reshaping, Stacking, Squeezing and Unsqueezing**\n",
    "Often times you'll want to reshape or change the dimensions of your tensors without actually changing the values ins\"ide them.\n",
    "\n",
    "To do so, some popular methods are:"
   ]
  },
  {
   "cell_type": "code",
   "execution_count": null,
   "id": "034ce77f",
   "metadata": {
    "execution": {
     "iopub.execute_input": "2023-10-28T01:34:46.678776Z",
     "iopub.status.busy": "2023-10-28T01:34:46.678405Z",
     "iopub.status.idle": "2023-10-28T01:34:46.687285Z",
     "shell.execute_reply": "2023-10-28T01:34:46.686028Z",
     "shell.execute_reply.started": "2023-10-28T01:34:46.678741Z"
    },
    "id": "FCUUTTnak8_O",
    "outputId": "a3c818b7-e35b-418e-9027-151b41e6a96a",
    "papermill": {
     "duration": null,
     "end_time": null,
     "exception": null,
     "start_time": null,
     "status": "pending"
    },
    "tags": []
   },
   "outputs": [],
   "source": [
    "# Create a Tensor\n",
    "x = torch.arange(1., 10.)\n",
    "x, x.shape"
   ]
  },
  {
   "cell_type": "code",
   "execution_count": null,
   "id": "e0e78a38",
   "metadata": {
    "execution": {
     "iopub.execute_input": "2023-10-28T01:34:46.690505Z",
     "iopub.status.busy": "2023-10-28T01:34:46.689593Z",
     "iopub.status.idle": "2023-10-28T01:34:46.697871Z",
     "shell.execute_reply": "2023-10-28T01:34:46.696756Z",
     "shell.execute_reply.started": "2023-10-28T01:34:46.690467Z"
    },
    "id": "FPiV3ieSsZIw",
    "outputId": "4bdca098-b6c1-4319-ddcc-35e172231daa",
    "papermill": {
     "duration": null,
     "end_time": null,
     "exception": null,
     "start_time": null,
     "status": "pending"
    },
    "tags": []
   },
   "outputs": [],
   "source": [
    "# Add an extra dimention\n",
    "x_reshaped = x.reshape(1, 9)\n",
    "\n",
    "print(\"Reshaped Tensor:\")\n",
    "print(x_reshaped)\n",
    "print(\"Shape of Reshaped Tensor:\", x_reshaped.shape)"
   ]
  },
  {
   "cell_type": "code",
   "execution_count": null,
   "id": "e2e0d19d",
   "metadata": {
    "execution": {
     "iopub.execute_input": "2023-10-28T01:34:46.699993Z",
     "iopub.status.busy": "2023-10-28T01:34:46.699391Z",
     "iopub.status.idle": "2023-10-28T01:34:46.708136Z",
     "shell.execute_reply": "2023-10-28T01:34:46.706940Z",
     "shell.execute_reply.started": "2023-10-28T01:34:46.699957Z"
    },
    "id": "RGn8b_4vtIJQ",
    "outputId": "ca4dc11c-6638-4ea4-d081-254830cb917e",
    "papermill": {
     "duration": null,
     "end_time": null,
     "exception": null,
     "start_time": null,
     "status": "pending"
    },
    "tags": []
   },
   "outputs": [],
   "source": [
    "# Add an extra dimension using reshape\n",
    "x_reshaped = x.reshape(9, 1)\n",
    "\n",
    "print(\"Reshaped Tensor:\")\n",
    "print(x_reshaped)\n",
    "print(\"Shape of Reshaped Tensor:\", x_reshaped.shape)"
   ]
  },
  {
   "cell_type": "code",
   "execution_count": null,
   "id": "bdbfdb7b",
   "metadata": {
    "execution": {
     "iopub.execute_input": "2023-10-28T01:34:46.710247Z",
     "iopub.status.busy": "2023-10-28T01:34:46.709595Z",
     "iopub.status.idle": "2023-10-28T01:34:46.718363Z",
     "shell.execute_reply": "2023-10-28T01:34:46.717132Z",
     "shell.execute_reply.started": "2023-10-28T01:34:46.710213Z"
    },
    "id": "UnoMZk5ksimQ",
    "outputId": "c9916768-6143-45cc-cc59-788c6dc22a5a",
    "papermill": {
     "duration": null,
     "end_time": null,
     "exception": null,
     "start_time": null,
     "status": "pending"
    },
    "tags": []
   },
   "outputs": [],
   "source": [
    "# Change the view using .view()\n",
    "z = x.view(1, 9)\n",
    "\n",
    "print(\"Modified View Tensor:\")\n",
    "print(z)\n",
    "print(\"Shape of Modified View Tensor:\", z.shape)"
   ]
  },
  {
   "cell_type": "markdown",
   "id": "c933a559",
   "metadata": {
    "id": "I_hF0L5lujMW",
    "papermill": {
     "duration": null,
     "end_time": null,
     "exception": null,
     "start_time": null,
     "status": "pending"
    },
    "tags": []
   },
   "source": [
    "*Remember though, changing the view of a tensor with torch.view() really only creates a new view of the same tensor.So changing the view changes the original tensor too.*"
   ]
  },
  {
   "cell_type": "code",
   "execution_count": null,
   "id": "daf3e7b8",
   "metadata": {
    "execution": {
     "iopub.execute_input": "2023-10-28T01:34:46.721896Z",
     "iopub.status.busy": "2023-10-28T01:34:46.721549Z",
     "iopub.status.idle": "2023-10-28T01:34:46.731000Z",
     "shell.execute_reply": "2023-10-28T01:34:46.729797Z",
     "shell.execute_reply.started": "2023-10-28T01:34:46.721865Z"
    },
    "id": "dzHfHtS9vFh3",
    "outputId": "2266034d-8608-4411-eeee-1e4bea66ff6e",
    "papermill": {
     "duration": null,
     "end_time": null,
     "exception": null,
     "start_time": null,
     "status": "pending"
    },
    "tags": []
   },
   "outputs": [],
   "source": [
    "# Changing z changes x\n",
    "z[:, 0] = 5\n",
    "\n",
    "print(\"Modified View Tensor z:\")\n",
    "print(z)\n",
    "print(\"\\nOriginal Tensor x:\")\n",
    "print(x)"
   ]
  },
  {
   "cell_type": "markdown",
   "id": "475c0732",
   "metadata": {
    "id": "s_MLgW7VvJl8",
    "papermill": {
     "duration": null,
     "end_time": null,
     "exception": null,
     "start_time": null,
     "status": "pending"
    },
    "tags": []
   },
   "source": [
    "\n",
    "If we wanted to stack our new tensor on top of itself five times, we could do so with torch.stack()."
   ]
  },
  {
   "cell_type": "code",
   "execution_count": null,
   "id": "87f21a0a",
   "metadata": {
    "execution": {
     "iopub.execute_input": "2023-10-28T01:34:46.732704Z",
     "iopub.status.busy": "2023-10-28T01:34:46.732331Z",
     "iopub.status.idle": "2023-10-28T01:34:46.745118Z",
     "shell.execute_reply": "2023-10-28T01:34:46.744078Z",
     "shell.execute_reply.started": "2023-10-28T01:34:46.732670Z"
    },
    "id": "bEeohO8DvPbD",
    "outputId": "b054482a-96ee-4e01-c795-3aa375c6b3fe",
    "papermill": {
     "duration": null,
     "end_time": null,
     "exception": null,
     "start_time": null,
     "status": "pending"
    },
    "tags": []
   },
   "outputs": [],
   "source": [
    "# Original tensor\n",
    "x = torch.tensor([1, 2, 3, 4, 5, 6, 7, 8, 9])\n",
    "\n",
    "# Stack tensors on top of each other along rows (dim=0)\n",
    "x_stacked = torch.stack([x, x, x, x], dim=0)\n",
    "\n",
    "# Stacked tensor\n",
    "x_stacked"
   ]
  },
  {
   "cell_type": "code",
   "execution_count": null,
   "id": "1c68c451",
   "metadata": {
    "execution": {
     "iopub.execute_input": "2023-10-28T01:34:46.746543Z",
     "iopub.status.busy": "2023-10-28T01:34:46.746269Z",
     "iopub.status.idle": "2023-10-28T01:34:46.756006Z",
     "shell.execute_reply": "2023-10-28T01:34:46.755088Z",
     "shell.execute_reply.started": "2023-10-28T01:34:46.746509Z"
    },
    "id": "6x7UPXzuvc0c",
    "outputId": "f12e8d44-2b82-4f14-edba-eadf76414bfa",
    "papermill": {
     "duration": null,
     "end_time": null,
     "exception": null,
     "start_time": null,
     "status": "pending"
    },
    "tags": []
   },
   "outputs": [],
   "source": [
    "# Stack tensors on top of each other along columns (dim=1)\n",
    "x_stacked = torch.stack([x, x, x, x], dim=1)\n",
    "\n",
    "# Display the stacked tensor\n",
    "x_stacked"
   ]
  },
  {
   "cell_type": "markdown",
   "id": "b675b16e",
   "metadata": {
    "id": "7LiqpMolvkzv",
    "papermill": {
     "duration": null,
     "end_time": null,
     "exception": null,
     "start_time": null,
     "status": "pending"
    },
    "tags": []
   },
   "source": [
    "## **Removing Single Dimention**\n",
    "\n",
    "#### How about removing all single dimensions from a tensor?\n",
    "\n",
    "To do so you can use torch.squeeze() (I remember this as squeezing the tensor to only have dimensions over 1)."
   ]
  },
  {
   "cell_type": "code",
   "execution_count": null,
   "id": "df628df1",
   "metadata": {
    "execution": {
     "iopub.execute_input": "2023-10-28T01:34:46.757719Z",
     "iopub.status.busy": "2023-10-28T01:34:46.757442Z",
     "iopub.status.idle": "2023-10-28T01:34:46.771258Z",
     "shell.execute_reply": "2023-10-28T01:34:46.770299Z",
     "shell.execute_reply.started": "2023-10-28T01:34:46.757696Z"
    },
    "id": "2fW7lOq1v9Nk",
    "outputId": "05ca7209-0e24-4cde-eb65-624a51aa70ce",
    "papermill": {
     "duration": null,
     "end_time": null,
     "exception": null,
     "start_time": null,
     "status": "pending"
    },
    "tags": []
   },
   "outputs": [],
   "source": [
    "x_reshaped"
   ]
  },
  {
   "cell_type": "code",
   "execution_count": null,
   "id": "b1a75d97",
   "metadata": {
    "execution": {
     "iopub.execute_input": "2023-10-28T01:34:46.774838Z",
     "iopub.status.busy": "2023-10-28T01:34:46.774549Z",
     "iopub.status.idle": "2023-10-28T01:34:46.782820Z",
     "shell.execute_reply": "2023-10-28T01:34:46.781783Z",
     "shell.execute_reply.started": "2023-10-28T01:34:46.774815Z"
    },
    "id": "uWTkqB6yv9Fd",
    "outputId": "865497c6-b176-4a16-8257-38ccae03716c",
    "papermill": {
     "duration": null,
     "end_time": null,
     "exception": null,
     "start_time": null,
     "status": "pending"
    },
    "tags": []
   },
   "outputs": [],
   "source": [
    "# Reshaping x_reshaped \n",
    "x_reshaped = x_reshaped.reshape(1, 9)\n",
    "x_reshaped"
   ]
  },
  {
   "cell_type": "markdown",
   "id": "063ff1c0",
   "metadata": {
    "papermill": {
     "duration": null,
     "end_time": null,
     "exception": null,
     "start_time": null,
     "status": "pending"
    },
    "tags": []
   },
   "source": [
    "***When you use the squeeze() method on a tensor, it removes dimensions with size 1, effectively reducing the rank (number of dimensions) of the tensor. Let's apply squeeze() to the x_reshaped tensor:***"
   ]
  },
  {
   "cell_type": "code",
   "execution_count": null,
   "id": "e74e9539",
   "metadata": {
    "execution": {
     "iopub.execute_input": "2023-10-28T01:34:46.783994Z",
     "iopub.status.busy": "2023-10-28T01:34:46.783698Z",
     "iopub.status.idle": "2023-10-28T01:34:46.795258Z",
     "shell.execute_reply": "2023-10-28T01:34:46.794345Z",
     "shell.execute_reply.started": "2023-10-28T01:34:46.783970Z"
    },
    "id": "mHorWYB3wZiu",
    "outputId": "8d6b6216-fc54-40af-ea96-3fe2a250ba0d",
    "papermill": {
     "duration": null,
     "end_time": null,
     "exception": null,
     "start_time": null,
     "status": "pending"
    },
    "tags": []
   },
   "outputs": [],
   "source": [
    "# Squeeze the x_reshaped tensor\n",
    "x_reshaped_squeezed = x_reshaped.squeeze()\n",
    "\n",
    "# Display the squeezed tensor\n",
    "x_reshaped_squeezed"
   ]
  },
  {
   "cell_type": "code",
   "execution_count": null,
   "id": "162401f4",
   "metadata": {
    "execution": {
     "iopub.execute_input": "2023-10-28T01:34:46.796800Z",
     "iopub.status.busy": "2023-10-28T01:34:46.796460Z",
     "iopub.status.idle": "2023-10-28T01:34:46.811756Z",
     "shell.execute_reply": "2023-10-28T01:34:46.810833Z",
     "shell.execute_reply.started": "2023-10-28T01:34:46.796778Z"
    },
    "id": "XlxWbRwpwh6l",
    "outputId": "e899528a-b7b1-4093-ef68-498fe6ea4245",
    "papermill": {
     "duration": null,
     "end_time": null,
     "exception": null,
     "start_time": null,
     "status": "pending"
    },
    "tags": []
   },
   "outputs": [],
   "source": [
    "x_reshaped.squeeze().size()"
   ]
  },
  {
   "cell_type": "code",
   "execution_count": null,
   "id": "e3beccb3",
   "metadata": {
    "execution": {
     "iopub.execute_input": "2023-10-28T01:34:46.814661Z",
     "iopub.status.busy": "2023-10-28T01:34:46.813915Z",
     "iopub.status.idle": "2023-10-28T01:34:46.830964Z",
     "shell.execute_reply": "2023-10-28T01:34:46.829873Z",
     "shell.execute_reply.started": "2023-10-28T01:34:46.814625Z"
    },
    "id": "GXVReIqIwlUk",
    "outputId": "2ebda211-d109-4be3-fe75-fc246769f9ef",
    "papermill": {
     "duration": null,
     "end_time": null,
     "exception": null,
     "start_time": null,
     "status": "pending"
    },
    "tags": []
   },
   "outputs": [],
   "source": [
    "print(f\"Previous tensor: {x_reshaped}\")\n",
    "print(f\"Previous shape: {x_reshaped.shape}\")\n",
    "\n",
    "# Remove extra dimension from x_reshaped\n",
    "x_squeezed = x_reshaped.squeeze()\n",
    "\n",
    "print(f\"\\nNew tensor: {x_squeezed}\")\n",
    "print(f\"New shape: {x_squeezed.shape}\")"
   ]
  },
  {
   "cell_type": "markdown",
   "id": "312b0bcd",
   "metadata": {
    "id": "f097hnGpwrbE",
    "papermill": {
     "duration": null,
     "end_time": null,
     "exception": null,
     "start_time": null,
     "status": "pending"
    },
    "tags": []
   },
   "source": [
    "### **And to do the reverse of torch.squeeze() you can use torch.unsqueeze() to add a dimension value of 1 at a specific index.**"
   ]
  },
  {
   "cell_type": "code",
   "execution_count": null,
   "id": "5b52f21c",
   "metadata": {
    "execution": {
     "iopub.execute_input": "2023-10-28T01:34:46.832932Z",
     "iopub.status.busy": "2023-10-28T01:34:46.832566Z",
     "iopub.status.idle": "2023-10-28T01:34:46.849539Z",
     "shell.execute_reply": "2023-10-28T01:34:46.848408Z",
     "shell.execute_reply.started": "2023-10-28T01:34:46.832899Z"
    },
    "id": "mUEbfAMlxCOn",
    "outputId": "eb8cdd3c-4726-4bf5-b09b-df8c57c56d86",
    "papermill": {
     "duration": null,
     "end_time": null,
     "exception": null,
     "start_time": null,
     "status": "pending"
    },
    "tags": []
   },
   "outputs": [],
   "source": [
    "print(f\"Previous tensor: {x_squeezed}\")\n",
    "print(f\"Previous shape: {x_squeezed.shape}\")\n",
    "\n",
    "## Add an extra dimension with unsqueeze\n",
    "x_unsqueezed = x_squeezed.unsqueeze(dim=0)\n",
    "print(f\"\\nNew tensor: {x_unsqueezed}\")\n",
    "print(f\"New shape: {x_unsqueezed.shape}\")"
   ]
  },
  {
   "cell_type": "markdown",
   "id": "76230d7e",
   "metadata": {
    "id": "M6xZ-JX_xGa7",
    "papermill": {
     "duration": null,
     "end_time": null,
     "exception": null,
     "start_time": null,
     "status": "pending"
    },
    "tags": []
   },
   "source": [
    "### **Another essential tensor operation is rearranging the order of axes values, which can be achieved using torch.permute(input, dims). This function allows you to create a view of the input tensor with the specified dimensions, effectively rearranging the axes.**"
   ]
  },
  {
   "cell_type": "code",
   "execution_count": null,
   "id": "329944a3",
   "metadata": {
    "execution": {
     "iopub.execute_input": "2023-10-28T01:34:46.857981Z",
     "iopub.status.busy": "2023-10-28T01:34:46.857130Z",
     "iopub.status.idle": "2023-10-28T01:34:46.865275Z",
     "shell.execute_reply": "2023-10-28T01:34:46.864204Z",
     "shell.execute_reply.started": "2023-10-28T01:34:46.857947Z"
    },
    "id": "nELYm077xkY0",
    "outputId": "56dcef55-9dd8-450b-e155-aa655a293f1a",
    "papermill": {
     "duration": null,
     "end_time": null,
     "exception": null,
     "start_time": null,
     "status": "pending"
    },
    "tags": []
   },
   "outputs": [],
   "source": [
    "# Create tensor with specific shape\n",
    "x_original = torch.rand(size=(224, 224, 3)) # Height, Width, Channels\n",
    "\n",
    "# Permute the original tensor to rearrange the axis order\n",
    "x_permuted = x_original.permute(2, 0, 1) # shifts axis 0->1, 1->2, 2->0\n",
    "\n",
    "print(f\"Previous shape: {x_original.shape}\")\n",
    "print(f\"New shape: {x_permuted.shape}\") # Channels, Height, Width"
   ]
  },
  {
   "cell_type": "code",
   "execution_count": null,
   "id": "c90ff643",
   "metadata": {
    "execution": {
     "iopub.execute_input": "2023-10-28T01:34:46.867680Z",
     "iopub.status.busy": "2023-10-28T01:34:46.867105Z",
     "iopub.status.idle": "2023-10-28T01:34:46.882332Z",
     "shell.execute_reply": "2023-10-28T01:34:46.881373Z",
     "shell.execute_reply.started": "2023-10-28T01:34:46.867646Z"
    },
    "id": "zptkeqbxxzw8",
    "outputId": "27a874c5-afeb-494c-e05d-930850376b24",
    "papermill": {
     "duration": null,
     "end_time": null,
     "exception": null,
     "start_time": null,
     "status": "pending"
    },
    "tags": []
   },
   "outputs": [],
   "source": [
    "# Create a 3D tensor with random values\n",
    "x = torch.randn(2, 3, 5)\n",
    "\n",
    "# Use the .size() method to get the size (shape) of the tensor\n",
    "size_of_x = x.size()\n",
    "size_of_x"
   ]
  },
  {
   "cell_type": "code",
   "execution_count": null,
   "id": "7870a5d5",
   "metadata": {
    "execution": {
     "iopub.execute_input": "2023-10-28T01:34:46.883963Z",
     "iopub.status.busy": "2023-10-28T01:34:46.883428Z",
     "iopub.status.idle": "2023-10-28T01:34:46.893911Z",
     "shell.execute_reply": "2023-10-28T01:34:46.892955Z",
     "shell.execute_reply.started": "2023-10-28T01:34:46.883933Z"
    },
    "id": "yIRlTuB8yEM8",
    "outputId": "01c498d9-b844-42eb-a1c3-aa6a74cba686",
    "papermill": {
     "duration": null,
     "end_time": null,
     "exception": null,
     "start_time": null,
     "status": "pending"
    },
    "tags": []
   },
   "outputs": [],
   "source": [
    "x"
   ]
  },
  {
   "cell_type": "code",
   "execution_count": null,
   "id": "c9775f00",
   "metadata": {
    "execution": {
     "iopub.execute_input": "2023-10-28T01:34:46.895806Z",
     "iopub.status.busy": "2023-10-28T01:34:46.895472Z",
     "iopub.status.idle": "2023-10-28T01:34:46.906530Z",
     "shell.execute_reply": "2023-10-28T01:34:46.905450Z",
     "shell.execute_reply.started": "2023-10-28T01:34:46.895775Z"
    },
    "id": "gVMAtlNSyIBc",
    "outputId": "bec5f42b-7ea9-4c7d-9f67-d29bcb61c953",
    "papermill": {
     "duration": null,
     "end_time": null,
     "exception": null,
     "start_time": null,
     "status": "pending"
    },
    "tags": []
   },
   "outputs": [],
   "source": [
    "# Permute the dimensions of tensor x using torch.permute()\n",
    "# The specified permutation order is (2, 0, 1)\n",
    "permuted_x = torch.permute(x, (2, 0, 1))\n",
    "\n",
    "# Get the size (shape) of the permuted tensor\n",
    "size_of_permuted_x = permuted_x.size()\n",
    "\n",
    "# Display the size of the permuted tensor\n",
    "size_of_permuted_x"
   ]
  },
  {
   "cell_type": "code",
   "execution_count": null,
   "id": "ed22ba6c",
   "metadata": {
    "execution": {
     "iopub.execute_input": "2023-10-28T01:34:46.908224Z",
     "iopub.status.busy": "2023-10-28T01:34:46.907856Z",
     "iopub.status.idle": "2023-10-28T01:34:46.918178Z",
     "shell.execute_reply": "2023-10-28T01:34:46.917134Z",
     "shell.execute_reply.started": "2023-10-28T01:34:46.908195Z"
    },
    "id": "QENeivz-yRNT",
    "outputId": "678033e1-cfda-4400-910f-6047710d31e1",
    "papermill": {
     "duration": null,
     "end_time": null,
     "exception": null,
     "start_time": null,
     "status": "pending"
    },
    "tags": []
   },
   "outputs": [],
   "source": [
    "x_original[0,0,0]"
   ]
  },
  {
   "cell_type": "code",
   "execution_count": null,
   "id": "1a479b77",
   "metadata": {
    "execution": {
     "iopub.execute_input": "2023-10-28T01:34:46.921329Z",
     "iopub.status.busy": "2023-10-28T01:34:46.921047Z",
     "iopub.status.idle": "2023-10-28T01:34:46.930003Z",
     "shell.execute_reply": "2023-10-28T01:34:46.929196Z",
     "shell.execute_reply.started": "2023-10-28T01:34:46.921307Z"
    },
    "id": "QCnulSTPzBID",
    "outputId": "7ca27bef-8778-4abf-ebaa-319546a633d4",
    "papermill": {
     "duration": null,
     "end_time": null,
     "exception": null,
     "start_time": null,
     "status": "pending"
    },
    "tags": []
   },
   "outputs": [],
   "source": [
    "x_permuted[0,0,0]"
   ]
  },
  {
   "cell_type": "code",
   "execution_count": null,
   "id": "0de4b1b8",
   "metadata": {
    "execution": {
     "iopub.execute_input": "2023-10-28T01:34:46.931548Z",
     "iopub.status.busy": "2023-10-28T01:34:46.931008Z",
     "iopub.status.idle": "2023-10-28T01:34:46.943562Z",
     "shell.execute_reply": "2023-10-28T01:34:46.942680Z",
     "shell.execute_reply.started": "2023-10-28T01:34:46.931523Z"
    },
    "id": "SPhIFZ5dzDpr",
    "outputId": "0a348eec-02af-4717-cc68-c9dded9c3d84",
    "papermill": {
     "duration": null,
     "end_time": null,
     "exception": null,
     "start_time": null,
     "status": "pending"
    },
    "tags": []
   },
   "outputs": [],
   "source": [
    "# Modify the value at a specific position in the original tensor x_original\n",
    "x_original[0, 0, 0] = 0.55\n",
    "\n",
    "# Check the values at the same position in both the original and permuted tensors\n",
    "value_in_original = x_original[0, 0, 0]\n",
    "value_in_permuted = x_permuted[0, 0, 0]\n",
    "\n",
    "value_in_original, value_in_permuted"
   ]
  },
  {
   "cell_type": "markdown",
   "id": "18e4d776",
   "metadata": {
    "papermill": {
     "duration": null,
     "end_time": null,
     "exception": null,
     "start_time": null,
     "status": "pending"
    },
    "tags": []
   },
   "source": [
    "*- We first modify the value at position (0, 0, 0) in the original tensor x_original and set it to 0.55.*\n",
    "\n",
    "*- Then, we retrieve and store the values at the same position in both the original and permuted tensors.*\n",
    "\n",
    "*- Finally, we display the values.*"
   ]
  },
  {
   "cell_type": "markdown",
   "id": "016d030b",
   "metadata": {
    "id": "9Gu8O0rdzSwD",
    "papermill": {
     "duration": null,
     "end_time": null,
     "exception": null,
     "start_time": null,
     "status": "pending"
    },
    "tags": []
   },
   "source": [
    "## **Indexing**"
   ]
  },
  {
   "cell_type": "code",
   "execution_count": null,
   "id": "f158883c",
   "metadata": {
    "execution": {
     "iopub.execute_input": "2023-10-28T01:34:46.945088Z",
     "iopub.status.busy": "2023-10-28T01:34:46.944793Z",
     "iopub.status.idle": "2023-10-28T01:34:46.958808Z",
     "shell.execute_reply": "2023-10-28T01:34:46.957844Z",
     "shell.execute_reply.started": "2023-10-28T01:34:46.945048Z"
    },
    "id": "n99mTlJ4znut",
    "outputId": "92f2694d-7798-46ea-a554-363bd1da8fb8",
    "papermill": {
     "duration": null,
     "end_time": null,
     "exception": null,
     "start_time": null,
     "status": "pending"
    },
    "tags": []
   },
   "outputs": [],
   "source": [
    "# Create a tensor using torch.arange() and reshape it\n",
    "x = torch.arange(1, 10).reshape(1, 3, 3)\n",
    "\n",
    "# Display the tensor x and its shape\n",
    "x, x.shape"
   ]
  },
  {
   "cell_type": "code",
   "execution_count": null,
   "id": "088013ef",
   "metadata": {
    "execution": {
     "iopub.execute_input": "2023-10-28T01:34:46.960240Z",
     "iopub.status.busy": "2023-10-28T01:34:46.959929Z",
     "iopub.status.idle": "2023-10-28T01:34:46.969996Z",
     "shell.execute_reply": "2023-10-28T01:34:46.968972Z",
     "shell.execute_reply.started": "2023-10-28T01:34:46.960217Z"
    },
    "id": "PSO3jShkzzAz",
    "outputId": "8e594e67-2f28-457b-9e37-4b9a9949ff5a",
    "papermill": {
     "duration": null,
     "end_time": null,
     "exception": null,
     "start_time": null,
     "status": "pending"
    },
    "tags": []
   },
   "outputs": [],
   "source": [
    "# Access the first element along the first dimension of the tensor x\n",
    "first_element = x[0]\n",
    "\n",
    "# Printing the first element (a 2D slice) of the tensor x\n",
    "first_element"
   ]
  },
  {
   "cell_type": "code",
   "execution_count": null,
   "id": "7fd4560a",
   "metadata": {
    "execution": {
     "iopub.execute_input": "2023-10-28T01:34:46.971562Z",
     "iopub.status.busy": "2023-10-28T01:34:46.971054Z",
     "iopub.status.idle": "2023-10-28T01:34:46.984040Z",
     "shell.execute_reply": "2023-10-28T01:34:46.983066Z",
     "shell.execute_reply.started": "2023-10-28T01:34:46.971538Z"
    },
    "id": "NrLKjc99z7Ii",
    "outputId": "49bd7809-460b-4a97-e92f-52ccddbc820e",
    "papermill": {
     "duration": null,
     "end_time": null,
     "exception": null,
     "start_time": null,
     "status": "pending"
    },
    "tags": []
   },
   "outputs": [],
   "source": [
    "# Access the element at the first row and first column of the first 2D matrix in the tensor x\n",
    "element = x[0][0]\n",
    "\n",
    "# Printing the accessed element\n",
    "element"
   ]
  },
  {
   "cell_type": "code",
   "execution_count": null,
   "id": "53d86280",
   "metadata": {
    "execution": {
     "iopub.execute_input": "2023-10-28T01:34:46.985754Z",
     "iopub.status.busy": "2023-10-28T01:34:46.984993Z",
     "iopub.status.idle": "2023-10-28T01:34:46.993357Z",
     "shell.execute_reply": "2023-10-28T01:34:46.992501Z",
     "shell.execute_reply.started": "2023-10-28T01:34:46.985731Z"
    },
    "id": "_jGgtTjZz_4x",
    "outputId": "7ba5113f-cc24-495f-899b-6faa59d14f1f",
    "papermill": {
     "duration": null,
     "end_time": null,
     "exception": null,
     "start_time": null,
     "status": "pending"
    },
    "tags": []
   },
   "outputs": [],
   "source": [
    "# Access the element at the first row and first column of the first 2D matrix in the tensor x\n",
    "element = x[0, 0]\n",
    "element"
   ]
  },
  {
   "cell_type": "code",
   "execution_count": null,
   "id": "acb35d34",
   "metadata": {
    "execution": {
     "iopub.execute_input": "2023-10-28T01:34:46.994843Z",
     "iopub.status.busy": "2023-10-28T01:34:46.994564Z",
     "iopub.status.idle": "2023-10-28T01:34:47.003397Z",
     "shell.execute_reply": "2023-10-28T01:34:47.002442Z",
     "shell.execute_reply.started": "2023-10-28T01:34:46.994819Z"
    },
    "id": "cRnU34AA0DVQ",
    "outputId": "de8f5a57-7aa3-4064-ed01-37d17affc484",
    "papermill": {
     "duration": null,
     "end_time": null,
     "exception": null,
     "start_time": null,
     "status": "pending"
    },
    "tags": []
   },
   "outputs": [],
   "source": [
    "# Access the element at the first row, first column, and first depth dimension of the tensor x\n",
    "element = x[0, 0, 0]\n",
    "element"
   ]
  },
  {
   "cell_type": "code",
   "execution_count": null,
   "id": "321156a2",
   "metadata": {
    "execution": {
     "iopub.execute_input": "2023-10-28T01:34:47.004977Z",
     "iopub.status.busy": "2023-10-28T01:34:47.004494Z",
     "iopub.status.idle": "2023-10-28T01:34:47.015955Z",
     "shell.execute_reply": "2023-10-28T01:34:47.014980Z",
     "shell.execute_reply.started": "2023-10-28T01:34:47.004945Z"
    },
    "id": "x8yoDlbg0M37",
    "outputId": "9e7aec5e-3bea-42b0-fcae-56ed766ef1c4",
    "papermill": {
     "duration": null,
     "end_time": null,
     "exception": null,
     "start_time": null,
     "status": "pending"
    },
    "tags": []
   },
   "outputs": [],
   "source": [
    "# Access the element at the first row, first column, and second depth dimension of the tensor x\n",
    "element = x[0, 0, 1]\n",
    "element"
   ]
  },
  {
   "cell_type": "code",
   "execution_count": null,
   "id": "68ed3748",
   "metadata": {
    "execution": {
     "iopub.execute_input": "2023-10-28T01:34:47.018023Z",
     "iopub.status.busy": "2023-10-28T01:34:47.017680Z",
     "iopub.status.idle": "2023-10-28T01:34:47.030021Z",
     "shell.execute_reply": "2023-10-28T01:34:47.029145Z",
     "shell.execute_reply.started": "2023-10-28T01:34:47.017993Z"
    },
    "id": "-DbrLVUB0Ytp",
    "outputId": "65d9d4b9-cfcb-4537-bcce-9e017d9f2277",
    "papermill": {
     "duration": null,
     "end_time": null,
     "exception": null,
     "start_time": null,
     "status": "pending"
    },
    "tags": []
   },
   "outputs": [],
   "source": [
    "# Access the element at the first row, second column, and second depth dimension of the tensor x\n",
    "x[0, 1, 1]"
   ]
  },
  {
   "cell_type": "code",
   "execution_count": null,
   "id": "e73757f8",
   "metadata": {
    "execution": {
     "iopub.execute_input": "2023-10-28T01:34:47.031677Z",
     "iopub.status.busy": "2023-10-28T01:34:47.031128Z",
     "iopub.status.idle": "2023-10-28T01:34:47.042513Z",
     "shell.execute_reply": "2023-10-28T01:34:47.041430Z",
     "shell.execute_reply.started": "2023-10-28T01:34:47.031652Z"
    },
    "id": "-QygoFvB0cs5",
    "outputId": "e60d81bd-8420-4cd7-e30f-3145f322bc20",
    "papermill": {
     "duration": null,
     "end_time": null,
     "exception": null,
     "start_time": null,
     "status": "pending"
    },
    "tags": []
   },
   "outputs": [],
   "source": [
    "# Select all elements from the first column (index 0) along the second dimension of the tensor x\n",
    "selected_column = x[:, 0]\n",
    "selected_column"
   ]
  },
  {
   "cell_type": "code",
   "execution_count": null,
   "id": "3a0b5ac3",
   "metadata": {
    "execution": {
     "iopub.execute_input": "2023-10-28T01:34:47.044519Z",
     "iopub.status.busy": "2023-10-28T01:34:47.044056Z",
     "iopub.status.idle": "2023-10-28T01:34:47.060305Z",
     "shell.execute_reply": "2023-10-28T01:34:47.059229Z",
     "shell.execute_reply.started": "2023-10-28T01:34:47.044486Z"
    },
    "id": "38Py4xWk0riy",
    "outputId": "268e5928-f9e6-44f6-dc17-c7de922e9401",
    "papermill": {
     "duration": null,
     "end_time": null,
     "exception": null,
     "start_time": null,
     "status": "pending"
    },
    "tags": []
   },
   "outputs": [],
   "source": [
    "# Get all values of 0th & 1st dimensions but only index 1 of 2nd dimension\n",
    "x[:, :, 1]"
   ]
  },
  {
   "cell_type": "code",
   "execution_count": null,
   "id": "aa0554d0",
   "metadata": {
    "execution": {
     "iopub.execute_input": "2023-10-28T01:34:47.061945Z",
     "iopub.status.busy": "2023-10-28T01:34:47.061599Z",
     "iopub.status.idle": "2023-10-28T01:34:47.076612Z",
     "shell.execute_reply": "2023-10-28T01:34:47.075536Z",
     "shell.execute_reply.started": "2023-10-28T01:34:47.061913Z"
    },
    "id": "5rfWF_D901My",
    "outputId": "50556de6-5c9a-41eb-f839-0c69234f13c4",
    "papermill": {
     "duration": null,
     "end_time": null,
     "exception": null,
     "start_time": null,
     "status": "pending"
    },
    "tags": []
   },
   "outputs": [],
   "source": [
    "# Get all values of the 0 dimension but only the 1 index value of the 1st and 2nd dimension\n",
    "x[:, 1, 1]"
   ]
  },
  {
   "cell_type": "code",
   "execution_count": null,
   "id": "3a577f5f",
   "metadata": {
    "execution": {
     "iopub.execute_input": "2023-10-28T01:34:47.078606Z",
     "iopub.status.busy": "2023-10-28T01:34:47.078252Z",
     "iopub.status.idle": "2023-10-28T01:34:47.087975Z",
     "shell.execute_reply": "2023-10-28T01:34:47.086991Z",
     "shell.execute_reply.started": "2023-10-28T01:34:47.078577Z"
    },
    "id": "Nu5m-Sej1PHx",
    "outputId": "b4ad86b4-0234-4a6d-d3c9-c8ebf07ae892",
    "papermill": {
     "duration": null,
     "end_time": null,
     "exception": null,
     "start_time": null,
     "status": "pending"
    },
    "tags": []
   },
   "outputs": [],
   "source": [
    "# Get index 0 of 0th and 1st dimension and all values of 2nd dimension\n",
    "x[0, 0, :] # same as x[0][0]"
   ]
  },
  {
   "cell_type": "markdown",
   "id": "61d93556",
   "metadata": {
    "id": "PPpz3D7B1RYR",
    "papermill": {
     "duration": null,
     "end_time": null,
     "exception": null,
     "start_time": null,
     "status": "pending"
    },
    "tags": []
   },
   "source": [
    "\n",
    "## **Tensors & NumPy**\n",
    "PyTorch provides convenient methods for converting between NumPy arrays and PyTorch tensors:\n",
    "\n",
    "- **torch.from_numpy(ndarray)** converts a NumPy array to a PyTorch tensor.\n",
    "- **torch.Tensor.numpy()** converts a PyTorch tensor to a NumPy array.\n",
    "\n",
    "These methods allow for seamless interaction between NumPy and PyTorch data structures."
   ]
  },
  {
   "cell_type": "code",
   "execution_count": null,
   "id": "dadab9bd",
   "metadata": {
    "execution": {
     "iopub.execute_input": "2023-10-28T01:34:47.090274Z",
     "iopub.status.busy": "2023-10-28T01:34:47.089939Z",
     "iopub.status.idle": "2023-10-28T01:34:47.100028Z",
     "shell.execute_reply": "2023-10-28T01:34:47.099019Z",
     "shell.execute_reply.started": "2023-10-28T01:34:47.090245Z"
    },
    "id": "RIJwa06Q2skP",
    "outputId": "576a53c5-d212-4153-fe2e-e0db49f21f31",
    "papermill": {
     "duration": null,
     "end_time": null,
     "exception": null,
     "start_time": null,
     "status": "pending"
    },
    "tags": []
   },
   "outputs": [],
   "source": [
    "# Create a NumPy array with values ranging from 1.0 to 7.0\n",
    "array = np.arange(1.0, 8.0)\n",
    "\n",
    "# NumPy array and its shape\n",
    "array, array.shape"
   ]
  },
  {
   "cell_type": "code",
   "execution_count": null,
   "id": "35460b8b",
   "metadata": {
    "execution": {
     "iopub.execute_input": "2023-10-28T01:34:47.101662Z",
     "iopub.status.busy": "2023-10-28T01:34:47.101353Z",
     "iopub.status.idle": "2023-10-28T01:34:47.113578Z",
     "shell.execute_reply": "2023-10-28T01:34:47.112561Z",
     "shell.execute_reply.started": "2023-10-28T01:34:47.101636Z"
    },
    "id": "leGXAwDD6kEl",
    "outputId": "8b3af961-5002-4b52-d35d-5470cf8172ef",
    "papermill": {
     "duration": null,
     "end_time": null,
     "exception": null,
     "start_time": null,
     "status": "pending"
    },
    "tags": []
   },
   "outputs": [],
   "source": [
    "# Convert the NumPy array 'array' to a PyTorch tensor\n",
    "tensor = torch.from_numpy(array)\n",
    "\n",
    "# PyTorch tensor and its shape\n",
    "tensor, tensor.shape"
   ]
  },
  {
   "cell_type": "code",
   "execution_count": null,
   "id": "940d9b94",
   "metadata": {
    "execution": {
     "iopub.execute_input": "2023-10-28T01:34:47.115164Z",
     "iopub.status.busy": "2023-10-28T01:34:47.114807Z",
     "iopub.status.idle": "2023-10-28T01:34:47.126001Z",
     "shell.execute_reply": "2023-10-28T01:34:47.124932Z",
     "shell.execute_reply.started": "2023-10-28T01:34:47.115135Z"
    },
    "id": "mTPieq1O6p38",
    "outputId": "affb531a-c584-4586-955b-cb3ccabdbdde",
    "papermill": {
     "duration": null,
     "end_time": null,
     "exception": null,
     "start_time": null,
     "status": "pending"
    },
    "tags": []
   },
   "outputs": [],
   "source": [
    "# Change the array, keep the tensor\n",
    "array = array + 1\n",
    "array, tensor"
   ]
  },
  {
   "cell_type": "code",
   "execution_count": null,
   "id": "91371375",
   "metadata": {
    "execution": {
     "iopub.execute_input": "2023-10-28T01:34:47.127530Z",
     "iopub.status.busy": "2023-10-28T01:34:47.127257Z",
     "iopub.status.idle": "2023-10-28T01:34:47.141116Z",
     "shell.execute_reply": "2023-10-28T01:34:47.140223Z",
     "shell.execute_reply.started": "2023-10-28T01:34:47.127506Z"
    },
    "id": "3X-8kmSe67tV",
    "outputId": "a0938d25-e90a-4ea4-cc1c-978051a8196f",
    "papermill": {
     "duration": null,
     "end_time": null,
     "exception": null,
     "start_time": null,
     "status": "pending"
    },
    "tags": []
   },
   "outputs": [],
   "source": [
    "# Create a PyTorch tensor 'tensor' filled with ones and having dtype=float32\n",
    "tensor = torch.ones(7)\n",
    "\n",
    "# Convert the PyTorch tensor to a NumPy array 'numpy_tensor'\n",
    "numpy_tensor = tensor.numpy()\n",
    "\n",
    "# Display the PyTorch tensor and the NumPy array\n",
    "tensor, numpy_tensor"
   ]
  },
  {
   "cell_type": "markdown",
   "id": "2815ad55",
   "metadata": {
    "id": "WTaTjDHH7BiN",
    "papermill": {
     "duration": null,
     "end_time": null,
     "exception": null,
     "start_time": null,
     "status": "pending"
    },
    "tags": []
   },
   "source": [
    "## **Reproducibility in PyTorch**\n",
    "Randomness is a powerful tool, but sometimes you need to reduce it for the sake of reproducibility. Reproducibility allows you and others to obtain the same or highly similar results when running the same code on different machines.\n",
    "\n",
    "Consider a scenario where you've developed an algorithm achieving a specific performance level, and you want your colleague to validate your findings on their computer. How can you ensure consistent results?\n",
    "\n",
    "This is where reproducibility comes into play. In PyTorch, you can take steps to control randomness, making your experiments more predictable.\n",
    "\n",
    "To demonstrate this, let's start by creating two random tensors. Since they are random, you might expect them to be different, right?\n",
    "\n",
    "Here's an example of ensuring reproducibility in PyTorch."
   ]
  },
  {
   "cell_type": "code",
   "execution_count": null,
   "id": "06bb8a61",
   "metadata": {
    "execution": {
     "iopub.execute_input": "2023-10-28T01:34:47.142670Z",
     "iopub.status.busy": "2023-10-28T01:34:47.142389Z",
     "iopub.status.idle": "2023-10-28T01:34:47.156792Z",
     "shell.execute_reply": "2023-10-28T01:34:47.155909Z",
     "shell.execute_reply.started": "2023-10-28T01:34:47.142646Z"
    },
    "id": "uS52jzmG8erb",
    "outputId": "f78d4b02-25ab-4497-ce01-4be59d289511",
    "papermill": {
     "duration": null,
     "end_time": null,
     "exception": null,
     "start_time": null,
     "status": "pending"
    },
    "tags": []
   },
   "outputs": [],
   "source": [
    "# Create two random tensors, random_tensor_A and random_tensor_B\n",
    "random_tensor_A = torch.rand(3, 4)\n",
    "random_tensor_B = torch.rand(3, 4)\n",
    "\n",
    "# Display the values of Tensor A and Tensor B\n",
    "print(f\"Tensor A:\\n{random_tensor_A}\\n\")\n",
    "print(f\"Tensor B:\\n{random_tensor_B}\\n\")\n",
    "\n",
    "# Check if Tensor A equals Tensor B (element-wise, anywhere)\n",
    "are_equal = random_tensor_A == random_tensor_B\n",
    "\n",
    "# Print the result of the equality check\n",
    "print(f\"Does Tensor A equal Tensor B? (anywhere)\")\n",
    "are_equal"
   ]
  },
  {
   "cell_type": "markdown",
   "id": "c265e0c5",
   "metadata": {
    "id": "Icz7oUcI8pRT",
    "papermill": {
     "duration": null,
     "end_time": null,
     "exception": null,
     "start_time": null,
     "status": "pending"
    },
    "tags": []
   },
   "source": [
    "As expected, the previous random tensors had different values. But what if you wanted to create two random tensors with the same \"flavor\" of randomness? In other words, you want the tensors to still contain random values, but these values should be consistent.\n",
    "\n",
    "This is where torch.manual_seed(seed) comes into play. You can specify an integer value (such as 42 or any other) as the seed, and it will determine the characteristics of randomness.\n",
    "\n",
    "Let's demonstrate this by creating some random tensors with the same flavor."
   ]
  },
  {
   "cell_type": "code",
   "execution_count": null,
   "id": "3a9e1dc6",
   "metadata": {
    "execution": {
     "iopub.execute_input": "2023-10-28T01:34:47.158153Z",
     "iopub.status.busy": "2023-10-28T01:34:47.157893Z",
     "iopub.status.idle": "2023-10-28T01:34:47.167734Z",
     "shell.execute_reply": "2023-10-28T01:34:47.166880Z",
     "shell.execute_reply.started": "2023-10-28T01:34:47.158131Z"
    },
    "id": "iPJXBEjB9JWa",
    "papermill": {
     "duration": null,
     "end_time": null,
     "exception": null,
     "start_time": null,
     "status": "pending"
    },
    "tags": []
   },
   "outputs": [],
   "source": [
    "# Import the random module\n",
    "import random\n",
    "\n",
    "# Set the random seed to ensure reproducibility\n",
    "RANDOM_SEED = 42  # You can change this value to experiment with different random seeds\n",
    "\n",
    "# Set the random seed for PyTorch\n",
    "torch.manual_seed(seed=RANDOM_SEED)\n",
    "\n",
    "# Create a random tensor with the specified random seed\n",
    "random_tensor_C = torch.rand(3, 4)\n",
    "random_tensor_C"
   ]
  },
  {
   "cell_type": "code",
   "execution_count": null,
   "id": "bef1cd2c",
   "metadata": {
    "execution": {
     "iopub.execute_input": "2023-10-28T01:34:47.169007Z",
     "iopub.status.busy": "2023-10-28T01:34:47.168663Z",
     "iopub.status.idle": "2023-10-28T01:34:47.176327Z",
     "shell.execute_reply": "2023-10-28T01:34:47.175500Z",
     "shell.execute_reply.started": "2023-10-28T01:34:47.168975Z"
    },
    "id": "gK5Kk0Ie9K8C",
    "papermill": {
     "duration": null,
     "end_time": null,
     "exception": null,
     "start_time": null,
     "status": "pending"
    },
    "tags": []
   },
   "outputs": [],
   "source": [
    "# Have to reset the seed every time a new rand() is called\n",
    "# Without this, tensor_D would be different to tensor_C\n",
    "torch.random.manual_seed(seed=RANDOM_SEED) # try commenting this line out and seeing what happens\n",
    "random_tensor_D = torch.rand(3, 4)"
   ]
  },
  {
   "cell_type": "code",
   "execution_count": null,
   "id": "d7837e74",
   "metadata": {
    "execution": {
     "iopub.execute_input": "2023-10-28T01:34:47.178140Z",
     "iopub.status.busy": "2023-10-28T01:34:47.177387Z",
     "iopub.status.idle": "2023-10-28T01:34:47.191612Z",
     "shell.execute_reply": "2023-10-28T01:34:47.190671Z",
     "shell.execute_reply.started": "2023-10-28T01:34:47.178086Z"
    },
    "id": "0HaEs1Tl9dK0",
    "outputId": "9a740670-b11d-40c2-c4f2-3133d9710bf8",
    "papermill": {
     "duration": null,
     "end_time": null,
     "exception": null,
     "start_time": null,
     "status": "pending"
    },
    "tags": []
   },
   "outputs": [],
   "source": [
    "print(f\"Tensor C:\\n{random_tensor_C}\\n\")\n",
    "print(f\"Tensor D:\\n{random_tensor_D}\\n\")\n",
    "print(f\"Does Tensor C equal Tensor D? (anywhere)\")\n",
    "random_tensor_C == random_tensor_D"
   ]
  },
  {
   "cell_type": "markdown",
   "id": "9dafa580",
   "metadata": {
    "id": "IFZifm1g9rsL",
    "papermill": {
     "duration": null,
     "end_time": null,
     "exception": null,
     "start_time": null,
     "status": "pending"
    },
    "tags": []
   },
   "source": [
    "## **Device Compatibility**"
   ]
  },
  {
   "cell_type": "code",
   "execution_count": null,
   "id": "1fc7c82e",
   "metadata": {
    "execution": {
     "iopub.execute_input": "2023-10-28T01:34:47.192992Z",
     "iopub.status.busy": "2023-10-28T01:34:47.192738Z",
     "iopub.status.idle": "2023-10-28T01:34:48.266778Z",
     "shell.execute_reply": "2023-10-28T01:34:48.265697Z",
     "shell.execute_reply.started": "2023-10-28T01:34:47.192970Z"
    },
    "id": "ANCTymNUHnKQ",
    "outputId": "4b5787d6-2a9e-44f8-af46-ada2d6c11796",
    "papermill": {
     "duration": null,
     "end_time": null,
     "exception": null,
     "start_time": null,
     "status": "pending"
    },
    "tags": []
   },
   "outputs": [],
   "source": [
    "# This command, '!nvidia-smi', is used to display information about the NVIDIA GPU(s) installed on the system. \n",
    "# It provides details such as GPU model, memory usage, temperature, and more. \n",
    "# It's a useful tool for monitoring GPU status and can be helpful for tasks like deep learning training.\n",
    "!nvidia-smi"
   ]
  },
  {
   "cell_type": "markdown",
   "id": "00ec1452",
   "metadata": {
    "papermill": {
     "duration": null,
     "end_time": null,
     "exception": null,
     "start_time": null,
     "status": "pending"
    },
    "tags": []
   },
   "source": [
    "#### **Checking Device**\n",
    "Checking the device (CPU or GPU) is essential for efficient utilization of hardware resources. It allows for faster computation on GPUs, effective memory management, and compatibility with deep learning libraries, ultimately improving performance in machine learning tasks."
   ]
  },
  {
   "cell_type": "code",
   "execution_count": null,
   "id": "17339f2d",
   "metadata": {
    "execution": {
     "iopub.execute_input": "2023-10-28T01:35:12.273360Z",
     "iopub.status.busy": "2023-10-28T01:35:12.272967Z",
     "iopub.status.idle": "2023-10-28T01:35:12.355114Z",
     "shell.execute_reply": "2023-10-28T01:35:12.353804Z",
     "shell.execute_reply.started": "2023-10-28T01:35:12.273332Z"
    },
    "id": "oVAOswxgHnnJ",
    "outputId": "d9a1d793-2cb3-4649-a8f2-c2325a9ebb84",
    "papermill": {
     "duration": null,
     "end_time": null,
     "exception": null,
     "start_time": null,
     "status": "pending"
    },
    "tags": []
   },
   "outputs": [],
   "source": [
    "# Check if a GPU is available for use with PyTorch\n",
    "gpu_available = torch.cuda.is_available()\n",
    "\n",
    "# Print the result (True if GPU is available, False otherwise)\n",
    "gpu_available"
   ]
  },
  {
   "cell_type": "markdown",
   "id": "b325eac2",
   "metadata": {
    "papermill": {
     "duration": null,
     "end_time": null,
     "exception": null,
     "start_time": null,
     "status": "pending"
    },
    "tags": []
   },
   "source": [
    "#### **Setting Device**\n",
    "Setting a device in deep learning is the act of specifying whether computations should occur on a CPU or GPU. A \"cpu\" device implies that all operations, including model training and inference, are performed on the Central Processing Unit. In contrast, a \"cuda\" or GPU device offloads computations to the Graphics Processing Unit, which excels at parallel tasks like deep learning. The choice depends on hardware availability, model size, memory requirements, and compatibility with libraries, impacting training speed and resource utilization. It allows developers to optimize deep learning workflows for their specific hardware configuration."
   ]
  },
  {
   "cell_type": "code",
   "execution_count": null,
   "id": "a7a79ec9",
   "metadata": {
    "execution": {
     "iopub.execute_input": "2023-10-28T01:35:18.590001Z",
     "iopub.status.busy": "2023-10-28T01:35:18.589641Z",
     "iopub.status.idle": "2023-10-28T01:35:18.596394Z",
     "shell.execute_reply": "2023-10-28T01:35:18.595387Z",
     "shell.execute_reply.started": "2023-10-28T01:35:18.589973Z"
    },
    "id": "V-PTwT6RHxAJ",
    "outputId": "5b7ff4d0-4778-431f-c3f9-7330f7ec14d2",
    "papermill": {
     "duration": null,
     "end_time": null,
     "exception": null,
     "start_time": null,
     "status": "pending"
    },
    "tags": []
   },
   "outputs": [],
   "source": [
    "# Check if a GPU is available, and if so, set the device type to \"cuda\"; otherwise, use \"cpu\"\n",
    "device = \"cuda\" if torch.cuda.is_available() else \"cpu\"\n",
    "\n",
    "# Print the selected device type\n",
    "device"
   ]
  },
  {
   "cell_type": "code",
   "execution_count": null,
   "id": "38a5650d",
   "metadata": {
    "execution": {
     "iopub.execute_input": "2023-10-28T01:35:18.599078Z",
     "iopub.status.busy": "2023-10-28T01:35:18.598765Z",
     "iopub.status.idle": "2023-10-28T01:35:18.623319Z",
     "shell.execute_reply": "2023-10-28T01:35:18.622490Z",
     "shell.execute_reply.started": "2023-10-28T01:35:18.599054Z"
    },
    "id": "52I_Y774IL06",
    "outputId": "d114f6c7-4e4e-45e4-dd84-50a4117d59ed",
    "papermill": {
     "duration": null,
     "end_time": null,
     "exception": null,
     "start_time": null,
     "status": "pending"
    },
    "tags": []
   },
   "outputs": [],
   "source": [
    "# Count the number of devices\n",
    "torch.cuda.device_count()"
   ]
  },
  {
   "cell_type": "markdown",
   "id": "a131c10f",
   "metadata": {
    "id": "g6XuQu6_IPSb",
    "papermill": {
     "duration": null,
     "end_time": null,
     "exception": null,
     "start_time": null,
     "status": "pending"
    },
    "tags": []
   },
   "source": [
    "#### **Putting tensors (and models) on the GPU**\n",
    "**Note:** Putting a tensor on GPU using to(device) (e.g. some_tensor.to(device)) returns a copy of that tensor, e.g. the same tensor will be on CPU and GPU. To overwrite tensors, reassign them:\n",
    "\n",
    "some_tensor = some_tensor.to(device)"
   ]
  },
  {
   "cell_type": "code",
   "execution_count": null,
   "id": "dca1659d",
   "metadata": {
    "execution": {
     "iopub.execute_input": "2023-10-28T01:35:18.625225Z",
     "iopub.status.busy": "2023-10-28T01:35:18.624503Z",
     "iopub.status.idle": "2023-10-28T01:35:22.911878Z",
     "shell.execute_reply": "2023-10-28T01:35:22.910836Z",
     "shell.execute_reply.started": "2023-10-28T01:35:18.625191Z"
    },
    "id": "ZMmH3xtGISoZ",
    "outputId": "d7d9e018-55eb-4cbe-cf2e-e63f762050a6",
    "papermill": {
     "duration": null,
     "end_time": null,
     "exception": null,
     "start_time": null,
     "status": "pending"
    },
    "tags": []
   },
   "outputs": [],
   "source": [
    "# Create tensor (default on CPU)\n",
    "tensor = torch.tensor([1, 2, 3])\n",
    "\n",
    "# Tensor not on GPU\n",
    "print(tensor, tensor.device)\n",
    "\n",
    "# Move tensor to GPU (if available)\n",
    "tensor_on_gpu = tensor.to(device)\n",
    "tensor_on_gpu"
   ]
  },
  {
   "cell_type": "markdown",
   "id": "f5837773",
   "metadata": {
    "id": "sB2B2H3hIjo6",
    "papermill": {
     "duration": null,
     "end_time": null,
     "exception": null,
     "start_time": null,
     "status": "pending"
    },
    "tags": []
   },
   "source": [
    "#### **Moving tensors back to the CPU**"
   ]
  },
  {
   "cell_type": "code",
   "execution_count": null,
   "id": "cca03826",
   "metadata": {
    "execution": {
     "iopub.execute_input": "2023-10-28T01:35:22.913459Z",
     "iopub.status.busy": "2023-10-28T01:35:22.913133Z",
     "iopub.status.idle": "2023-10-28T01:35:22.960819Z",
     "shell.execute_reply": "2023-10-28T01:35:22.959218Z",
     "shell.execute_reply.started": "2023-10-28T01:35:22.913434Z"
    },
    "id": "wpZBpN9wIyoZ",
    "outputId": "56467865-ba5e-497c-e97a-fcd4aa1ec5ac",
    "papermill": {
     "duration": null,
     "end_time": null,
     "exception": null,
     "start_time": null,
     "status": "pending"
    },
    "tags": []
   },
   "outputs": [],
   "source": [
    "# If tensor is on GPU, can't transform it to NumPy (this will error)\n",
    "tensor_on_gpu.numpy()"
   ]
  },
  {
   "cell_type": "code",
   "execution_count": null,
   "id": "6ed0bf84",
   "metadata": {
    "execution": {
     "iopub.execute_input": "2023-10-28T01:36:00.692583Z",
     "iopub.status.busy": "2023-10-28T01:36:00.691655Z",
     "iopub.status.idle": "2023-10-28T01:36:00.699389Z",
     "shell.execute_reply": "2023-10-28T01:36:00.698432Z",
     "shell.execute_reply.started": "2023-10-28T01:36:00.692551Z"
    },
    "id": "cY20BL-3I1YB",
    "outputId": "cd7edb3e-c0b4-4050-d385-e5217aea31cd",
    "papermill": {
     "duration": null,
     "end_time": null,
     "exception": null,
     "start_time": null,
     "status": "pending"
    },
    "tags": []
   },
   "outputs": [],
   "source": [
    "# Instead, copy the tensor back to cpu\n",
    "tensor_back_on_cpu = tensor_on_gpu.cpu().numpy()\n",
    "tensor_back_on_cpu"
   ]
  },
  {
   "cell_type": "code",
   "execution_count": null,
   "id": "20a0fdb3",
   "metadata": {
    "execution": {
     "iopub.execute_input": "2023-10-28T01:36:01.422783Z",
     "iopub.status.busy": "2023-10-28T01:36:01.422350Z",
     "iopub.status.idle": "2023-10-28T01:36:01.429788Z",
     "shell.execute_reply": "2023-10-28T01:36:01.428820Z",
     "shell.execute_reply.started": "2023-10-28T01:36:01.422754Z"
    },
    "id": "xBRSbfS1I4dC",
    "outputId": "761084bb-41d9-4c70-bc0d-2f6df2c4eb66",
    "papermill": {
     "duration": null,
     "end_time": null,
     "exception": null,
     "start_time": null,
     "status": "pending"
    },
    "tags": []
   },
   "outputs": [],
   "source": [
    "tensor_on_gpu"
   ]
  },
  {
   "cell_type": "markdown",
   "id": "24b25e67",
   "metadata": {
    "papermill": {
     "duration": null,
     "end_time": null,
     "exception": null,
     "start_time": null,
     "status": "pending"
    },
    "tags": []
   },
   "source": [
    "## **Closing Thoughts**\n",
    "In this comprehensive guide, we've explored the fundamental concepts of PyTorch, a powerful deep learning framework, and its practical applications. We started by introducing PyTorch and its essential libraries, followed by a hands-on journey through tensors, their operations, and various tensor types. We discussed GPU utilization for faster computations and how to ensure reproducibility in your experiments. Whether you're a beginner in deep learning or an experienced practitioner, this guide serves as a valuable resource for harnessing the capabilities of PyTorch in your machine learning projects. With its flexibility, performance optimization, and rich ecosystem, PyTorch continues to be a driving force in the world of deep learning. Now armed with this knowledge, you're well-equipped to dive deeper into PyTorch and explore its vast potential in your data science endeavors.\n",
    "\n",
    "**Please feel free to ask in the comment section if you have any confusion or questions.**"
   ]
  },
  {
   "cell_type": "markdown",
   "id": "f20bdc7c",
   "metadata": {
    "papermill": {
     "duration": null,
     "end_time": null,
     "exception": null,
     "start_time": null,
     "status": "pending"
    },
    "tags": []
   },
   "source": [
    "#### Here are some of the contributions I've made on Kaggle:\n",
    "\n",
    "- **[Comprehensive Guide on NumPy for Beginners](https://www.kaggle.com/code/tanvirnwu/comprehensive-guide-on-numpy-for-beginners#Learn-More)**\n",
    "- **[Comprehensive Guide on NumPy for Beginners](https://www.kaggle.com/code/tanvirnwu/boolean-in-python-with-example-and-explanation)**\n",
    "- **[Dictionary in Python with Examples & Explanations](https://www.kaggle.com/code/tanvirnwu/dictionary-in-python-with-examples-explanations)**\n",
    "- **[List in Python for Beginners](https://www.kaggle.com/code/tanvirnwu/list-in-python-for-beginners)**\n",
    "- **[A Brief Introduction of Graph Neural Network (GNN): Concepts, Types, and Uses](https://www.kaggle.com/discussions/general/449125#2493256)**\n",
    "- **[Essential Python Libraries for Data Visualization](https://www.kaggle.com/discussions/getting-started/450857)**"
   ]
  },
  {
   "cell_type": "markdown",
   "id": "a0588000",
   "metadata": {
    "papermill": {
     "duration": null,
     "end_time": null,
     "exception": null,
     "start_time": null,
     "status": "pending"
    },
    "tags": []
   },
   "source": [
    "### **Please Inspire me by your Upvotes, Comment & Follow. Thanks!**"
   ]
  }
 ],
 "metadata": {
  "kernelspec": {
   "display_name": "Python 3",
   "language": "python",
   "name": "python3"
  },
  "language_info": {
   "codemirror_mode": {
    "name": "ipython",
    "version": 3
   },
   "file_extension": ".py",
   "mimetype": "text/x-python",
   "name": "python",
   "nbconvert_exporter": "python",
   "pygments_lexer": "ipython3",
   "version": "3.10.12"
  },
  "papermill": {
   "default_parameters": {},
   "duration": 16.749525,
   "end_time": "2023-10-28T01:43:09.094915",
   "environment_variables": {},
   "exception": true,
   "input_path": "__notebook__.ipynb",
   "output_path": "__notebook__.ipynb",
   "parameters": {},
   "start_time": "2023-10-28T01:42:52.345390",
   "version": "2.4.0"
  }
 },
 "nbformat": 4,
 "nbformat_minor": 5
}
