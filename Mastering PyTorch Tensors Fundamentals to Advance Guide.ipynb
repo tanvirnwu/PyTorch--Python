{
 "cells": [
  {
   "cell_type": "markdown",
   "id": "d8b3b6d1",
   "metadata": {
    "papermill": {
     "duration": 0.038142,
     "end_time": "2023-10-28T03:01:38.712486",
     "exception": false,
     "start_time": "2023-10-28T03:01:38.674344",
     "status": "completed"
    },
    "tags": []
   },
   "source": [
    "## **Introduction**\n",
    "\n",
    "**[PyTorch](https://pytorch.org/)** is an open-source machine learning library developed by Facebook's AI Research lab. It’s popular in the deep learning community due to its flexibility and dynamic computation graph, which makes it easier to work with and debug. PyTorch provides a wide range of APIs for both neural networks and tensor computations. It is also known for its pythonic design, making it very straightforward and intuitive for Python developers to learn and implement deep learning algorithms. The extensive community support and plethora of tutorials and documentation available make learning and implementing models using PyTorch an enriching experience.\n",
    "\n",
    "For more detailed information and resources, you can visit the official **[PyTorch website](https://pytorch.org/)**."
   ]
  },
  {
   "cell_type": "code",
   "execution_count": 1,
   "id": "99a81e59",
   "metadata": {
    "execution": {
     "iopub.execute_input": "2023-10-28T03:01:38.791307Z",
     "iopub.status.busy": "2023-10-28T03:01:38.790991Z",
     "iopub.status.idle": "2023-10-28T03:01:43.401523Z",
     "shell.execute_reply": "2023-10-28T03:01:43.400537Z"
    },
    "papermill": {
     "duration": 4.652849,
     "end_time": "2023-10-28T03:01:43.403998",
     "exception": false,
     "start_time": "2023-10-28T03:01:38.751149",
     "status": "completed"
    },
    "tags": []
   },
   "outputs": [
    {
     "name": "stdout",
     "output_type": "stream",
     "text": [
      "2.0.0\n"
     ]
    }
   ],
   "source": [
    "# Importing PyTorch, essential for deep learning tasks.\n",
    "import torch\n",
    "\n",
    "# Importing pandas for data manipulation and analysis.\n",
    "import pandas as pd\n",
    "\n",
    "# Importing numpy for numerical computations.\n",
    "import numpy as np\n",
    "\n",
    "# Importing matplotlib for data visualization.\n",
    "import matplotlib.pyplot as plt\n",
    "\n",
    "# Printing the version of PyTorch to verify installation.\n",
    "print(torch.__version__)"
   ]
  },
  {
   "cell_type": "markdown",
   "id": "c63615d8",
   "metadata": {
    "id": "3KdMa8liMKre",
    "papermill": {
     "duration": 0.081999,
     "end_time": "2023-10-28T03:01:43.524720",
     "exception": false,
     "start_time": "2023-10-28T03:01:43.442721",
     "status": "completed"
    },
    "tags": []
   },
   "source": [
    "## **What is Tensor?**\n",
    "**Tensor:** A tensor is a multi-dimensional array that is the fundamental building block of PyTorch and many other machine learning and deep learning libraries. Tensors are similar to NumPy’s ndarrays, but they also have the additional capability to be used on GPUs for accelerated computing. Tensors are optimized for automatic differentiation (autograd) and are used as the primary data structure to build neural networks in PyTorch.\n",
    "\n",
    "Here are a few key points about tensors:\n",
    "\n",
    "#### **Dimentions**\n",
    "- **0D Tensor:** A 0-dimensional tensor is a single number (scalar).\n",
    "- **1D Tensor:** A 1-dimensional tensor is similar to a vector.\n",
    "- **2D Tensor:** A 2-dimensional tensor is similar to a matrix.\n",
    "- **ND Tensor:** Tensors can have three or more dimensions, allowing them to represent more complex data structures.\n",
    "\n",
    "#### **Data Types**\n",
    "- Tensors can hold data of different data types such as float, int, and boolean.\n",
    "\n",
    "#### **Device Compatibility**\n",
    "- Tensors can be moved onto any device, such as a GPU, to accelerate computing.\n",
    "\n",
    "#### **Autograd**\n",
    "- PyTorch tensors support autograd, meaning that they can automatically compute gradients or derivatives, essential for neural network training."
   ]
  },
  {
   "cell_type": "markdown",
   "id": "d8e5d121",
   "metadata": {
    "papermill": {
     "duration": 0.039564,
     "end_time": "2023-10-28T03:01:43.603101",
     "exception": false,
     "start_time": "2023-10-28T03:01:43.563537",
     "status": "completed"
    },
    "tags": []
   },
   "source": [
    "## **Creating Tensors**"
   ]
  },
  {
   "cell_type": "markdown",
   "id": "b8c5e262",
   "metadata": {
    "papermill": {
     "duration": 0.038331,
     "end_time": "2023-10-28T03:01:43.680704",
     "exception": false,
     "start_time": "2023-10-28T03:01:43.642373",
     "status": "completed"
    },
    "tags": []
   },
   "source": [
    "#### **0D Tensor**"
   ]
  },
  {
   "cell_type": "code",
   "execution_count": 2,
   "id": "582e98b5",
   "metadata": {
    "execution": {
     "iopub.execute_input": "2023-10-28T03:01:43.760928Z",
     "iopub.status.busy": "2023-10-28T03:01:43.760043Z",
     "iopub.status.idle": "2023-10-28T03:01:43.802134Z",
     "shell.execute_reply": "2023-10-28T03:01:43.801206Z"
    },
    "id": "I45Vpb2XLs4s",
    "outputId": "a63df0b4-5505-4ae7-c407-a05e5c34da69",
    "papermill": {
     "duration": 0.083776,
     "end_time": "2023-10-28T03:01:43.804136",
     "exception": false,
     "start_time": "2023-10-28T03:01:43.720360",
     "status": "completed"
    },
    "tags": []
   },
   "outputs": [
    {
     "data": {
      "text/plain": [
       "tensor(7)"
      ]
     },
     "execution_count": 2,
     "metadata": {},
     "output_type": "execute_result"
    }
   ],
   "source": [
    "# Creating a 0-dimensional tensor (scalar) with the value 7 using PyTorch.\n",
    "scalar = torch.tensor(7)\n",
    "scalar"
   ]
  },
  {
   "cell_type": "code",
   "execution_count": 3,
   "id": "16d94fee",
   "metadata": {
    "execution": {
     "iopub.execute_input": "2023-10-28T03:01:43.883650Z",
     "iopub.status.busy": "2023-10-28T03:01:43.883347Z",
     "iopub.status.idle": "2023-10-28T03:01:43.887735Z",
     "shell.execute_reply": "2023-10-28T03:01:43.886842Z"
    },
    "id": "_rnwMsB2MkqU",
    "outputId": "aa93db92-8cdb-4268-9d60-015069d34a3e",
    "papermill": {
     "duration": 0.046631,
     "end_time": "2023-10-28T03:01:43.889983",
     "exception": false,
     "start_time": "2023-10-28T03:01:43.843352",
     "status": "completed"
    },
    "tags": []
   },
   "outputs": [
    {
     "name": "stdout",
     "output_type": "stream",
     "text": [
      "Domention of Scalar is: 0\n"
     ]
    }
   ],
   "source": [
    "# Printing the number of dimensions of the scalar tensor. Expecting 0 because it's a scalar.\n",
    "print(f\"Domention of Scalar is: {scalar.ndim}\")"
   ]
  },
  {
   "cell_type": "code",
   "execution_count": 4,
   "id": "4083aa8c",
   "metadata": {
    "execution": {
     "iopub.execute_input": "2023-10-28T03:01:43.966323Z",
     "iopub.status.busy": "2023-10-28T03:01:43.966008Z",
     "iopub.status.idle": "2023-10-28T03:01:43.970487Z",
     "shell.execute_reply": "2023-10-28T03:01:43.969627Z"
    },
    "id": "LLCnynZtM0TY",
    "outputId": "f3ba28d9-8836-4336-92b3-53ab98649c3c",
    "papermill": {
     "duration": 0.044687,
     "end_time": "2023-10-28T03:01:43.972537",
     "exception": false,
     "start_time": "2023-10-28T03:01:43.927850",
     "status": "completed"
    },
    "tags": []
   },
   "outputs": [
    {
     "name": "stdout",
     "output_type": "stream",
     "text": [
      "Value of Scalar is: 7\n"
     ]
    }
   ],
   "source": [
    "# Printing the value of the scalar tensor using formatted string.\n",
    "print(f\"Value of Scalar is: {scalar.item()}\")"
   ]
  },
  {
   "cell_type": "markdown",
   "id": "103196e4",
   "metadata": {
    "papermill": {
     "duration": 0.039418,
     "end_time": "2023-10-28T03:01:44.050864",
     "exception": false,
     "start_time": "2023-10-28T03:01:44.011446",
     "status": "completed"
    },
    "tags": []
   },
   "source": [
    "#### **1D Vector**"
   ]
  },
  {
   "cell_type": "code",
   "execution_count": 5,
   "id": "8c579eeb",
   "metadata": {
    "execution": {
     "iopub.execute_input": "2023-10-28T03:01:44.133061Z",
     "iopub.status.busy": "2023-10-28T03:01:44.132112Z",
     "iopub.status.idle": "2023-10-28T03:01:44.140414Z",
     "shell.execute_reply": "2023-10-28T03:01:44.139506Z"
    },
    "id": "H-wCNG9nM9EO",
    "outputId": "0873b72c-45ac-497b-cddc-4f5c145610a0",
    "papermill": {
     "duration": 0.050935,
     "end_time": "2023-10-28T03:01:44.142480",
     "exception": false,
     "start_time": "2023-10-28T03:01:44.091545",
     "status": "completed"
    },
    "tags": []
   },
   "outputs": [
    {
     "data": {
      "text/plain": [
       "tensor([7, 7])"
      ]
     },
     "execution_count": 5,
     "metadata": {},
     "output_type": "execute_result"
    }
   ],
   "source": [
    "# Creating a 1-dimensional tensor (vector) with two elements, both being the value 7.\n",
    "vector = torch.tensor([7, 7])\n",
    "vector"
   ]
  },
  {
   "cell_type": "code",
   "execution_count": 6,
   "id": "6aed3f73",
   "metadata": {
    "execution": {
     "iopub.execute_input": "2023-10-28T03:01:44.224521Z",
     "iopub.status.busy": "2023-10-28T03:01:44.224160Z",
     "iopub.status.idle": "2023-10-28T03:01:44.229051Z",
     "shell.execute_reply": "2023-10-28T03:01:44.228087Z"
    },
    "id": "KZBGfKcCNG5s",
    "outputId": "dbcee822-06ca-4862-b866-0582cac7ce78",
    "papermill": {
     "duration": 0.048364,
     "end_time": "2023-10-28T03:01:44.231134",
     "exception": false,
     "start_time": "2023-10-28T03:01:44.182770",
     "status": "completed"
    },
    "tags": []
   },
   "outputs": [
    {
     "name": "stdout",
     "output_type": "stream",
     "text": [
      "Domention of Vector is: 1\n"
     ]
    }
   ],
   "source": [
    "# Printing the number of dimensions of the scalar tensor. Expecting 0 because it's a scalar.\n",
    "print(f\"Domention of Vector is: {vector.ndim}\")"
   ]
  },
  {
   "cell_type": "code",
   "execution_count": 7,
   "id": "03769a5d",
   "metadata": {
    "execution": {
     "iopub.execute_input": "2023-10-28T03:01:44.311371Z",
     "iopub.status.busy": "2023-10-28T03:01:44.311011Z",
     "iopub.status.idle": "2023-10-28T03:01:44.316246Z",
     "shell.execute_reply": "2023-10-28T03:01:44.315240Z"
    },
    "id": "cJqqHWt2NTz0",
    "outputId": "1431bfb4-958f-46b3-f336-7741c93ba55b",
    "papermill": {
     "duration": 0.046807,
     "end_time": "2023-10-28T03:01:44.318208",
     "exception": false,
     "start_time": "2023-10-28T03:01:44.271401",
     "status": "completed"
    },
    "tags": []
   },
   "outputs": [
    {
     "name": "stdout",
     "output_type": "stream",
     "text": [
      "Shape of the Vector: torch.Size([2])\n"
     ]
    }
   ],
   "source": [
    "print(f\"Shape of the Vector: {vector.shape}\")"
   ]
  },
  {
   "cell_type": "markdown",
   "id": "72b8678d",
   "metadata": {
    "papermill": {
     "duration": 0.038556,
     "end_time": "2023-10-28T03:01:44.395063",
     "exception": false,
     "start_time": "2023-10-28T03:01:44.356507",
     "status": "completed"
    },
    "tags": []
   },
   "source": [
    "#### **2D Tensor: Matrix**\n",
    "In this code, a 2-dimensional tensor (matrix) named MATRIX is created with the specified values in a 2x2 format. "
   ]
  },
  {
   "cell_type": "code",
   "execution_count": 8,
   "id": "0e98cfeb",
   "metadata": {
    "execution": {
     "iopub.execute_input": "2023-10-28T03:01:44.474972Z",
     "iopub.status.busy": "2023-10-28T03:01:44.474672Z",
     "iopub.status.idle": "2023-10-28T03:01:44.482678Z",
     "shell.execute_reply": "2023-10-28T03:01:44.481534Z"
    },
    "id": "CqLWvezQNYcr",
    "outputId": "65df4e5c-6a90-4be5-b544-cb3149f2d414",
    "papermill": {
     "duration": 0.050992,
     "end_time": "2023-10-28T03:01:44.485082",
     "exception": false,
     "start_time": "2023-10-28T03:01:44.434090",
     "status": "completed"
    },
    "tags": []
   },
   "outputs": [
    {
     "name": "stdout",
     "output_type": "stream",
     "text": [
      "tensor([[ 7,  8],\n",
      "        [ 9, 10]])\n"
     ]
    }
   ],
   "source": [
    "# Creating a 2-dimensional tensor (matrix) with the specified values, and displaying it.\n",
    "MATRIX = torch.tensor([[7, 8],\n",
    "                       [9, 10]])\n",
    "print(MATRIX)\n"
   ]
  },
  {
   "cell_type": "code",
   "execution_count": 9,
   "id": "b0767b4f",
   "metadata": {
    "execution": {
     "iopub.execute_input": "2023-10-28T03:01:44.565434Z",
     "iopub.status.busy": "2023-10-28T03:01:44.565120Z",
     "iopub.status.idle": "2023-10-28T03:01:44.570079Z",
     "shell.execute_reply": "2023-10-28T03:01:44.568955Z"
    },
    "id": "6aXuxUwqNo-V",
    "outputId": "5f6e6f49-1653-4973-f18a-bfdd3fe493ca",
    "papermill": {
     "duration": 0.047775,
     "end_time": "2023-10-28T03:01:44.572053",
     "exception": false,
     "start_time": "2023-10-28T03:01:44.524278",
     "status": "completed"
    },
    "tags": []
   },
   "outputs": [
    {
     "name": "stdout",
     "output_type": "stream",
     "text": [
      "Number of Dimensions of MATRIX: 2\n"
     ]
    }
   ],
   "source": [
    "# Printing the number of dimensions of the MATRIX tensor. Since MATRIX is 2-dimensional, it will return 2.\n",
    "print(f\"Number of Dimensions of MATRIX: {MATRIX.ndim}\")"
   ]
  },
  {
   "cell_type": "code",
   "execution_count": 10,
   "id": "6ba12a5c",
   "metadata": {
    "execution": {
     "iopub.execute_input": "2023-10-28T03:01:44.652336Z",
     "iopub.status.busy": "2023-10-28T03:01:44.651660Z",
     "iopub.status.idle": "2023-10-28T03:01:44.656544Z",
     "shell.execute_reply": "2023-10-28T03:01:44.655505Z"
    },
    "id": "KDNQ8WTJNrne",
    "outputId": "e8a6f040-7aef-48ee-fa35-3d9709ed2d5b",
    "papermill": {
     "duration": 0.046073,
     "end_time": "2023-10-28T03:01:44.658627",
     "exception": false,
     "start_time": "2023-10-28T03:01:44.612554",
     "status": "completed"
    },
    "tags": []
   },
   "outputs": [
    {
     "name": "stdout",
     "output_type": "stream",
     "text": [
      "Shape of MATRIX: torch.Size([2, 2])\n"
     ]
    }
   ],
   "source": [
    "# Printing the shape of the MATRIX tensor. This will return the size of each dimension of the MATRIX.\n",
    "print(f\"Shape of MATRIX: {MATRIX.shape}\")"
   ]
  },
  {
   "cell_type": "code",
   "execution_count": 11,
   "id": "7ee9e7a3",
   "metadata": {
    "execution": {
     "iopub.execute_input": "2023-10-28T03:01:44.737354Z",
     "iopub.status.busy": "2023-10-28T03:01:44.737057Z",
     "iopub.status.idle": "2023-10-28T03:01:44.742092Z",
     "shell.execute_reply": "2023-10-28T03:01:44.741144Z"
    },
    "id": "gsnAnJjCNubr",
    "outputId": "4250929e-18fb-4fd5-a485-04d60bb8762c",
    "papermill": {
     "duration": 0.045876,
     "end_time": "2023-10-28T03:01:44.744068",
     "exception": false,
     "start_time": "2023-10-28T03:01:44.698192",
     "status": "completed"
    },
    "tags": []
   },
   "outputs": [
    {
     "name": "stdout",
     "output_type": "stream",
     "text": [
      "tensor([ 9, 10])\n"
     ]
    }
   ],
   "source": [
    "# Accessing and printing the second row of the MATRIX tensor.\n",
    "# Indexing is zero-based.\n",
    "print(MATRIX[1])"
   ]
  },
  {
   "cell_type": "code",
   "execution_count": 12,
   "id": "ac94448c",
   "metadata": {
    "execution": {
     "iopub.execute_input": "2023-10-28T03:01:44.820873Z",
     "iopub.status.busy": "2023-10-28T03:01:44.820611Z",
     "iopub.status.idle": "2023-10-28T03:01:44.825733Z",
     "shell.execute_reply": "2023-10-28T03:01:44.824735Z"
    },
    "id": "DidangZmNxv1",
    "outputId": "3e5daa1a-83d1-417b-d14f-36ff4be3e25f",
    "papermill": {
     "duration": 0.045827,
     "end_time": "2023-10-28T03:01:44.827598",
     "exception": false,
     "start_time": "2023-10-28T03:01:44.781771",
     "status": "completed"
    },
    "tags": []
   },
   "outputs": [
    {
     "name": "stdout",
     "output_type": "stream",
     "text": [
      "tensor([7, 8])\n"
     ]
    }
   ],
   "source": [
    "# Accessing and printing the first row of the MATRIX tensor.\n",
    "print(MATRIX[0])"
   ]
  },
  {
   "cell_type": "markdown",
   "id": "6ce0118a",
   "metadata": {
    "papermill": {
     "duration": 0.037324,
     "end_time": "2023-10-28T03:01:44.902496",
     "exception": false,
     "start_time": "2023-10-28T03:01:44.865172",
     "status": "completed"
    },
    "tags": []
   },
   "source": [
    "#### **3D Tensor**\n",
    "In this code snippet, a 3-dimensional tensor named TENSOR is created with the specified values. Using the print statement will cleanly display the TENSOR tensor when you run this code, showcasing its three-dimensional structure:"
   ]
  },
  {
   "cell_type": "code",
   "execution_count": 13,
   "id": "4ef97107",
   "metadata": {
    "execution": {
     "iopub.execute_input": "2023-10-28T03:01:44.979151Z",
     "iopub.status.busy": "2023-10-28T03:01:44.978867Z",
     "iopub.status.idle": "2023-10-28T03:01:44.984773Z",
     "shell.execute_reply": "2023-10-28T03:01:44.983826Z"
    },
    "id": "Dwbbm-R9NzB_",
    "outputId": "5a30b5ce-b94e-4c83-8239-13d5394702f1",
    "papermill": {
     "duration": 0.046586,
     "end_time": "2023-10-28T03:01:44.986745",
     "exception": false,
     "start_time": "2023-10-28T03:01:44.940159",
     "status": "completed"
    },
    "tags": []
   },
   "outputs": [
    {
     "name": "stdout",
     "output_type": "stream",
     "text": [
      "tensor([[[1, 2, 3],\n",
      "         [3, 4, 5],\n",
      "         [5, 6, 7]]])\n"
     ]
    }
   ],
   "source": [
    "# Creating a 3-dimensional tensor (TENSOR) with the specified values, and displaying it.\n",
    "TENSOR = torch.tensor([[[1, 2, 3],\n",
    "                        [3, 4, 5],\n",
    "                        [5, 6, 7]]])\n",
    "print(TENSOR)"
   ]
  },
  {
   "cell_type": "code",
   "execution_count": 14,
   "id": "12dcfee6",
   "metadata": {
    "execution": {
     "iopub.execute_input": "2023-10-28T03:01:45.065945Z",
     "iopub.status.busy": "2023-10-28T03:01:45.065657Z",
     "iopub.status.idle": "2023-10-28T03:01:45.070400Z",
     "shell.execute_reply": "2023-10-28T03:01:45.069489Z"
    },
    "id": "uj1AoYL3OLyH",
    "outputId": "018e7bad-95ba-4f9c-ae4c-b37a7a6c1c98",
    "papermill": {
     "duration": 0.047501,
     "end_time": "2023-10-28T03:01:45.072438",
     "exception": false,
     "start_time": "2023-10-28T03:01:45.024937",
     "status": "completed"
    },
    "tags": []
   },
   "outputs": [
    {
     "name": "stdout",
     "output_type": "stream",
     "text": [
      "Shape of TENSOR: torch.Size([1, 3, 3]), Number of Dimensions: 3\n"
     ]
    }
   ],
   "source": [
    "# Printing the shape and number of dimensions of the TENSOR. \n",
    "# The shape will return the size of each dimension, and ndim will return the number of dimensions.\n",
    "print(f\"Shape of TENSOR: {TENSOR.shape}, Number of Dimensions: {TENSOR.ndim}\")"
   ]
  },
  {
   "cell_type": "code",
   "execution_count": 15,
   "id": "81e782ba",
   "metadata": {
    "execution": {
     "iopub.execute_input": "2023-10-28T03:01:45.151959Z",
     "iopub.status.busy": "2023-10-28T03:01:45.151681Z",
     "iopub.status.idle": "2023-10-28T03:01:45.157307Z",
     "shell.execute_reply": "2023-10-28T03:01:45.156348Z"
    },
    "id": "fOaZYE4aOQkM",
    "outputId": "30d3c14d-b5ab-4d68-afc4-ac408c6e9848",
    "papermill": {
     "duration": 0.048194,
     "end_time": "2023-10-28T03:01:45.159344",
     "exception": false,
     "start_time": "2023-10-28T03:01:45.111150",
     "status": "completed"
    },
    "tags": []
   },
   "outputs": [
    {
     "name": "stdout",
     "output_type": "stream",
     "text": [
      "tensor([[1, 2, 3],\n",
      "        [3, 4, 5],\n",
      "        [5, 6, 7]])\n"
     ]
    }
   ],
   "source": [
    "# Accessing and printing the first element of the TENSOR. Since TENSOR is a 3D tensor, this will return a 2D matrix.\n",
    "print(TENSOR[0])"
   ]
  },
  {
   "cell_type": "code",
   "execution_count": 16,
   "id": "fb20e0e4",
   "metadata": {
    "execution": {
     "iopub.execute_input": "2023-10-28T03:01:45.239249Z",
     "iopub.status.busy": "2023-10-28T03:01:45.238565Z",
     "iopub.status.idle": "2023-10-28T03:01:45.244714Z",
     "shell.execute_reply": "2023-10-28T03:01:45.243823Z"
    },
    "id": "yUnBeYyJOeMU",
    "outputId": "3a8050f4-7330-4b1d-f396-c8274ef239e6",
    "papermill": {
     "duration": 0.048335,
     "end_time": "2023-10-28T03:01:45.246645",
     "exception": false,
     "start_time": "2023-10-28T03:01:45.198310",
     "status": "completed"
    },
    "tags": []
   },
   "outputs": [
    {
     "name": "stdout",
     "output_type": "stream",
     "text": [
      "tensor([[[1, 2, 3],\n",
      "         [3, 4, 5],\n",
      "         [5, 6, 7]],\n",
      "\n",
      "        [[1, 2, 3],\n",
      "         [3, 4, 5],\n",
      "         [5, 6, 7]]])\n"
     ]
    }
   ],
   "source": [
    "# 3D Tensor\n",
    "# Creating a 3-dimensional tensor (TENSOR_2) with two 3x3 matrices, and displaying it.\n",
    "TENSOR_2 = torch.tensor([[[1, 2, 3],\n",
    "                          [3, 4, 5],\n",
    "                          [5, 6, 7]],\n",
    "\n",
    "                         [[1, 2, 3],\n",
    "                          [3, 4, 5],\n",
    "                          [5, 6, 7]]\n",
    "                         ])\n",
    "\n",
    "print(TENSOR_2)"
   ]
  },
  {
   "cell_type": "code",
   "execution_count": 17,
   "id": "80781abb",
   "metadata": {
    "execution": {
     "iopub.execute_input": "2023-10-28T03:01:45.325970Z",
     "iopub.status.busy": "2023-10-28T03:01:45.325454Z",
     "iopub.status.idle": "2023-10-28T03:01:45.330071Z",
     "shell.execute_reply": "2023-10-28T03:01:45.329297Z"
    },
    "id": "cHaGNCnGOlZb",
    "outputId": "00fcd6a5-3758-4b47-c8e9-d3e4bdbf3332",
    "papermill": {
     "duration": 0.045738,
     "end_time": "2023-10-28T03:01:45.332106",
     "exception": false,
     "start_time": "2023-10-28T03:01:45.286368",
     "status": "completed"
    },
    "tags": []
   },
   "outputs": [
    {
     "name": "stdout",
     "output_type": "stream",
     "text": [
      "Number of Dimensions of TENSOR_2: 3, Shape of TENSOR_2: torch.Size([2, 3, 3])\n"
     ]
    }
   ],
   "source": [
    "# Printing the number of dimensions and the shape of TENSOR_2.\n",
    "# .ndim returns the number of dimensions, and .shape returns the size of each dimension.\n",
    "print(f\"Number of Dimensions of TENSOR_2: {TENSOR_2.ndim}, Shape of TENSOR_2: {TENSOR_2.shape}\")"
   ]
  },
  {
   "cell_type": "code",
   "execution_count": 18,
   "id": "7df6f42e",
   "metadata": {
    "execution": {
     "iopub.execute_input": "2023-10-28T03:01:45.409669Z",
     "iopub.status.busy": "2023-10-28T03:01:45.409406Z",
     "iopub.status.idle": "2023-10-28T03:01:45.415140Z",
     "shell.execute_reply": "2023-10-28T03:01:45.414288Z"
    },
    "id": "ntgeCd8WPKfU",
    "outputId": "7b132d38-4975-472e-938c-af6085370cc8",
    "papermill": {
     "duration": 0.046881,
     "end_time": "2023-10-28T03:01:45.417370",
     "exception": false,
     "start_time": "2023-10-28T03:01:45.370489",
     "status": "completed"
    },
    "tags": []
   },
   "outputs": [
    {
     "name": "stdout",
     "output_type": "stream",
     "text": [
      "Number of Dimensions of TENSOR_3 is: 3, Shape of TENSOR_3: torch.Size([3, 3, 3])\n"
     ]
    }
   ],
   "source": [
    "# 3D Tensor\n",
    "# Creating a 3-dimensional tensor (TENSOR_3) with three 3x3 matrices, and displaying its number of dimensions and shape.\n",
    "TENSOR_3 = torch.tensor([[[1, 2, 3],\n",
    "                          [3, 4, 5],\n",
    "                          [5, 6, 7]],\n",
    "\n",
    "                         [[1, 2, 3],\n",
    "                          [3, 4, 5],\n",
    "                          [5, 6, 7]],\n",
    "\n",
    "                         [[1, 2, 3],\n",
    "                          [3, 4, 5],\n",
    "                          [5, 6, 7]]\n",
    "                         ])\n",
    "\n",
    "# Printing the number of dimensions and the shape of TENSOR_3.\n",
    "print(f\"Number of Dimensions of TENSOR_3 is: {TENSOR_3.ndim}, Shape of TENSOR_3: {TENSOR_3.shape}\")"
   ]
  },
  {
   "cell_type": "markdown",
   "id": "d7acdba5",
   "metadata": {
    "id": "P94566UIPZk8",
    "papermill": {
     "duration": 0.039028,
     "end_time": "2023-10-28T03:01:45.494346",
     "exception": false,
     "start_time": "2023-10-28T03:01:45.455318",
     "status": "completed"
    },
    "tags": []
   },
   "source": [
    "## **Creating Random Tensors**"
   ]
  },
  {
   "cell_type": "code",
   "execution_count": 19,
   "id": "d65fb96b",
   "metadata": {
    "execution": {
     "iopub.execute_input": "2023-10-28T03:01:45.574931Z",
     "iopub.status.busy": "2023-10-28T03:01:45.574563Z",
     "iopub.status.idle": "2023-10-28T03:01:45.629222Z",
     "shell.execute_reply": "2023-10-28T03:01:45.628126Z"
    },
    "id": "Xhqso6WxPg3X",
    "outputId": "5e19117c-d5e6-4f1c-f5df-402188337b02",
    "papermill": {
     "duration": 0.097813,
     "end_time": "2023-10-28T03:01:45.631451",
     "exception": false,
     "start_time": "2023-10-28T03:01:45.533638",
     "status": "completed"
    },
    "tags": []
   },
   "outputs": [
    {
     "name": "stdout",
     "output_type": "stream",
     "text": [
      "tensor([[0.3651, 0.0635, 0.8533, 0.8187],\n",
      "        [0.1126, 0.6958, 0.8192, 0.6821],\n",
      "        [0.9119, 0.8845, 0.3161, 0.4256]])\n"
     ]
    }
   ],
   "source": [
    "# Creating a random tensor of shape (3, 4) with values uniformly distributed between 0 and 1.\n",
    "random_tensor = torch.rand(3, 4)\n",
    "print(random_tensor)"
   ]
  },
  {
   "cell_type": "code",
   "execution_count": 20,
   "id": "4771f7c1",
   "metadata": {
    "execution": {
     "iopub.execute_input": "2023-10-28T03:01:45.718683Z",
     "iopub.status.busy": "2023-10-28T03:01:45.718346Z",
     "iopub.status.idle": "2023-10-28T03:01:45.723086Z",
     "shell.execute_reply": "2023-10-28T03:01:45.722187Z"
    },
    "id": "mvnTVgo1T7Rc",
    "outputId": "2c15dcfe-441c-4363-b276-9b1f31c9ff86",
    "papermill": {
     "duration": 0.050426,
     "end_time": "2023-10-28T03:01:45.725090",
     "exception": false,
     "start_time": "2023-10-28T03:01:45.674664",
     "status": "completed"
    },
    "tags": []
   },
   "outputs": [
    {
     "name": "stdout",
     "output_type": "stream",
     "text": [
      "Number of Dimensions of random_tensor: 2\n"
     ]
    }
   ],
   "source": [
    "# Printing the number of dimensions of random_tensor using the .ndim attribute.\n",
    "print(f\"Number of Dimensions of random_tensor: {random_tensor.ndim}\")"
   ]
  },
  {
   "cell_type": "code",
   "execution_count": 21,
   "id": "efd7abad",
   "metadata": {
    "execution": {
     "iopub.execute_input": "2023-10-28T03:01:45.809807Z",
     "iopub.status.busy": "2023-10-28T03:01:45.809545Z",
     "iopub.status.idle": "2023-10-28T03:01:45.813880Z",
     "shell.execute_reply": "2023-10-28T03:01:45.813038Z"
    },
    "id": "d2MnyFbpT_Ad",
    "outputId": "cde50133-e95b-412f-da3d-992cd0b4f5aa",
    "papermill": {
     "duration": 0.046759,
     "end_time": "2023-10-28T03:01:45.816002",
     "exception": false,
     "start_time": "2023-10-28T03:01:45.769243",
     "status": "completed"
    },
    "tags": []
   },
   "outputs": [
    {
     "name": "stdout",
     "output_type": "stream",
     "text": [
      "Shape of random_tensor: torch.Size([3, 4])\n"
     ]
    }
   ],
   "source": [
    "# Printing the shape of random_tensor using the .shape attribute.\n",
    "# This will return a tuple representing the size of each dimension.\n",
    "print(f\"Shape of random_tensor: {random_tensor.shape}\")"
   ]
  },
  {
   "cell_type": "code",
   "execution_count": 22,
   "id": "487f5061",
   "metadata": {
    "execution": {
     "iopub.execute_input": "2023-10-28T03:01:45.893995Z",
     "iopub.status.busy": "2023-10-28T03:01:45.893294Z",
     "iopub.status.idle": "2023-10-28T03:01:45.899173Z",
     "shell.execute_reply": "2023-10-28T03:01:45.898154Z"
    },
    "id": "UAdKHLhPUBVh",
    "outputId": "712073a3-83b2-4230-df23-28940ebc7a19",
    "papermill": {
     "duration": 0.046893,
     "end_time": "2023-10-28T03:01:45.901198",
     "exception": false,
     "start_time": "2023-10-28T03:01:45.854305",
     "status": "completed"
    },
    "tags": []
   },
   "outputs": [
    {
     "name": "stdout",
     "output_type": "stream",
     "text": [
      "tensor([[[0.2135, 0.5271, 0.7504, 0.3874],\n",
      "         [0.3376, 0.6081, 0.3399, 0.4245],\n",
      "         [0.7120, 0.1783, 0.0025, 0.2874],\n",
      "         [0.4554, 0.0897, 0.0881, 0.4283],\n",
      "         [0.6020, 0.3639, 0.0040, 0.6427],\n",
      "         [0.7548, 0.0878, 0.9973, 0.5440]]])\n"
     ]
    }
   ],
   "source": [
    "# Creating a 3D random tensor of shape (1, 6, 4) with values uniformly distributed between 0 and 1.\n",
    "random_tensor = torch.rand(1, 6, 4)\n",
    "print(random_tensor)"
   ]
  },
  {
   "cell_type": "code",
   "execution_count": 23,
   "id": "c2d6af91",
   "metadata": {
    "execution": {
     "iopub.execute_input": "2023-10-28T03:01:45.981099Z",
     "iopub.status.busy": "2023-10-28T03:01:45.980836Z",
     "iopub.status.idle": "2023-10-28T03:01:45.987626Z",
     "shell.execute_reply": "2023-10-28T03:01:45.986539Z"
    },
    "id": "5NVV5hE1UZ1X",
    "outputId": "fa567d2f-2962-4654-8944-e5fac4a5f8dd",
    "papermill": {
     "duration": 0.049624,
     "end_time": "2023-10-28T03:01:45.989611",
     "exception": false,
     "start_time": "2023-10-28T03:01:45.939987",
     "status": "completed"
    },
    "tags": []
   },
   "outputs": [
    {
     "name": "stdout",
     "output_type": "stream",
     "text": [
      "Shape of random_image_size_tensor: torch.Size([224, 224, 3]), Number of Dimensions: 3\n"
     ]
    }
   ],
   "source": [
    "# Create a random tensor resembling an image size\n",
    "# Generating a random tensor of shape (224, 224, 3), symbolizing an image of 224x224 pixels with 3 color channels (RGB).\n",
    "random_image_size_tensor = torch.rand(size=(224, 224, 3))\n",
    "\n",
    "# Printing the shape and number of dimensions of the generated tensor.\n",
    "print(f\"Shape of random_image_size_tensor: {random_image_size_tensor.shape}, Number of Dimensions: {random_image_size_tensor.ndim}\")"
   ]
  },
  {
   "cell_type": "markdown",
   "id": "7891b25c",
   "metadata": {
    "id": "zRb7GVNqVm2d",
    "papermill": {
     "duration": 0.040929,
     "end_time": "2023-10-28T03:01:46.069793",
     "exception": false,
     "start_time": "2023-10-28T03:01:46.028864",
     "status": "completed"
    },
    "tags": []
   },
   "source": [
    "## **Zeros and Ones**\n",
    "In PyTorch, you can easily create tensors filled exclusively with zeros or ones. These types of tensors can be particularly useful for various scenarios, such as initializing weights in neural networks, among other use cases."
   ]
  },
  {
   "cell_type": "markdown",
   "id": "229cad1e",
   "metadata": {
    "papermill": {
     "duration": 0.038217,
     "end_time": "2023-10-28T03:01:46.146711",
     "exception": false,
     "start_time": "2023-10-28T03:01:46.108494",
     "status": "completed"
    },
    "tags": []
   },
   "source": [
    "#### **Creating a Zero Tensor**\n",
    "You can use the torch.zeros() function to create a tensor filled with zeros. "
   ]
  },
  {
   "cell_type": "code",
   "execution_count": 24,
   "id": "c35e6d20",
   "metadata": {
    "execution": {
     "iopub.execute_input": "2023-10-28T03:01:46.229145Z",
     "iopub.status.busy": "2023-10-28T03:01:46.228848Z",
     "iopub.status.idle": "2023-10-28T03:01:46.236221Z",
     "shell.execute_reply": "2023-10-28T03:01:46.235218Z"
    },
    "id": "YiRiJPF-VpXP",
    "outputId": "623da6c1-93b9-4d34-c753-f79814fa10b5",
    "papermill": {
     "duration": 0.051917,
     "end_time": "2023-10-28T03:01:46.238161",
     "exception": false,
     "start_time": "2023-10-28T03:01:46.186244",
     "status": "completed"
    },
    "tags": []
   },
   "outputs": [
    {
     "name": "stdout",
     "output_type": "stream",
     "text": [
      "Zero Tensor:\n",
      "tensor([[0., 0., 0.],\n",
      "        [0., 0., 0.],\n",
      "        [0., 0., 0.]])\n"
     ]
    }
   ],
   "source": [
    "# Creating a tensor of shape (3, 3) filled with zeros\n",
    "zero_tensor = torch.zeros(3, 3)\n",
    "print(\"Zero Tensor:\")\n",
    "print(zero_tensor)"
   ]
  },
  {
   "cell_type": "markdown",
   "id": "ed7af709",
   "metadata": {
    "papermill": {
     "duration": 0.041239,
     "end_time": "2023-10-28T03:01:46.321121",
     "exception": false,
     "start_time": "2023-10-28T03:01:46.279882",
     "status": "completed"
    },
    "tags": []
   },
   "source": [
    "#### **Creating a One Tensor**\n",
    "Likewise, the torch.ones() function allows you to create a tensor populated with ones. "
   ]
  },
  {
   "cell_type": "code",
   "execution_count": 25,
   "id": "bc2f0e73",
   "metadata": {
    "execution": {
     "iopub.execute_input": "2023-10-28T03:01:46.401994Z",
     "iopub.status.busy": "2023-10-28T03:01:46.401340Z",
     "iopub.status.idle": "2023-10-28T03:01:46.408211Z",
     "shell.execute_reply": "2023-10-28T03:01:46.407287Z"
    },
    "id": "ZAmK47xXVzAn",
    "outputId": "feed3f13-7db4-473b-821c-d47518f6c86f",
    "papermill": {
     "duration": 0.049568,
     "end_time": "2023-10-28T03:01:46.410153",
     "exception": false,
     "start_time": "2023-10-28T03:01:46.360585",
     "status": "completed"
    },
    "tags": []
   },
   "outputs": [
    {
     "name": "stdout",
     "output_type": "stream",
     "text": [
      "\n",
      "One Tensor:\n",
      "tensor([[1., 1., 1.],\n",
      "        [1., 1., 1.],\n",
      "        [1., 1., 1.]])\n"
     ]
    }
   ],
   "source": [
    "# Creating a tensor of shape (3, 3) filled with ones\n",
    "one_tensor = torch.ones(3, 3)\n",
    "print(\"\\nOne Tensor:\")\n",
    "print(one_tensor)"
   ]
  },
  {
   "cell_type": "code",
   "execution_count": 26,
   "id": "50ae268a",
   "metadata": {
    "execution": {
     "iopub.execute_input": "2023-10-28T03:01:46.491303Z",
     "iopub.status.busy": "2023-10-28T03:01:46.490791Z",
     "iopub.status.idle": "2023-10-28T03:01:46.495946Z",
     "shell.execute_reply": "2023-10-28T03:01:46.495008Z"
    },
    "id": "9vtFO7b5V31M",
    "outputId": "f4cfc5f4-85ba-4426-9861-0d62f404803c",
    "papermill": {
     "duration": 0.048277,
     "end_time": "2023-10-28T03:01:46.497999",
     "exception": false,
     "start_time": "2023-10-28T03:01:46.449722",
     "status": "completed"
    },
    "tags": []
   },
   "outputs": [
    {
     "name": "stdout",
     "output_type": "stream",
     "text": [
      "Data type of zero_tensor: torch.float32\n",
      "Data type of one_tensor: torch.float32\n"
     ]
    }
   ],
   "source": [
    "# Displaying the data types of zero_tensor and one_tensor using the .dtype attribute.\n",
    "# It returns the data type of the tensor's elements.\n",
    "print(f\"Data type of zero_tensor: {zero_tensor.dtype}\")\n",
    "print(f\"Data type of one_tensor: {one_tensor.dtype}\")"
   ]
  },
  {
   "cell_type": "markdown",
   "id": "6f81c9ab",
   "metadata": {
    "id": "ism2q17AV54A",
    "papermill": {
     "duration": 0.039817,
     "end_time": "2023-10-28T03:01:46.579468",
     "exception": false,
     "start_time": "2023-10-28T03:01:46.539651",
     "status": "completed"
    },
    "tags": []
   },
   "source": [
    "## **Arange of Tensors and Tensor-like**\n",
    "The torch.arange() function is used to create a 1-dimensional tensor with a sequence of numbers within a specified range. "
   ]
  },
  {
   "cell_type": "code",
   "execution_count": 27,
   "id": "4e96759d",
   "metadata": {
    "execution": {
     "iopub.execute_input": "2023-10-28T03:01:46.660245Z",
     "iopub.status.busy": "2023-10-28T03:01:46.659931Z",
     "iopub.status.idle": "2023-10-28T03:01:46.667823Z",
     "shell.execute_reply": "2023-10-28T03:01:46.666937Z"
    },
    "id": "j62QoSg6WP4q",
    "outputId": "4368008d-36ac-497a-d013-0a19f717746b",
    "papermill": {
     "duration": 0.05002,
     "end_time": "2023-10-28T03:01:46.669772",
     "exception": false,
     "start_time": "2023-10-28T03:01:46.619752",
     "status": "completed"
    },
    "tags": []
   },
   "outputs": [
    {
     "name": "stdout",
     "output_type": "stream",
     "text": [
      "Tensor created with torch.arange(0, 10):\n",
      "tensor([0, 1, 2, 3, 4, 5, 6, 7, 8, 9])\n"
     ]
    }
   ],
   "source": [
    "# Creating a 1D tensor with a sequence of integers from 0 to 9.\n",
    "arange_tensor = torch.arange(0, 10)\n",
    "\n",
    "# Printing the created tensor.\n",
    "print(\"Tensor created with torch.arange(0, 10):\")\n",
    "print(arange_tensor)"
   ]
  },
  {
   "cell_type": "code",
   "execution_count": 28,
   "id": "790077bd",
   "metadata": {
    "execution": {
     "iopub.execute_input": "2023-10-28T03:01:46.750367Z",
     "iopub.status.busy": "2023-10-28T03:01:46.750079Z",
     "iopub.status.idle": "2023-10-28T03:01:46.755867Z",
     "shell.execute_reply": "2023-10-28T03:01:46.755008Z"
    },
    "id": "8RJq3S3iWT7A",
    "outputId": "24e31c6d-d2e8-47de-8eb7-2d017aa85b21",
    "papermill": {
     "duration": 0.048255,
     "end_time": "2023-10-28T03:01:46.757922",
     "exception": false,
     "start_time": "2023-10-28T03:01:46.709667",
     "status": "completed"
    },
    "tags": []
   },
   "outputs": [
    {
     "name": "stdout",
     "output_type": "stream",
     "text": [
      "Tensor created with torch.arange(start=1, end=1000, step=77):\n",
      "tensor([  1,  78, 155, 232, 309, 386, 463, 540, 617, 694, 771, 848, 925])\n"
     ]
    }
   ],
   "source": [
    "# Using torch.arange() with specified start, end, and step values.\n",
    "# Creating a tensor with values starting from 1, ending before 1000, incrementing by 77.\n",
    "one_to_thousand = torch.arange(start=1, end=1000, step=77)\n",
    "\n",
    "# Printing the created tensor.\n",
    "print(\"Tensor created with torch.arange(start=1, end=1000, step=77):\")\n",
    "print(one_to_thousand)"
   ]
  },
  {
   "cell_type": "code",
   "execution_count": 29,
   "id": "c00b32bd",
   "metadata": {
    "execution": {
     "iopub.execute_input": "2023-10-28T03:01:46.839722Z",
     "iopub.status.busy": "2023-10-28T03:01:46.838850Z",
     "iopub.status.idle": "2023-10-28T03:01:46.844664Z",
     "shell.execute_reply": "2023-10-28T03:01:46.843801Z"
    },
    "id": "WTcrxrrJXGun",
    "outputId": "9a4bf4bb-e7cd-44b4-e5a9-0979a47dad6d",
    "papermill": {
     "duration": 0.04919,
     "end_time": "2023-10-28T03:01:46.846583",
     "exception": false,
     "start_time": "2023-10-28T03:01:46.797393",
     "status": "completed"
    },
    "tags": []
   },
   "outputs": [
    {
     "data": {
      "text/plain": [
       "torch.Size([13])"
      ]
     },
     "execution_count": 29,
     "metadata": {},
     "output_type": "execute_result"
    }
   ],
   "source": [
    "one_to_thousand.shape"
   ]
  },
  {
   "cell_type": "markdown",
   "id": "6db59870",
   "metadata": {
    "papermill": {
     "duration": 0.039306,
     "end_time": "2023-10-28T03:01:46.925093",
     "exception": false,
     "start_time": "2023-10-28T03:01:46.885787",
     "status": "completed"
    },
    "tags": []
   },
   "source": [
    "#### **Tensor-Like**\n",
    "torch.zeros_like() is a practical function used in various scenarios, primarily when you need a new tensor with the same shape and properties (e.g., data type, device) as an existing tensor but want to initialize it with zeros. "
   ]
  },
  {
   "cell_type": "code",
   "execution_count": 30,
   "id": "1d7c780d",
   "metadata": {
    "execution": {
     "iopub.execute_input": "2023-10-28T03:01:47.004693Z",
     "iopub.status.busy": "2023-10-28T03:01:47.004383Z",
     "iopub.status.idle": "2023-10-28T03:01:47.010547Z",
     "shell.execute_reply": "2023-10-28T03:01:47.009647Z"
    },
    "id": "myLdQGs1W-VB",
    "outputId": "0973f94e-cc7c-458b-d18f-ba065161a53e",
    "papermill": {
     "duration": 0.048584,
     "end_time": "2023-10-28T03:01:47.012538",
     "exception": false,
     "start_time": "2023-10-28T03:01:46.963954",
     "status": "completed"
    },
    "tags": []
   },
   "outputs": [
    {
     "name": "stdout",
     "output_type": "stream",
     "text": [
      "Tensor ten_zeros, with the same shape and properties as one_to_ten but filled with zeros:\n",
      "tensor([0, 0, 0, 0, 0, 0, 0, 0, 0, 0])\n"
     ]
    }
   ],
   "source": [
    "one_to_ten = torch.arange(1, 11)  # Creating a tensor with values from 1 to 10\n",
    "\n",
    "# Creating a tensor named ten_zeros with the same shape and properties as one_to_ten, but filled with zeros.\n",
    "ten_zeros = torch.zeros_like(input=one_to_ten)\n",
    "\n",
    "# Printing the ten_zeros tensor\n",
    "print(\"Tensor ten_zeros, with the same shape and properties as one_to_ten but filled with zeros:\")\n",
    "print(ten_zeros)"
   ]
  },
  {
   "cell_type": "markdown",
   "id": "6dd1406d",
   "metadata": {
    "id": "t92ZQdAzXPLI",
    "papermill": {
     "duration": 0.040409,
     "end_time": "2023-10-28T03:01:47.094238",
     "exception": false,
     "start_time": "2023-10-28T03:01:47.053829",
     "status": "completed"
    },
    "tags": []
   },
   "source": [
    "## **Tensor Data Types**"
   ]
  },
  {
   "cell_type": "markdown",
   "id": "6cb74a8c",
   "metadata": {
    "papermill": {
     "duration": 0.040472,
     "end_time": "2023-10-28T03:01:47.174422",
     "exception": false,
     "start_time": "2023-10-28T03:01:47.133950",
     "status": "completed"
    },
    "tags": []
   },
   "source": [
    "#### **Float 16**"
   ]
  },
  {
   "cell_type": "code",
   "execution_count": 31,
   "id": "18dbca20",
   "metadata": {
    "execution": {
     "iopub.execute_input": "2023-10-28T03:01:47.256917Z",
     "iopub.status.busy": "2023-10-28T03:01:47.256568Z",
     "iopub.status.idle": "2023-10-28T03:01:47.266766Z",
     "shell.execute_reply": "2023-10-28T03:01:47.265786Z"
    },
    "papermill": {
     "duration": 0.054451,
     "end_time": "2023-10-28T03:01:47.269277",
     "exception": false,
     "start_time": "2023-10-28T03:01:47.214826",
     "status": "completed"
    },
    "tags": []
   },
   "outputs": [
    {
     "name": "stdout",
     "output_type": "stream",
     "text": [
      "Tensor: tensor([3., 6., 9.], dtype=torch.float16), Data Type: torch.float16\n"
     ]
    }
   ],
   "source": [
    "# Creating a tensor with floating-point values and specifying the data type as torch.float16.\n",
    "float_16_tensor = torch.tensor([3.0, 6.0, 9.0], dtype=torch.float16)\n",
    "\n",
    "# Printing the tensor and its data type.\n",
    "print(f\"Tensor: {float_16_tensor}, Data Type: {float_16_tensor.dtype}\")"
   ]
  },
  {
   "cell_type": "markdown",
   "id": "b32e426f",
   "metadata": {
    "papermill": {
     "duration": 0.039316,
     "end_time": "2023-10-28T03:01:47.349024",
     "exception": false,
     "start_time": "2023-10-28T03:01:47.309708",
     "status": "completed"
    },
    "tags": []
   },
   "source": [
    "#### **Float 32**"
   ]
  },
  {
   "cell_type": "code",
   "execution_count": 32,
   "id": "26f5402d",
   "metadata": {
    "execution": {
     "iopub.execute_input": "2023-10-28T03:01:47.431541Z",
     "iopub.status.busy": "2023-10-28T03:01:47.430858Z",
     "iopub.status.idle": "2023-10-28T03:01:47.437027Z",
     "shell.execute_reply": "2023-10-28T03:01:47.435986Z"
    },
    "id": "Eaj8hiWIXq2M",
    "outputId": "b3ada270-0d87-4ab0-8bbd-7b175746edd6",
    "papermill": {
     "duration": 0.049624,
     "end_time": "2023-10-28T03:01:47.438995",
     "exception": false,
     "start_time": "2023-10-28T03:01:47.389371",
     "status": "completed"
    },
    "tags": []
   },
   "outputs": [
    {
     "name": "stdout",
     "output_type": "stream",
     "text": [
      "Tensor: tensor([3., 6., 9.]), Data Type: torch.float32\n"
     ]
    }
   ],
   "source": [
    "# Creating a tensor with floating-point values and letting PyTorch infer the data type.\n",
    "float_32_tensor = torch.tensor([3.0, 6.0, 9.0], dtype=None)\n",
    "\n",
    "# Printing the tensor and its data type.\n",
    "print(f\"Tensor: {float_32_tensor}, Data Type: {float_32_tensor.dtype}\")"
   ]
  },
  {
   "cell_type": "code",
   "execution_count": 33,
   "id": "f82963e7",
   "metadata": {
    "execution": {
     "iopub.execute_input": "2023-10-28T03:01:47.523421Z",
     "iopub.status.busy": "2023-10-28T03:01:47.523105Z",
     "iopub.status.idle": "2023-10-28T03:01:47.530008Z",
     "shell.execute_reply": "2023-10-28T03:01:47.529038Z"
    },
    "id": "FlJ61GoiX-zE",
    "outputId": "434c94c2-f267-4cfe-d6a7-43c0d0e8e494",
    "papermill": {
     "duration": 0.053001,
     "end_time": "2023-10-28T03:01:47.532176",
     "exception": false,
     "start_time": "2023-10-28T03:01:47.479175",
     "status": "completed"
    },
    "tags": []
   },
   "outputs": [
    {
     "name": "stdout",
     "output_type": "stream",
     "text": [
      "Tensor: tensor([3., 6., 9.]), Data Type: torch.float32\n"
     ]
    }
   ],
   "source": [
    "# Creating a tensor with additional specifications: dtype, device, and requires_grad.\n",
    "float_32_tensor = torch.tensor([3.0, 6.0, 9.0],  # Data values\n",
    "                               dtype=None,        # Data Type: Not explicitly set, will be inferred\n",
    "                               device=None,       # Device: Not explicitly set, will use the default device (usually CPU)\n",
    "                               requires_grad=False)  # Track Gradients: False\n",
    "\n",
    "# Printing the tensor and its data type.\n",
    "print(f\"Tensor: {float_32_tensor}, Data Type: {float_32_tensor.dtype}\")"
   ]
  },
  {
   "cell_type": "code",
   "execution_count": 34,
   "id": "516a811e",
   "metadata": {
    "execution": {
     "iopub.execute_input": "2023-10-28T03:01:47.617721Z",
     "iopub.status.busy": "2023-10-28T03:01:47.617435Z",
     "iopub.status.idle": "2023-10-28T03:01:47.623451Z",
     "shell.execute_reply": "2023-10-28T03:01:47.622404Z"
    },
    "id": "btGExBmlZ4Xk",
    "outputId": "257b6f6d-909d-4196-b248-d745cce65b8a",
    "papermill": {
     "duration": 0.051549,
     "end_time": "2023-10-28T03:01:47.625651",
     "exception": false,
     "start_time": "2023-10-28T03:01:47.574102",
     "status": "completed"
    },
    "tags": []
   },
   "outputs": [
    {
     "name": "stdout",
     "output_type": "stream",
     "text": [
      "Result Tensor: tensor([ 9., 36., 81.]), Data Type: torch.float32\n"
     ]
    }
   ],
   "source": [
    "# Element-wise multiplication between two tensors: float_16_tensor and float_32_tensor.\n",
    "nn = float_16_tensor * float_32_tensor\n",
    "\n",
    "# Printing the result tensor and its data type.\n",
    "print(f\"Result Tensor: {nn}, Data Type: {nn.dtype}\")"
   ]
  },
  {
   "cell_type": "code",
   "execution_count": 35,
   "id": "224d8b20",
   "metadata": {
    "execution": {
     "iopub.execute_input": "2023-10-28T03:01:47.710106Z",
     "iopub.status.busy": "2023-10-28T03:01:47.709828Z",
     "iopub.status.idle": "2023-10-28T03:01:47.715291Z",
     "shell.execute_reply": "2023-10-28T03:01:47.714427Z"
    },
    "id": "zPMod49uaYAJ",
    "outputId": "2cba4580-39ed-4a4a-f571-ddc46182606e",
    "papermill": {
     "duration": 0.048174,
     "end_time": "2023-10-28T03:01:47.717288",
     "exception": false,
     "start_time": "2023-10-28T03:01:47.669114",
     "status": "completed"
    },
    "tags": []
   },
   "outputs": [
    {
     "name": "stdout",
     "output_type": "stream",
     "text": [
      "tensor([3, 4, 2], dtype=torch.int32)\n"
     ]
    }
   ],
   "source": [
    "# Creating a tensor with integer values and specifying the data type as torch.int32.\n",
    "int_32_tensor = torch.tensor([3, 4, 2], dtype=torch.int32)\n",
    "\n",
    "# Printing the created tensor.\n",
    "print(int_32_tensor)"
   ]
  },
  {
   "cell_type": "code",
   "execution_count": 36,
   "id": "1b83a182",
   "metadata": {
    "execution": {
     "iopub.execute_input": "2023-10-28T03:01:47.798813Z",
     "iopub.status.busy": "2023-10-28T03:01:47.798559Z",
     "iopub.status.idle": "2023-10-28T03:01:47.806605Z",
     "shell.execute_reply": "2023-10-28T03:01:47.805701Z"
    },
    "id": "ibrEoYhiaoLr",
    "outputId": "0a205e02-1baf-4294-b6d7-7d4907616909",
    "papermill": {
     "duration": 0.051101,
     "end_time": "2023-10-28T03:01:47.808547",
     "exception": false,
     "start_time": "2023-10-28T03:01:47.757446",
     "status": "completed"
    },
    "tags": []
   },
   "outputs": [
    {
     "data": {
      "text/plain": [
       "tensor([ 9., 24., 18.], dtype=torch.float16)"
      ]
     },
     "execution_count": 36,
     "metadata": {},
     "output_type": "execute_result"
    }
   ],
   "source": [
    "float_16_tensor*int_32_tensor"
   ]
  },
  {
   "cell_type": "markdown",
   "id": "3b4e7a95",
   "metadata": {
    "id": "4uC9teP_bT_K",
    "papermill": {
     "duration": 0.041076,
     "end_time": "2023-10-28T03:01:47.891614",
     "exception": false,
     "start_time": "2023-10-28T03:01:47.850538",
     "status": "completed"
    },
    "tags": []
   },
   "source": [
    "## **Manipulation of Tensors**"
   ]
  },
  {
   "cell_type": "markdown",
   "id": "7c87ed25",
   "metadata": {
    "id": "deQ7qc3YdjEM",
    "papermill": {
     "duration": 0.041124,
     "end_time": "2023-10-28T03:01:47.975007",
     "exception": false,
     "start_time": "2023-10-28T03:01:47.933883",
     "status": "completed"
    },
    "tags": []
   },
   "source": [
    "In PyTorch, tensors can be manipulated in various ways to perform mathematical operations, reshape their dimensions, and more. This section explores some common tensor operations:"
   ]
  },
  {
   "cell_type": "markdown",
   "id": "6d95455f",
   "metadata": {
    "papermill": {
     "duration": 0.042303,
     "end_time": "2023-10-28T03:01:48.059246",
     "exception": false,
     "start_time": "2023-10-28T03:01:48.016943",
     "status": "completed"
    },
    "tags": []
   },
   "source": [
    "#### **1. Tensor Arithmetic Operations**\n",
    "You can perform basic arithmetic operations on tensors, such as addition, subtraction, multiplication, and division. For example:"
   ]
  },
  {
   "cell_type": "code",
   "execution_count": 37,
   "id": "8ecba6d8",
   "metadata": {
    "execution": {
     "iopub.execute_input": "2023-10-28T03:01:48.145514Z",
     "iopub.status.busy": "2023-10-28T03:01:48.144681Z",
     "iopub.status.idle": "2023-10-28T03:01:48.154039Z",
     "shell.execute_reply": "2023-10-28T03:01:48.153107Z"
    },
    "papermill": {
     "duration": 0.054635,
     "end_time": "2023-10-28T03:01:48.156086",
     "exception": false,
     "start_time": "2023-10-28T03:01:48.101451",
     "status": "completed"
    },
    "tags": []
   },
   "outputs": [
    {
     "data": {
      "text/plain": [
       "tensor([5, 7, 9])"
      ]
     },
     "execution_count": 37,
     "metadata": {},
     "output_type": "execute_result"
    }
   ],
   "source": [
    "# Creating two tensors\n",
    "tensor1 = torch.tensor([1, 2, 3])\n",
    "tensor2 = torch.tensor([4, 5, 6])\n",
    "\n",
    "# Addition\n",
    "result_addition = tensor1 + tensor2\n",
    "result_addition"
   ]
  },
  {
   "cell_type": "code",
   "execution_count": 38,
   "id": "e54246f5",
   "metadata": {
    "execution": {
     "iopub.execute_input": "2023-10-28T03:01:48.238493Z",
     "iopub.status.busy": "2023-10-28T03:01:48.238183Z",
     "iopub.status.idle": "2023-10-28T03:01:48.245185Z",
     "shell.execute_reply": "2023-10-28T03:01:48.244309Z"
    },
    "papermill": {
     "duration": 0.050985,
     "end_time": "2023-10-28T03:01:48.247091",
     "exception": false,
     "start_time": "2023-10-28T03:01:48.196106",
     "status": "completed"
    },
    "tags": []
   },
   "outputs": [
    {
     "data": {
      "text/plain": [
       "tensor([-3, -3, -3])"
      ]
     },
     "execution_count": 38,
     "metadata": {},
     "output_type": "execute_result"
    }
   ],
   "source": [
    "# Subtraction\n",
    "result_subtraction = tensor1 - tensor2\n",
    "result_subtraction"
   ]
  },
  {
   "cell_type": "code",
   "execution_count": 39,
   "id": "02f7f3b3",
   "metadata": {
    "execution": {
     "iopub.execute_input": "2023-10-28T03:01:48.331676Z",
     "iopub.status.busy": "2023-10-28T03:01:48.330867Z",
     "iopub.status.idle": "2023-10-28T03:01:48.338583Z",
     "shell.execute_reply": "2023-10-28T03:01:48.337875Z"
    },
    "papermill": {
     "duration": 0.050946,
     "end_time": "2023-10-28T03:01:48.340370",
     "exception": false,
     "start_time": "2023-10-28T03:01:48.289424",
     "status": "completed"
    },
    "tags": []
   },
   "outputs": [
    {
     "data": {
      "text/plain": [
       "tensor([ 4, 10, 18])"
      ]
     },
     "execution_count": 39,
     "metadata": {},
     "output_type": "execute_result"
    }
   ],
   "source": [
    "# Multiplication\n",
    "result_multiplication = tensor1 * tensor2\n",
    "result_multiplication"
   ]
  },
  {
   "cell_type": "code",
   "execution_count": 40,
   "id": "9a3a7e6c",
   "metadata": {
    "execution": {
     "iopub.execute_input": "2023-10-28T03:01:48.425871Z",
     "iopub.status.busy": "2023-10-28T03:01:48.425543Z",
     "iopub.status.idle": "2023-10-28T03:01:48.432331Z",
     "shell.execute_reply": "2023-10-28T03:01:48.431303Z"
    },
    "papermill": {
     "duration": 0.051684,
     "end_time": "2023-10-28T03:01:48.434485",
     "exception": false,
     "start_time": "2023-10-28T03:01:48.382801",
     "status": "completed"
    },
    "tags": []
   },
   "outputs": [
    {
     "data": {
      "text/plain": [
       "tensor([0.2500, 0.4000, 0.5000])"
      ]
     },
     "execution_count": 40,
     "metadata": {},
     "output_type": "execute_result"
    }
   ],
   "source": [
    "# Division\n",
    "result_division = tensor1 / tensor2\n",
    "result_division"
   ]
  },
  {
   "cell_type": "markdown",
   "id": "df90ad97",
   "metadata": {
    "papermill": {
     "duration": 0.040848,
     "end_time": "2023-10-28T03:01:48.516083",
     "exception": false,
     "start_time": "2023-10-28T03:01:48.475235",
     "status": "completed"
    },
    "tags": []
   },
   "source": [
    "#### **2. Reshaping Tensors**\n",
    "You can change the shape of a tensor using the .reshape() method or the .view() method. For example:"
   ]
  },
  {
   "cell_type": "code",
   "execution_count": 41,
   "id": "7a31f41d",
   "metadata": {
    "execution": {
     "iopub.execute_input": "2023-10-28T03:01:48.602006Z",
     "iopub.status.busy": "2023-10-28T03:01:48.601172Z",
     "iopub.status.idle": "2023-10-28T03:01:48.606576Z",
     "shell.execute_reply": "2023-10-28T03:01:48.605568Z"
    },
    "papermill": {
     "duration": 0.051315,
     "end_time": "2023-10-28T03:01:48.608633",
     "exception": false,
     "start_time": "2023-10-28T03:01:48.557318",
     "status": "completed"
    },
    "tags": []
   },
   "outputs": [],
   "source": [
    "# Reshaping a tensor to a different shape\n",
    "original_tensor = torch.tensor([[1, 2], [3, 4], [5, 6]])\n",
    "reshaped_tensor = original_tensor.reshape(2, 3)"
   ]
  },
  {
   "cell_type": "markdown",
   "id": "6e2ccab0",
   "metadata": {
    "papermill": {
     "duration": 0.043346,
     "end_time": "2023-10-28T03:01:48.697813",
     "exception": false,
     "start_time": "2023-10-28T03:01:48.654467",
     "status": "completed"
    },
    "tags": []
   },
   "source": [
    "#### **3. Reduction Operations**\n",
    "Reduction operations allow you to perform computations across the elements of a tensor. Common reduction operations include sum, mean, minimum, and maximum:"
   ]
  },
  {
   "cell_type": "code",
   "execution_count": 42,
   "id": "d459934c",
   "metadata": {
    "execution": {
     "iopub.execute_input": "2023-10-28T03:01:48.796209Z",
     "iopub.status.busy": "2023-10-28T03:01:48.795562Z",
     "iopub.status.idle": "2023-10-28T03:01:48.809153Z",
     "shell.execute_reply": "2023-10-28T03:01:48.808151Z"
    },
    "papermill": {
     "duration": 0.067026,
     "end_time": "2023-10-28T03:01:48.811328",
     "exception": false,
     "start_time": "2023-10-28T03:01:48.744302",
     "status": "completed"
    },
    "tags": []
   },
   "outputs": [
    {
     "name": "stdout",
     "output_type": "stream",
     "text": [
      "Sum: tensor(15.)\n",
      "Mean: tensor(3.)\n",
      "Min: tensor(1.)\n",
      "Max: tensor(5.)\n"
     ]
    }
   ],
   "source": [
    "tensor = torch.tensor([1, 2, 3, 4, 5], dtype=torch.float32)  # Convert to float32\n",
    "sum_result = torch.sum(tensor)\n",
    "mean_result = torch.mean(tensor)\n",
    "min_result = torch.min(tensor)\n",
    "max_result = torch.max(tensor)\n",
    "\n",
    "print(\"Sum:\", sum_result)\n",
    "print(\"Mean:\", mean_result)\n",
    "print(\"Min:\", min_result)\n",
    "print(\"Max:\", max_result)"
   ]
  },
  {
   "cell_type": "markdown",
   "id": "edd5151a",
   "metadata": {
    "papermill": {
     "duration": 0.042486,
     "end_time": "2023-10-28T03:01:48.898235",
     "exception": false,
     "start_time": "2023-10-28T03:01:48.855749",
     "status": "completed"
    },
    "tags": []
   },
   "source": [
    "#### **4. Element-wise Functions**\n",
    "PyTorch provides various element-wise functions, such as torch.sin(), torch.cos(), torch.exp(), and more, to apply mathematical functions to each element of a tensor:"
   ]
  },
  {
   "cell_type": "code",
   "execution_count": 43,
   "id": "24b534da",
   "metadata": {
    "execution": {
     "iopub.execute_input": "2023-10-28T03:01:48.982809Z",
     "iopub.status.busy": "2023-10-28T03:01:48.982495Z",
     "iopub.status.idle": "2023-10-28T03:01:49.032102Z",
     "shell.execute_reply": "2023-10-28T03:01:49.031118Z"
    },
    "papermill": {
     "duration": 0.094154,
     "end_time": "2023-10-28T03:01:49.034285",
     "exception": false,
     "start_time": "2023-10-28T03:01:48.940131",
     "status": "completed"
    },
    "tags": []
   },
   "outputs": [],
   "source": [
    "# Element-wise functions\n",
    "tensor = torch.tensor([0.0, 1.0, 2.0])\n",
    "sin_result = torch.sin(tensor)\n",
    "exp_result = torch.exp(tensor)"
   ]
  },
  {
   "cell_type": "markdown",
   "id": "2ddc940b",
   "metadata": {
    "papermill": {
     "duration": 0.040923,
     "end_time": "2023-10-28T03:01:49.118136",
     "exception": false,
     "start_time": "2023-10-28T03:01:49.077213",
     "status": "completed"
    },
    "tags": []
   },
   "source": [
    "#### **5. Indexing and Slicing**\n",
    "You can access specific elements or slices of a tensor using indexing and slicing operations:"
   ]
  },
  {
   "cell_type": "code",
   "execution_count": 44,
   "id": "0f0c5b9f",
   "metadata": {
    "execution": {
     "iopub.execute_input": "2023-10-28T03:01:49.202179Z",
     "iopub.status.busy": "2023-10-28T03:01:49.201885Z",
     "iopub.status.idle": "2023-10-28T03:01:49.210379Z",
     "shell.execute_reply": "2023-10-28T03:01:49.209486Z"
    },
    "papermill": {
     "duration": 0.05234,
     "end_time": "2023-10-28T03:01:49.212401",
     "exception": false,
     "start_time": "2023-10-28T03:01:49.160061",
     "status": "completed"
    },
    "tags": []
   },
   "outputs": [],
   "source": [
    "# Indexing and slicing\n",
    "tensor = torch.tensor([1, 2, 3, 4, 5])\n",
    "element_at_index_2 = tensor[2]\n",
    "slice = tensor[1:4]"
   ]
  },
  {
   "cell_type": "markdown",
   "id": "6b12894c",
   "metadata": {
    "id": "oOxeo3rmduvK",
    "papermill": {
     "duration": 0.042381,
     "end_time": "2023-10-28T03:01:49.297012",
     "exception": false,
     "start_time": "2023-10-28T03:01:49.254631",
     "status": "completed"
    },
    "tags": []
   },
   "source": [
    "\n",
    "PyTorch also has a bunch of built-in functions like torch.mul() (short for multiplication) and torch.add() to perform basic operations."
   ]
  },
  {
   "cell_type": "markdown",
   "id": "04b0b713",
   "metadata": {
    "id": "AuuScX1Ed5N8",
    "papermill": {
     "duration": 0.040466,
     "end_time": "2023-10-28T03:01:49.379027",
     "exception": false,
     "start_time": "2023-10-28T03:01:49.338561",
     "status": "completed"
    },
    "tags": []
   },
   "source": [
    "#### **6. Matrix Multiplication**\n",
    "Matrix multiplication, also known as matrix product or dot product, is a fundamental operation in linear algebra. In PyTorch, you can perform matrix multiplication efficiently using various methods."
   ]
  },
  {
   "cell_type": "code",
   "execution_count": 45,
   "id": "5489dee7",
   "metadata": {
    "execution": {
     "iopub.execute_input": "2023-10-28T03:01:49.468615Z",
     "iopub.status.busy": "2023-10-28T03:01:49.468228Z",
     "iopub.status.idle": "2023-10-28T03:01:49.475568Z",
     "shell.execute_reply": "2023-10-28T03:01:49.474166Z"
    },
    "id": "vsstfW4UfHDX",
    "outputId": "4364bd83-c899-429d-d2dd-63b3ab6539a4",
    "papermill": {
     "duration": 0.056234,
     "end_time": "2023-10-28T03:01:49.477783",
     "exception": false,
     "start_time": "2023-10-28T03:01:49.421549",
     "status": "completed"
    },
    "tags": []
   },
   "outputs": [
    {
     "name": "stdout",
     "output_type": "stream",
     "text": [
      "Tensor: tensor([1, 2, 3])\n",
      "Element-wise Multiplication Result: tensor([1, 4, 9])\n"
     ]
    }
   ],
   "source": [
    "# Creating a tensor\n",
    "tensor = torch.tensor([1, 2, 3])\n",
    "\n",
    "# Element-wise multiplication: Each element multiplies its equivalent (index 0->0, 1->1, 2->2)\n",
    "result = tensor * tensor\n",
    "\n",
    "# Printing the tensor and its element-wise multiplication\n",
    "print(\"Tensor:\", tensor)\n",
    "print(\"Element-wise Multiplication Result:\", result)"
   ]
  },
  {
   "cell_type": "code",
   "execution_count": 46,
   "id": "086db3f4",
   "metadata": {
    "execution": {
     "iopub.execute_input": "2023-10-28T03:01:49.564079Z",
     "iopub.status.busy": "2023-10-28T03:01:49.563757Z",
     "iopub.status.idle": "2023-10-28T03:01:49.575041Z",
     "shell.execute_reply": "2023-10-28T03:01:49.574131Z"
    },
    "id": "WJ9YeeSRfSpS",
    "outputId": "b8ac4a25-2142-49d8-86b2-109e7081fa86",
    "papermill": {
     "duration": 0.055995,
     "end_time": "2023-10-28T03:01:49.576985",
     "exception": false,
     "start_time": "2023-10-28T03:01:49.520990",
     "status": "completed"
    },
    "tags": []
   },
   "outputs": [
    {
     "data": {
      "text/plain": [
       "tensor([[19, 22],\n",
       "        [43, 50]])"
      ]
     },
     "execution_count": 46,
     "metadata": {},
     "output_type": "execute_result"
    }
   ],
   "source": [
    "# Create two matrices\n",
    "matrix1 = torch.tensor([[1, 2], [3, 4]])\n",
    "matrix2 = torch.tensor([[5, 6], [7, 8]])\n",
    "\n",
    "# Perform matrix multiplication using torch.matmul()\n",
    "result_matmul = torch.matmul(matrix1, matrix2)\n",
    "result_matmul"
   ]
  },
  {
   "cell_type": "markdown",
   "id": "afff7712",
   "metadata": {
    "papermill": {
     "duration": 0.041077,
     "end_time": "2023-10-28T03:01:49.658856",
     "exception": false,
     "start_time": "2023-10-28T03:01:49.617779",
     "status": "completed"
    },
    "tags": []
   },
   "source": [
    "*You can use the torch.matmul() function to perform matrix multiplication. It takes two tensors as arguments and returns their matrix product.*"
   ]
  },
  {
   "cell_type": "code",
   "execution_count": 47,
   "id": "94142781",
   "metadata": {
    "execution": {
     "iopub.execute_input": "2023-10-28T03:01:49.741090Z",
     "iopub.status.busy": "2023-10-28T03:01:49.740837Z",
     "iopub.status.idle": "2023-10-28T03:01:49.747294Z",
     "shell.execute_reply": "2023-10-28T03:01:49.746430Z"
    },
    "id": "CgJHx1LNfVv4",
    "outputId": "a32717ca-77f5-48a8-d1ed-dbe849340eba",
    "papermill": {
     "duration": 0.049495,
     "end_time": "2023-10-28T03:01:49.749213",
     "exception": false,
     "start_time": "2023-10-28T03:01:49.699718",
     "status": "completed"
    },
    "tags": []
   },
   "outputs": [
    {
     "data": {
      "text/plain": [
       "tensor([[19, 22],\n",
       "        [43, 50]])"
      ]
     },
     "execution_count": 47,
     "metadata": {},
     "output_type": "execute_result"
    }
   ],
   "source": [
    "# Perform matrix multiplication using the @ operator\n",
    "result_operator = matrix1 @ matrix2\n",
    "result_operator"
   ]
  },
  {
   "cell_type": "markdown",
   "id": "19571f17",
   "metadata": {
    "papermill": {
     "duration": 0.042158,
     "end_time": "2023-10-28T03:01:49.834198",
     "exception": false,
     "start_time": "2023-10-28T03:01:49.792040",
     "status": "completed"
    },
    "tags": []
   },
   "source": [
    "*PyTorch also provides the @ operator, which is a convenient way to perform matrix multiplication.*"
   ]
  },
  {
   "cell_type": "markdown",
   "id": "6327cb30",
   "metadata": {
    "id": "npE1J0hCgJ7o",
    "papermill": {
     "duration": 0.042831,
     "end_time": "2023-10-28T03:01:49.919964",
     "exception": false,
     "start_time": "2023-10-28T03:01:49.877133",
     "status": "completed"
    },
    "tags": []
   },
   "source": [
    "#### **Important**\n",
    "***One of the most common errors in deep learning (shape errors)\n",
    "Because much of deep learning is multiplying and performing operations on matrices and matrices have a strict rule about what shapes and sizes can be combined, one of the most common errors you'll run into in deep learning is shape mismatches.***"
   ]
  },
  {
   "cell_type": "code",
   "execution_count": 48,
   "id": "76d76294",
   "metadata": {
    "execution": {
     "iopub.execute_input": "2023-10-28T03:01:50.007030Z",
     "iopub.status.busy": "2023-10-28T03:01:50.006731Z",
     "iopub.status.idle": "2023-10-28T03:01:50.011912Z",
     "shell.execute_reply": "2023-10-28T03:01:50.011031Z"
    },
    "papermill": {
     "duration": 0.051473,
     "end_time": "2023-10-28T03:01:50.013926",
     "exception": false,
     "start_time": "2023-10-28T03:01:49.962453",
     "status": "completed"
    },
    "tags": []
   },
   "outputs": [],
   "source": [
    "# Shapes need to be in the right way\n",
    "tensor_A = torch.tensor([[1, 2],\n",
    "                         [3, 4],\n",
    "                         [5, 6]], dtype=torch.float32)\n",
    "\n",
    "tensor_B = torch.tensor([[7, 10],\n",
    "                         [8, 11],\n",
    "                         [9, 12]], dtype=torch.float32)"
   ]
  },
  {
   "cell_type": "markdown",
   "id": "1d5d1466",
   "metadata": {
    "papermill": {
     "duration": 0.041727,
     "end_time": "2023-10-28T03:01:50.099928",
     "exception": false,
     "start_time": "2023-10-28T03:01:50.058201",
     "status": "completed"
    },
    "tags": []
   },
   "source": [
    "> ***torch.matmul(tensor_A, tensor_B)***\n",
    "\n",
    "**This will produce an error as expected because of the shape missmatch. the error is as following:**"
   ]
  },
  {
   "attachments": {
    "ff144b9b-048e-478c-af5f-2255abf17f68.png": {
     "image/png": "[encoded data removed]"
    }
   },
   "cell_type": "markdown",
   "id": "50f82b9b",
   "metadata": {
    "id": "RDdHuKH2guap",
    "papermill": {
     "duration": 0.040455,
     "end_time": "2023-10-28T03:01:50.180619",
     "exception": false,
     "start_time": "2023-10-28T03:01:50.140164",
     "status": "completed"
    },
    "tags": []
   },
   "source": [
    "![image.png](attachment:ff144b9b-048e-478c-af5f-2255abf17f68.png)\n",
    "\n",
    "We can make matrix multiplication work between tensor_A and tensor_B by making their inner dimensions match.\n",
    "\n",
    "One of the ways to do this is with a transpose (switch the dimensions of a given tensor).\n",
    "\n",
    "You can perform transposes in PyTorch using either:\n",
    "\n",
    "torch.transpose(input, dim0, dim1) - where input is the desired tensor to transpose and dim0 and dim1 are the dimensions to be swapped.\n",
    "tensor.T - where tensor is the desired tensor to transpose"
   ]
  },
  {
   "cell_type": "code",
   "execution_count": 49,
   "id": "ec0dc1d4",
   "metadata": {
    "execution": {
     "iopub.execute_input": "2023-10-28T03:01:50.264951Z",
     "iopub.status.busy": "2023-10-28T03:01:50.264619Z",
     "iopub.status.idle": "2023-10-28T03:01:50.271365Z",
     "shell.execute_reply": "2023-10-28T03:01:50.270241Z"
    },
    "id": "_RNxk2-KgP8w",
    "outputId": "609d78de-067b-4e59-d759-4d2baae77539",
    "papermill": {
     "duration": 0.051171,
     "end_time": "2023-10-28T03:01:50.273539",
     "exception": false,
     "start_time": "2023-10-28T03:01:50.222368",
     "status": "completed"
    },
    "tags": []
   },
   "outputs": [
    {
     "name": "stdout",
     "output_type": "stream",
     "text": [
      "tensor([[1., 2.],\n",
      "        [3., 4.],\n",
      "        [5., 6.]])\n",
      "tensor([[ 7., 10.],\n",
      "        [ 8., 11.],\n",
      "        [ 9., 12.]])\n"
     ]
    }
   ],
   "source": [
    "# View tensor_A and tensor_B\n",
    "print(tensor_A)\n",
    "print(tensor_B)"
   ]
  },
  {
   "cell_type": "code",
   "execution_count": 50,
   "id": "8433a9ed",
   "metadata": {
    "execution": {
     "iopub.execute_input": "2023-10-28T03:01:50.357742Z",
     "iopub.status.busy": "2023-10-28T03:01:50.357457Z",
     "iopub.status.idle": "2023-10-28T03:01:50.364904Z",
     "shell.execute_reply": "2023-10-28T03:01:50.363901Z"
    },
    "id": "k26-z3q4gxl9",
    "outputId": "cbbdeace-e592-4d63-a48c-a1cd5dcde30b",
    "papermill": {
     "duration": 0.051943,
     "end_time": "2023-10-28T03:01:50.366988",
     "exception": false,
     "start_time": "2023-10-28T03:01:50.315045",
     "status": "completed"
    },
    "tags": []
   },
   "outputs": [
    {
     "name": "stdout",
     "output_type": "stream",
     "text": [
      "tensor([[1., 2.],\n",
      "        [3., 4.],\n",
      "        [5., 6.]])\n",
      "tensor([[ 7.,  8.,  9.],\n",
      "        [10., 11., 12.]])\n"
     ]
    }
   ],
   "source": [
    "# View tensor_A and tensor_B.T\n",
    "print(tensor_A)\n",
    "print(tensor_B.T)"
   ]
  },
  {
   "cell_type": "code",
   "execution_count": 51,
   "id": "dbca2797",
   "metadata": {
    "execution": {
     "iopub.execute_input": "2023-10-28T03:01:50.451881Z",
     "iopub.status.busy": "2023-10-28T03:01:50.451604Z",
     "iopub.status.idle": "2023-10-28T03:01:50.469867Z",
     "shell.execute_reply": "2023-10-28T03:01:50.468812Z"
    },
    "id": "LmkQ98JOg0cd",
    "outputId": "ed80521a-1134-4552-e218-6bce8758da78",
    "papermill": {
     "duration": 0.062358,
     "end_time": "2023-10-28T03:01:50.472068",
     "exception": false,
     "start_time": "2023-10-28T03:01:50.409710",
     "status": "completed"
    },
    "tags": []
   },
   "outputs": [
    {
     "name": "stdout",
     "output_type": "stream",
     "text": [
      "Original shapes: tensor_A = torch.Size([3, 2]), tensor_B = torch.Size([3, 2])\n",
      "\n",
      "New shapes: tensor_A = torch.Size([3, 2]) (same as above), tensor_B.T = torch.Size([2, 3])\n",
      "\n",
      "Multiplying: torch.Size([3, 2]) * torch.Size([2, 3]) <- inner dimensions match\n",
      "\n",
      "Output:\n",
      "\n",
      "tensor([[ 27.,  30.,  33.],\n",
      "        [ 61.,  68.,  75.],\n",
      "        [ 95., 106., 117.]])\n",
      "\n",
      "Output shape: torch.Size([3, 3])\n"
     ]
    }
   ],
   "source": [
    "# The operation works when tensor_B is transposed\n",
    "print(f\"Original shapes: tensor_A = {tensor_A.shape}, tensor_B = {tensor_B.shape}\\n\")\n",
    "print(f\"New shapes: tensor_A = {tensor_A.shape} (same as above), tensor_B.T = {tensor_B.T.shape}\\n\")\n",
    "print(f\"Multiplying: {tensor_A.shape} * {tensor_B.T.shape} <- inner dimensions match\\n\")\n",
    "print(\"Output:\\n\")\n",
    "output = torch.matmul(tensor_A, tensor_B.T)\n",
    "print(output)\n",
    "print(f\"\\nOutput shape: {output.shape}\")"
   ]
  },
  {
   "cell_type": "markdown",
   "id": "5d7f62eb",
   "metadata": {
    "id": "0nXo1msahMaa",
    "papermill": {
     "duration": 0.041665,
     "end_time": "2023-10-28T03:01:50.559667",
     "exception": false,
     "start_time": "2023-10-28T03:01:50.518002",
     "status": "completed"
    },
    "tags": []
   },
   "source": [
    "**You can also use torch.mm() which is a short for torch.matmul().**"
   ]
  },
  {
   "cell_type": "code",
   "execution_count": 52,
   "id": "dd77ec3a",
   "metadata": {
    "execution": {
     "iopub.execute_input": "2023-10-28T03:01:50.648444Z",
     "iopub.status.busy": "2023-10-28T03:01:50.647998Z",
     "iopub.status.idle": "2023-10-28T03:01:50.656456Z",
     "shell.execute_reply": "2023-10-28T03:01:50.655564Z"
    },
    "id": "r9R5OErEhE8h",
    "outputId": "f88036e2-c861-4b54-994a-c33bafcaa193",
    "papermill": {
     "duration": 0.055695,
     "end_time": "2023-10-28T03:01:50.658371",
     "exception": false,
     "start_time": "2023-10-28T03:01:50.602676",
     "status": "completed"
    },
    "tags": []
   },
   "outputs": [
    {
     "data": {
      "text/plain": [
       "tensor([[ 27.,  30.,  33.],\n",
       "        [ 61.,  68.,  75.],\n",
       "        [ 95., 106., 117.]])"
      ]
     },
     "execution_count": 52,
     "metadata": {},
     "output_type": "execute_result"
    }
   ],
   "source": [
    "# torch.mm is a shortcut for matmul\n",
    "torch.mm(tensor_A, tensor_B.T)"
   ]
  },
  {
   "cell_type": "code",
   "execution_count": 53,
   "id": "aebc8634",
   "metadata": {
    "execution": {
     "iopub.execute_input": "2023-10-28T03:01:50.744455Z",
     "iopub.status.busy": "2023-10-28T03:01:50.743826Z",
     "iopub.status.idle": "2023-10-28T03:01:50.758999Z",
     "shell.execute_reply": "2023-10-28T03:01:50.757926Z"
    },
    "id": "YECqRh8chPTp",
    "outputId": "834f5224-c47b-4391-fc89-0e5c681b5b8e",
    "papermill": {
     "duration": 0.059028,
     "end_time": "2023-10-28T03:01:50.761021",
     "exception": false,
     "start_time": "2023-10-28T03:01:50.701993",
     "status": "completed"
    },
    "tags": []
   },
   "outputs": [
    {
     "name": "stdout",
     "output_type": "stream",
     "text": [
      "Input shape: torch.Size([3, 2])\n",
      "\n",
      "Output:\n",
      "tensor([[2.2368, 1.2292, 0.4714, 0.3864, 0.1309, 0.9838],\n",
      "        [4.4919, 2.1970, 0.4469, 0.5285, 0.3401, 2.4777],\n",
      "        [6.7469, 3.1648, 0.4224, 0.6705, 0.5493, 3.9716]],\n",
      "       grad_fn=<AddmmBackward0>)\n",
      "\n",
      "Output shape: torch.Size([3, 6])\n"
     ]
    }
   ],
   "source": [
    "# Since the linear layer starts with a random weights matrix, let's make it reproducible (more on this later)\n",
    "torch.manual_seed(42)\n",
    "# This uses matrix multiplication\n",
    "linear = torch.nn.Linear(in_features=2, # in_features = matches inner dimension of input\n",
    "                         out_features=6) # out_features = describes outer value\n",
    "x = tensor_A\n",
    "output = linear(x)\n",
    "print(f\"Input shape: {x.shape}\\n\")\n",
    "print(f\"Output:\\n{output}\\n\\nOutput shape: {output.shape}\")"
   ]
  },
  {
   "cell_type": "code",
   "execution_count": 54,
   "id": "61277087",
   "metadata": {
    "execution": {
     "iopub.execute_input": "2023-10-28T03:01:50.848032Z",
     "iopub.status.busy": "2023-10-28T03:01:50.847770Z",
     "iopub.status.idle": "2023-10-28T03:01:50.855059Z",
     "shell.execute_reply": "2023-10-28T03:01:50.854297Z"
    },
    "id": "fzCA3oe-jHmx",
    "outputId": "b2733b11-d9e4-4199-ca39-c22250396f8b",
    "papermill": {
     "duration": 0.051898,
     "end_time": "2023-10-28T03:01:50.856901",
     "exception": false,
     "start_time": "2023-10-28T03:01:50.805003",
     "status": "completed"
    },
    "tags": []
   },
   "outputs": [
    {
     "data": {
      "text/plain": [
       "(tensor(6.), tensor(1.), tensor(3.5000), tensor(21.))"
      ]
     },
     "execution_count": 54,
     "metadata": {},
     "output_type": "execute_result"
    }
   ],
   "source": [
    "torch.max(x), torch.min(x), torch.mean(x.type(torch.float32)), torch.sum(x)"
   ]
  },
  {
   "cell_type": "markdown",
   "id": "bb9c9f9c",
   "metadata": {
    "id": "eE7QxSbTjZbm",
    "papermill": {
     "duration": 0.041958,
     "end_time": "2023-10-28T03:01:50.941780",
     "exception": false,
     "start_time": "2023-10-28T03:01:50.899822",
     "status": "completed"
    },
    "tags": []
   },
   "source": [
    "## **Positional Min/Max**\n",
    "You can use torch.argmax() and torch.argmin() functions to find the indices where the maximum and minimum values occur in a tensor, respectively. This is useful when you need to determine the positions of extreme values without necessarily retrieving the actual values. We will explore their practical applications further, especially when working with the softmax activation function in a later section.\n",
    "\n",
    "Here's a concise explanation of how to use these functions:\n",
    "\n",
    "- **torch.argmax(tensor)** returns the index of the maximum value in the tensor.\n",
    "- **torch.argmin(tensor)** returns the index of the minimum value in the tensor."
   ]
  },
  {
   "cell_type": "code",
   "execution_count": 55,
   "id": "401a62ee",
   "metadata": {
    "execution": {
     "iopub.execute_input": "2023-10-28T03:01:51.070666Z",
     "iopub.status.busy": "2023-10-28T03:01:51.070211Z",
     "iopub.status.idle": "2023-10-28T03:01:51.080420Z",
     "shell.execute_reply": "2023-10-28T03:01:51.079417Z"
    },
    "id": "iyVGZm-fjn2U",
    "outputId": "20751042-8b4f-4d60-fcdd-d60f0e3a7c3f",
    "papermill": {
     "duration": 0.099364,
     "end_time": "2023-10-28T03:01:51.082247",
     "exception": false,
     "start_time": "2023-10-28T03:01:50.982883",
     "status": "completed"
    },
    "tags": []
   },
   "outputs": [
    {
     "name": "stdout",
     "output_type": "stream",
     "text": [
      "Tensor: tensor([10, 20, 30, 40, 50, 60, 70, 80, 90])\n",
      "Index where max value occurs: 8\n",
      "Index where min value occurs: 0\n"
     ]
    }
   ],
   "source": [
    "# Create a tensor\n",
    "tensor = torch.arange(10, 100, 10)\n",
    "print(f\"Tensor: {tensor}\")\n",
    "\n",
    "# Returns index of max and min values\n",
    "print(f\"Index where max value occurs: {tensor.argmax()}\")\n",
    "print(f\"Index where min value occurs: {tensor.argmin()}\")"
   ]
  },
  {
   "cell_type": "markdown",
   "id": "d32f662e",
   "metadata": {
    "id": "oUcak_mwj2YC",
    "papermill": {
     "duration": 0.045124,
     "end_time": "2023-10-28T03:01:51.170591",
     "exception": false,
     "start_time": "2023-10-28T03:01:51.125467",
     "status": "completed"
    },
    "tags": []
   },
   "source": [
    "## **Change Tensor Datatype**\n",
    "\n",
    "If we have one tensor in torch.float64 and another in torch.float32, we might encounter data type compatibility issues when performing certain operations. However, we can address this by adjusting the data type of the tensors using torch.Tensor.type(dtype=None), where the dtype parameter specifies the desired data type.\n",
    "\n",
    "Let's start by creating a tensor and examining its data type (the default is torch.float32)."
   ]
  },
  {
   "cell_type": "code",
   "execution_count": 56,
   "id": "e9ef8c98",
   "metadata": {
    "execution": {
     "iopub.execute_input": "2023-10-28T03:01:51.256691Z",
     "iopub.status.busy": "2023-10-28T03:01:51.256355Z",
     "iopub.status.idle": "2023-10-28T03:01:51.263852Z",
     "shell.execute_reply": "2023-10-28T03:01:51.262962Z"
    },
    "id": "8DcVoW8nkBH9",
    "outputId": "9d71d456-3e1b-4b17-fbfb-3a5d918f23e8",
    "papermill": {
     "duration": 0.053493,
     "end_time": "2023-10-28T03:01:51.265939",
     "exception": false,
     "start_time": "2023-10-28T03:01:51.212446",
     "status": "completed"
    },
    "tags": []
   },
   "outputs": [
    {
     "data": {
      "text/plain": [
       "(torch.float32, tensor([10., 20., 30., 40., 50., 60., 70., 80., 90.]))"
      ]
     },
     "execution_count": 56,
     "metadata": {},
     "output_type": "execute_result"
    }
   ],
   "source": [
    "# Create a tensor and check its datatype\n",
    "sample_tensor = torch.arange(10., 100., 10.)\n",
    "sample_tensor.dtype, sample_tensor"
   ]
  },
  {
   "cell_type": "code",
   "execution_count": 57,
   "id": "e25da044",
   "metadata": {
    "execution": {
     "iopub.execute_input": "2023-10-28T03:01:51.370210Z",
     "iopub.status.busy": "2023-10-28T03:01:51.369841Z",
     "iopub.status.idle": "2023-10-28T03:01:51.376984Z",
     "shell.execute_reply": "2023-10-28T03:01:51.376083Z"
    },
    "id": "49reLBh8kDmk",
    "outputId": "355ef9b2-8d3e-451d-8fcb-c5ced2bf09d8",
    "papermill": {
     "duration": 0.065196,
     "end_time": "2023-10-28T03:01:51.378999",
     "exception": false,
     "start_time": "2023-10-28T03:01:51.313803",
     "status": "completed"
    },
    "tags": []
   },
   "outputs": [
    {
     "data": {
      "text/plain": [
       "tensor([10., 20., 30., 40., 50., 60., 70., 80., 90.], dtype=torch.float16)"
      ]
     },
     "execution_count": 57,
     "metadata": {},
     "output_type": "execute_result"
    }
   ],
   "source": [
    "# Create a float16 tensor\n",
    "tensor_float16 = sample_tensor.type(torch.float16)\n",
    "tensor_float16"
   ]
  },
  {
   "cell_type": "code",
   "execution_count": 58,
   "id": "bc748a4a",
   "metadata": {
    "execution": {
     "iopub.execute_input": "2023-10-28T03:01:51.464408Z",
     "iopub.status.busy": "2023-10-28T03:01:51.464081Z",
     "iopub.status.idle": "2023-10-28T03:01:51.470690Z",
     "shell.execute_reply": "2023-10-28T03:01:51.469801Z"
    },
    "id": "fxepDnVGkGbk",
    "outputId": "87d95193-62e4-48ba-d212-de4b5a89b548",
    "papermill": {
     "duration": 0.051667,
     "end_time": "2023-10-28T03:01:51.472649",
     "exception": false,
     "start_time": "2023-10-28T03:01:51.420982",
     "status": "completed"
    },
    "tags": []
   },
   "outputs": [
    {
     "data": {
      "text/plain": [
       "tensor([10, 20, 30, 40, 50, 60, 70, 80, 90], dtype=torch.int8)"
      ]
     },
     "execution_count": 58,
     "metadata": {},
     "output_type": "execute_result"
    }
   ],
   "source": [
    "# Create a int8 tensor\n",
    "tensor_int8 = sample_tensor.type(torch.int8)\n",
    "tensor_int8"
   ]
  },
  {
   "cell_type": "markdown",
   "id": "2bbcfd23",
   "metadata": {
    "id": "2P3zULJGkZVs",
    "papermill": {
     "duration": 0.043297,
     "end_time": "2023-10-28T03:01:51.559159",
     "exception": false,
     "start_time": "2023-10-28T03:01:51.515862",
     "status": "completed"
    },
    "tags": []
   },
   "source": [
    "## **Reshaping, Stacking, Squeezing and Unsqueezing**\n",
    "Often times you'll want to reshape or change the dimensions of your tensors without actually changing the values ins\"ide them.\n",
    "\n",
    "To do so, some popular methods are:"
   ]
  },
  {
   "cell_type": "code",
   "execution_count": 59,
   "id": "aade50d9",
   "metadata": {
    "execution": {
     "iopub.execute_input": "2023-10-28T03:01:51.648654Z",
     "iopub.status.busy": "2023-10-28T03:01:51.648299Z",
     "iopub.status.idle": "2023-10-28T03:01:51.655689Z",
     "shell.execute_reply": "2023-10-28T03:01:51.654700Z"
    },
    "id": "FCUUTTnak8_O",
    "outputId": "a3c818b7-e35b-418e-9027-151b41e6a96a",
    "papermill": {
     "duration": 0.054198,
     "end_time": "2023-10-28T03:01:51.657882",
     "exception": false,
     "start_time": "2023-10-28T03:01:51.603684",
     "status": "completed"
    },
    "tags": []
   },
   "outputs": [
    {
     "data": {
      "text/plain": [
       "(tensor([1., 2., 3., 4., 5., 6., 7., 8., 9.]), torch.Size([9]))"
      ]
     },
     "execution_count": 59,
     "metadata": {},
     "output_type": "execute_result"
    }
   ],
   "source": [
    "# Create a Tensor\n",
    "x = torch.arange(1., 10.)\n",
    "x, x.shape"
   ]
  },
  {
   "cell_type": "code",
   "execution_count": 60,
   "id": "c22e1b85",
   "metadata": {
    "execution": {
     "iopub.execute_input": "2023-10-28T03:01:51.744679Z",
     "iopub.status.busy": "2023-10-28T03:01:51.744410Z",
     "iopub.status.idle": "2023-10-28T03:01:51.750272Z",
     "shell.execute_reply": "2023-10-28T03:01:51.749314Z"
    },
    "id": "FPiV3ieSsZIw",
    "outputId": "4bdca098-b6c1-4319-ddcc-35e172231daa",
    "papermill": {
     "duration": 0.051666,
     "end_time": "2023-10-28T03:01:51.752339",
     "exception": false,
     "start_time": "2023-10-28T03:01:51.700673",
     "status": "completed"
    },
    "tags": []
   },
   "outputs": [
    {
     "name": "stdout",
     "output_type": "stream",
     "text": [
      "Reshaped Tensor:\n",
      "tensor([[1., 2., 3., 4., 5., 6., 7., 8., 9.]])\n",
      "Shape of Reshaped Tensor: torch.Size([1, 9])\n"
     ]
    }
   ],
   "source": [
    "# Add an extra dimention\n",
    "x_reshaped = x.reshape(1, 9)\n",
    "\n",
    "print(\"Reshaped Tensor:\")\n",
    "print(x_reshaped)\n",
    "print(\"Shape of Reshaped Tensor:\", x_reshaped.shape)"
   ]
  },
  {
   "cell_type": "code",
   "execution_count": 61,
   "id": "445ffd6a",
   "metadata": {
    "execution": {
     "iopub.execute_input": "2023-10-28T03:01:51.838159Z",
     "iopub.status.busy": "2023-10-28T03:01:51.837894Z",
     "iopub.status.idle": "2023-10-28T03:01:51.843991Z",
     "shell.execute_reply": "2023-10-28T03:01:51.843026Z"
    },
    "id": "RGn8b_4vtIJQ",
    "outputId": "ca4dc11c-6638-4ea4-d081-254830cb917e",
    "papermill": {
     "duration": 0.051548,
     "end_time": "2023-10-28T03:01:51.845924",
     "exception": false,
     "start_time": "2023-10-28T03:01:51.794376",
     "status": "completed"
    },
    "tags": []
   },
   "outputs": [
    {
     "name": "stdout",
     "output_type": "stream",
     "text": [
      "Reshaped Tensor:\n",
      "tensor([[1.],\n",
      "        [2.],\n",
      "        [3.],\n",
      "        [4.],\n",
      "        [5.],\n",
      "        [6.],\n",
      "        [7.],\n",
      "        [8.],\n",
      "        [9.]])\n",
      "Shape of Reshaped Tensor: torch.Size([9, 1])\n"
     ]
    }
   ],
   "source": [
    "# Add an extra dimension using reshape\n",
    "x_reshaped = x.reshape(9, 1)\n",
    "\n",
    "print(\"Reshaped Tensor:\")\n",
    "print(x_reshaped)\n",
    "print(\"Shape of Reshaped Tensor:\", x_reshaped.shape)"
   ]
  },
  {
   "cell_type": "code",
   "execution_count": 62,
   "id": "51149aef",
   "metadata": {
    "execution": {
     "iopub.execute_input": "2023-10-28T03:01:51.932786Z",
     "iopub.status.busy": "2023-10-28T03:01:51.932510Z",
     "iopub.status.idle": "2023-10-28T03:01:51.938482Z",
     "shell.execute_reply": "2023-10-28T03:01:51.937531Z"
    },
    "id": "UnoMZk5ksimQ",
    "outputId": "c9916768-6143-45cc-cc59-788c6dc22a5a",
    "papermill": {
     "duration": 0.05179,
     "end_time": "2023-10-28T03:01:51.940449",
     "exception": false,
     "start_time": "2023-10-28T03:01:51.888659",
     "status": "completed"
    },
    "tags": []
   },
   "outputs": [
    {
     "name": "stdout",
     "output_type": "stream",
     "text": [
      "Modified View Tensor:\n",
      "tensor([[1., 2., 3., 4., 5., 6., 7., 8., 9.]])\n",
      "Shape of Modified View Tensor: torch.Size([1, 9])\n"
     ]
    }
   ],
   "source": [
    "# Change the view using .view()\n",
    "z = x.view(1, 9)\n",
    "\n",
    "print(\"Modified View Tensor:\")\n",
    "print(z)\n",
    "print(\"Shape of Modified View Tensor:\", z.shape)"
   ]
  },
  {
   "cell_type": "markdown",
   "id": "4c29e44b",
   "metadata": {
    "id": "I_hF0L5lujMW",
    "papermill": {
     "duration": 0.041826,
     "end_time": "2023-10-28T03:01:52.025399",
     "exception": false,
     "start_time": "2023-10-28T03:01:51.983573",
     "status": "completed"
    },
    "tags": []
   },
   "source": [
    "*Remember though, changing the view of a tensor with torch.view() really only creates a new view of the same tensor.So changing the view changes the original tensor too.*"
   ]
  },
  {
   "cell_type": "code",
   "execution_count": 63,
   "id": "7d969afe",
   "metadata": {
    "execution": {
     "iopub.execute_input": "2023-10-28T03:01:52.115767Z",
     "iopub.status.busy": "2023-10-28T03:01:52.115426Z",
     "iopub.status.idle": "2023-10-28T03:01:52.122529Z",
     "shell.execute_reply": "2023-10-28T03:01:52.121505Z"
    },
    "id": "dzHfHtS9vFh3",
    "outputId": "2266034d-8608-4411-eeee-1e4bea66ff6e",
    "papermill": {
     "duration": 0.055085,
     "end_time": "2023-10-28T03:01:52.124457",
     "exception": false,
     "start_time": "2023-10-28T03:01:52.069372",
     "status": "completed"
    },
    "tags": []
   },
   "outputs": [
    {
     "name": "stdout",
     "output_type": "stream",
     "text": [
      "Modified View Tensor z:\n",
      "tensor([[5., 2., 3., 4., 5., 6., 7., 8., 9.]])\n",
      "\n",
      "Original Tensor x:\n",
      "tensor([5., 2., 3., 4., 5., 6., 7., 8., 9.])\n"
     ]
    }
   ],
   "source": [
    "# Changing z changes x\n",
    "z[:, 0] = 5\n",
    "\n",
    "print(\"Modified View Tensor z:\")\n",
    "print(z)\n",
    "print(\"\\nOriginal Tensor x:\")\n",
    "print(x)"
   ]
  },
  {
   "cell_type": "markdown",
   "id": "703d95d7",
   "metadata": {
    "id": "s_MLgW7VvJl8",
    "papermill": {
     "duration": 0.042366,
     "end_time": "2023-10-28T03:01:52.210388",
     "exception": false,
     "start_time": "2023-10-28T03:01:52.168022",
     "status": "completed"
    },
    "tags": []
   },
   "source": [
    "\n",
    "If we wanted to stack our new tensor on top of itself five times, we could do so with torch.stack()."
   ]
  },
  {
   "cell_type": "code",
   "execution_count": 64,
   "id": "ee43a395",
   "metadata": {
    "execution": {
     "iopub.execute_input": "2023-10-28T03:01:52.298049Z",
     "iopub.status.busy": "2023-10-28T03:01:52.297743Z",
     "iopub.status.idle": "2023-10-28T03:01:52.306290Z",
     "shell.execute_reply": "2023-10-28T03:01:52.305430Z"
    },
    "id": "bEeohO8DvPbD",
    "outputId": "b054482a-96ee-4e01-c795-3aa375c6b3fe",
    "papermill": {
     "duration": 0.054714,
     "end_time": "2023-10-28T03:01:52.308196",
     "exception": false,
     "start_time": "2023-10-28T03:01:52.253482",
     "status": "completed"
    },
    "tags": []
   },
   "outputs": [
    {
     "data": {
      "text/plain": [
       "tensor([[1, 2, 3, 4, 5, 6, 7, 8, 9],\n",
       "        [1, 2, 3, 4, 5, 6, 7, 8, 9],\n",
       "        [1, 2, 3, 4, 5, 6, 7, 8, 9],\n",
       "        [1, 2, 3, 4, 5, 6, 7, 8, 9]])"
      ]
     },
     "execution_count": 64,
     "metadata": {},
     "output_type": "execute_result"
    }
   ],
   "source": [
    "# Original tensor\n",
    "x = torch.tensor([1, 2, 3, 4, 5, 6, 7, 8, 9])\n",
    "\n",
    "# Stack tensors on top of each other along rows (dim=0)\n",
    "x_stacked = torch.stack([x, x, x, x], dim=0)\n",
    "\n",
    "# Stacked tensor\n",
    "x_stacked"
   ]
  },
  {
   "cell_type": "code",
   "execution_count": 65,
   "id": "8c64b1c4",
   "metadata": {
    "execution": {
     "iopub.execute_input": "2023-10-28T03:01:52.393245Z",
     "iopub.status.busy": "2023-10-28T03:01:52.392985Z",
     "iopub.status.idle": "2023-10-28T03:01:52.399915Z",
     "shell.execute_reply": "2023-10-28T03:01:52.399062Z"
    },
    "id": "6x7UPXzuvc0c",
    "outputId": "f12e8d44-2b82-4f14-edba-eadf76414bfa",
    "papermill": {
     "duration": 0.051368,
     "end_time": "2023-10-28T03:01:52.401734",
     "exception": false,
     "start_time": "2023-10-28T03:01:52.350366",
     "status": "completed"
    },
    "tags": []
   },
   "outputs": [
    {
     "data": {
      "text/plain": [
       "tensor([[1, 1, 1, 1],\n",
       "        [2, 2, 2, 2],\n",
       "        [3, 3, 3, 3],\n",
       "        [4, 4, 4, 4],\n",
       "        [5, 5, 5, 5],\n",
       "        [6, 6, 6, 6],\n",
       "        [7, 7, 7, 7],\n",
       "        [8, 8, 8, 8],\n",
       "        [9, 9, 9, 9]])"
      ]
     },
     "execution_count": 65,
     "metadata": {},
     "output_type": "execute_result"
    }
   ],
   "source": [
    "# Stack tensors on top of each other along columns (dim=1)\n",
    "x_stacked = torch.stack([x, x, x, x], dim=1)\n",
    "\n",
    "# Display the stacked tensor\n",
    "x_stacked"
   ]
  },
  {
   "cell_type": "markdown",
   "id": "c4f8be5e",
   "metadata": {
    "id": "7LiqpMolvkzv",
    "papermill": {
     "duration": 0.04214,
     "end_time": "2023-10-28T03:01:52.485998",
     "exception": false,
     "start_time": "2023-10-28T03:01:52.443858",
     "status": "completed"
    },
    "tags": []
   },
   "source": [
    "## **Removing Single Dimention**\n",
    "\n",
    "#### How about removing all single dimensions from a tensor?\n",
    "\n",
    "To do so you can use torch.squeeze() (I remember this as squeezing the tensor to only have dimensions over 1)."
   ]
  },
  {
   "cell_type": "code",
   "execution_count": 66,
   "id": "893cd633",
   "metadata": {
    "execution": {
     "iopub.execute_input": "2023-10-28T03:01:52.573447Z",
     "iopub.status.busy": "2023-10-28T03:01:52.572457Z",
     "iopub.status.idle": "2023-10-28T03:01:52.578989Z",
     "shell.execute_reply": "2023-10-28T03:01:52.578151Z"
    },
    "id": "2fW7lOq1v9Nk",
    "outputId": "05ca7209-0e24-4cde-eb65-624a51aa70ce",
    "papermill": {
     "duration": 0.052133,
     "end_time": "2023-10-28T03:01:52.580857",
     "exception": false,
     "start_time": "2023-10-28T03:01:52.528724",
     "status": "completed"
    },
    "tags": []
   },
   "outputs": [
    {
     "data": {
      "text/plain": [
       "tensor([[5.],\n",
       "        [2.],\n",
       "        [3.],\n",
       "        [4.],\n",
       "        [5.],\n",
       "        [6.],\n",
       "        [7.],\n",
       "        [8.],\n",
       "        [9.]])"
      ]
     },
     "execution_count": 66,
     "metadata": {},
     "output_type": "execute_result"
    }
   ],
   "source": [
    "x_reshaped"
   ]
  },
  {
   "cell_type": "code",
   "execution_count": 67,
   "id": "001e3ca3",
   "metadata": {
    "execution": {
     "iopub.execute_input": "2023-10-28T03:01:52.668826Z",
     "iopub.status.busy": "2023-10-28T03:01:52.668544Z",
     "iopub.status.idle": "2023-10-28T03:01:52.674970Z",
     "shell.execute_reply": "2023-10-28T03:01:52.674109Z"
    },
    "id": "uWTkqB6yv9Fd",
    "outputId": "865497c6-b176-4a16-8257-38ccae03716c",
    "papermill": {
     "duration": 0.053053,
     "end_time": "2023-10-28T03:01:52.676810",
     "exception": false,
     "start_time": "2023-10-28T03:01:52.623757",
     "status": "completed"
    },
    "tags": []
   },
   "outputs": [
    {
     "data": {
      "text/plain": [
       "tensor([[5., 2., 3., 4., 5., 6., 7., 8., 9.]])"
      ]
     },
     "execution_count": 67,
     "metadata": {},
     "output_type": "execute_result"
    }
   ],
   "source": [
    "# Reshaping x_reshaped \n",
    "x_reshaped = x_reshaped.reshape(1, 9)\n",
    "x_reshaped"
   ]
  },
  {
   "cell_type": "markdown",
   "id": "d656f26a",
   "metadata": {
    "papermill": {
     "duration": 0.043671,
     "end_time": "2023-10-28T03:01:52.762730",
     "exception": false,
     "start_time": "2023-10-28T03:01:52.719059",
     "status": "completed"
    },
    "tags": []
   },
   "source": [
    "***When you use the squeeze() method on a tensor, it removes dimensions with size 1, effectively reducing the rank (number of dimensions) of the tensor. Let's apply squeeze() to the x_reshaped tensor:***"
   ]
  },
  {
   "cell_type": "code",
   "execution_count": 68,
   "id": "c9a03a2d",
   "metadata": {
    "execution": {
     "iopub.execute_input": "2023-10-28T03:01:52.852280Z",
     "iopub.status.busy": "2023-10-28T03:01:52.851943Z",
     "iopub.status.idle": "2023-10-28T03:01:52.858499Z",
     "shell.execute_reply": "2023-10-28T03:01:52.857731Z"
    },
    "id": "mHorWYB3wZiu",
    "outputId": "8d6b6216-fc54-40af-ea96-3fe2a250ba0d",
    "papermill": {
     "duration": 0.053302,
     "end_time": "2023-10-28T03:01:52.860404",
     "exception": false,
     "start_time": "2023-10-28T03:01:52.807102",
     "status": "completed"
    },
    "tags": []
   },
   "outputs": [
    {
     "data": {
      "text/plain": [
       "tensor([5., 2., 3., 4., 5., 6., 7., 8., 9.])"
      ]
     },
     "execution_count": 68,
     "metadata": {},
     "output_type": "execute_result"
    }
   ],
   "source": [
    "# Squeeze the x_reshaped tensor\n",
    "x_reshaped_squeezed = x_reshaped.squeeze()\n",
    "\n",
    "# Display the squeezed tensor\n",
    "x_reshaped_squeezed"
   ]
  },
  {
   "cell_type": "code",
   "execution_count": 69,
   "id": "0aa8f43d",
   "metadata": {
    "execution": {
     "iopub.execute_input": "2023-10-28T03:01:52.949501Z",
     "iopub.status.busy": "2023-10-28T03:01:52.949202Z",
     "iopub.status.idle": "2023-10-28T03:01:52.954934Z",
     "shell.execute_reply": "2023-10-28T03:01:52.954066Z"
    },
    "id": "XlxWbRwpwh6l",
    "outputId": "e899528a-b7b1-4093-ef68-498fe6ea4245",
    "papermill": {
     "duration": 0.052818,
     "end_time": "2023-10-28T03:01:52.956799",
     "exception": false,
     "start_time": "2023-10-28T03:01:52.903981",
     "status": "completed"
    },
    "tags": []
   },
   "outputs": [
    {
     "data": {
      "text/plain": [
       "torch.Size([9])"
      ]
     },
     "execution_count": 69,
     "metadata": {},
     "output_type": "execute_result"
    }
   ],
   "source": [
    "x_reshaped.squeeze().size()"
   ]
  },
  {
   "cell_type": "code",
   "execution_count": 70,
   "id": "11328515",
   "metadata": {
    "execution": {
     "iopub.execute_input": "2023-10-28T03:01:53.048155Z",
     "iopub.status.busy": "2023-10-28T03:01:53.047850Z",
     "iopub.status.idle": "2023-10-28T03:01:53.055147Z",
     "shell.execute_reply": "2023-10-28T03:01:53.054008Z"
    },
    "id": "GXVReIqIwlUk",
    "outputId": "2ebda211-d109-4be3-fe75-fc246769f9ef",
    "papermill": {
     "duration": 0.055825,
     "end_time": "2023-10-28T03:01:53.057148",
     "exception": false,
     "start_time": "2023-10-28T03:01:53.001323",
     "status": "completed"
    },
    "tags": []
   },
   "outputs": [
    {
     "name": "stdout",
     "output_type": "stream",
     "text": [
      "Previous tensor: tensor([[5., 2., 3., 4., 5., 6., 7., 8., 9.]])\n",
      "Previous shape: torch.Size([1, 9])\n",
      "\n",
      "New tensor: tensor([5., 2., 3., 4., 5., 6., 7., 8., 9.])\n",
      "New shape: torch.Size([9])\n"
     ]
    }
   ],
   "source": [
    "print(f\"Previous tensor: {x_reshaped}\")\n",
    "print(f\"Previous shape: {x_reshaped.shape}\")\n",
    "\n",
    "# Remove extra dimension from x_reshaped\n",
    "x_squeezed = x_reshaped.squeeze()\n",
    "\n",
    "print(f\"\\nNew tensor: {x_squeezed}\")\n",
    "print(f\"New shape: {x_squeezed.shape}\")"
   ]
  },
  {
   "cell_type": "markdown",
   "id": "08e4fd33",
   "metadata": {
    "id": "f097hnGpwrbE",
    "papermill": {
     "duration": 0.04318,
     "end_time": "2023-10-28T03:01:53.143940",
     "exception": false,
     "start_time": "2023-10-28T03:01:53.100760",
     "status": "completed"
    },
    "tags": []
   },
   "source": [
    "### **And to do the reverse of torch.squeeze() you can use torch.unsqueeze() to add a dimension value of 1 at a specific index.**"
   ]
  },
  {
   "cell_type": "code",
   "execution_count": 71,
   "id": "74705f93",
   "metadata": {
    "execution": {
     "iopub.execute_input": "2023-10-28T03:01:53.235678Z",
     "iopub.status.busy": "2023-10-28T03:01:53.234973Z",
     "iopub.status.idle": "2023-10-28T03:01:53.243120Z",
     "shell.execute_reply": "2023-10-28T03:01:53.242224Z"
    },
    "id": "mUEbfAMlxCOn",
    "outputId": "eb8cdd3c-4726-4bf5-b09b-df8c57c56d86",
    "papermill": {
     "duration": 0.057363,
     "end_time": "2023-10-28T03:01:53.245073",
     "exception": false,
     "start_time": "2023-10-28T03:01:53.187710",
     "status": "completed"
    },
    "tags": []
   },
   "outputs": [
    {
     "name": "stdout",
     "output_type": "stream",
     "text": [
      "Previous tensor: tensor([5., 2., 3., 4., 5., 6., 7., 8., 9.])\n",
      "Previous shape: torch.Size([9])\n",
      "\n",
      "New tensor: tensor([[5., 2., 3., 4., 5., 6., 7., 8., 9.]])\n",
      "New shape: torch.Size([1, 9])\n"
     ]
    }
   ],
   "source": [
    "print(f\"Previous tensor: {x_squeezed}\")\n",
    "print(f\"Previous shape: {x_squeezed.shape}\")\n",
    "\n",
    "## Add an extra dimension with unsqueeze\n",
    "x_unsqueezed = x_squeezed.unsqueeze(dim=0)\n",
    "print(f\"\\nNew tensor: {x_unsqueezed}\")\n",
    "print(f\"New shape: {x_unsqueezed.shape}\")"
   ]
  },
  {
   "cell_type": "markdown",
   "id": "44706b58",
   "metadata": {
    "id": "M6xZ-JX_xGa7",
    "papermill": {
     "duration": 0.04533,
     "end_time": "2023-10-28T03:01:53.336960",
     "exception": false,
     "start_time": "2023-10-28T03:01:53.291630",
     "status": "completed"
    },
    "tags": []
   },
   "source": [
    "### **Another essential tensor operation is rearranging the order of axes values, which can be achieved using torch.permute(input, dims). This function allows you to create a view of the input tensor with the specified dimensions, effectively rearranging the axes.**"
   ]
  },
  {
   "cell_type": "code",
   "execution_count": 72,
   "id": "6a9c9442",
   "metadata": {
    "execution": {
     "iopub.execute_input": "2023-10-28T03:01:53.428202Z",
     "iopub.status.busy": "2023-10-28T03:01:53.427377Z",
     "iopub.status.idle": "2023-10-28T03:01:53.435340Z",
     "shell.execute_reply": "2023-10-28T03:01:53.434298Z"
    },
    "id": "nELYm077xkY0",
    "outputId": "56dcef55-9dd8-450b-e155-aa655a293f1a",
    "papermill": {
     "duration": 0.055627,
     "end_time": "2023-10-28T03:01:53.437629",
     "exception": false,
     "start_time": "2023-10-28T03:01:53.382002",
     "status": "completed"
    },
    "tags": []
   },
   "outputs": [
    {
     "name": "stdout",
     "output_type": "stream",
     "text": [
      "Previous shape: torch.Size([224, 224, 3])\n",
      "New shape: torch.Size([3, 224, 224])\n"
     ]
    }
   ],
   "source": [
    "# Create tensor with specific shape\n",
    "x_original = torch.rand(size=(224, 224, 3)) # Height, Width, Channels\n",
    "\n",
    "# Permute the original tensor to rearrange the axis order\n",
    "x_permuted = x_original.permute(2, 0, 1) # shifts axis 0->1, 1->2, 2->0\n",
    "\n",
    "print(f\"Previous shape: {x_original.shape}\")\n",
    "print(f\"New shape: {x_permuted.shape}\") # Channels, Height, Width"
   ]
  },
  {
   "cell_type": "code",
   "execution_count": 73,
   "id": "ca085caf",
   "metadata": {
    "execution": {
     "iopub.execute_input": "2023-10-28T03:01:53.528778Z",
     "iopub.status.busy": "2023-10-28T03:01:53.528469Z",
     "iopub.status.idle": "2023-10-28T03:01:53.535142Z",
     "shell.execute_reply": "2023-10-28T03:01:53.534275Z"
    },
    "id": "zptkeqbxxzw8",
    "outputId": "27a874c5-afeb-494c-e05d-930850376b24",
    "papermill": {
     "duration": 0.055361,
     "end_time": "2023-10-28T03:01:53.537117",
     "exception": false,
     "start_time": "2023-10-28T03:01:53.481756",
     "status": "completed"
    },
    "tags": []
   },
   "outputs": [
    {
     "data": {
      "text/plain": [
       "torch.Size([2, 3, 5])"
      ]
     },
     "execution_count": 73,
     "metadata": {},
     "output_type": "execute_result"
    }
   ],
   "source": [
    "# Create a 3D tensor with random values\n",
    "x = torch.randn(2, 3, 5)\n",
    "\n",
    "# Use the .size() method to get the size (shape) of the tensor\n",
    "size_of_x = x.size()\n",
    "size_of_x"
   ]
  },
  {
   "cell_type": "code",
   "execution_count": 74,
   "id": "78ca460a",
   "metadata": {
    "execution": {
     "iopub.execute_input": "2023-10-28T03:01:53.626174Z",
     "iopub.status.busy": "2023-10-28T03:01:53.625882Z",
     "iopub.status.idle": "2023-10-28T03:01:53.632129Z",
     "shell.execute_reply": "2023-10-28T03:01:53.631447Z"
    },
    "id": "yIRlTuB8yEM8",
    "outputId": "01c498d9-b844-42eb-a1c3-aa6a74cba686",
    "papermill": {
     "duration": 0.052895,
     "end_time": "2023-10-28T03:01:53.634026",
     "exception": false,
     "start_time": "2023-10-28T03:01:53.581131",
     "status": "completed"
    },
    "tags": []
   },
   "outputs": [
    {
     "data": {
      "text/plain": [
       "tensor([[[-0.7963,  0.6134,  1.1794, -0.9621,  1.6388],\n",
       "         [-0.8928,  1.2756, -0.9238,  1.6126, -0.7292],\n",
       "         [ 0.7680,  2.4192, -0.4922, -0.6502,  0.4609]],\n",
       "\n",
       "        [[-0.5408, -0.3830, -1.1725,  0.0145,  0.5402],\n",
       "         [ 1.4513,  0.4064,  0.9798, -2.6272, -1.1485],\n",
       "         [-0.3889,  1.5624, -0.7264,  1.0032,  0.4538]]])"
      ]
     },
     "execution_count": 74,
     "metadata": {},
     "output_type": "execute_result"
    }
   ],
   "source": [
    "x"
   ]
  },
  {
   "cell_type": "code",
   "execution_count": 75,
   "id": "397550ef",
   "metadata": {
    "execution": {
     "iopub.execute_input": "2023-10-28T03:01:53.721910Z",
     "iopub.status.busy": "2023-10-28T03:01:53.721601Z",
     "iopub.status.idle": "2023-10-28T03:01:53.728183Z",
     "shell.execute_reply": "2023-10-28T03:01:53.727329Z"
    },
    "id": "gVMAtlNSyIBc",
    "outputId": "bec5f42b-7ea9-4c7d-9f67-d29bcb61c953",
    "papermill": {
     "duration": 0.052831,
     "end_time": "2023-10-28T03:01:53.730171",
     "exception": false,
     "start_time": "2023-10-28T03:01:53.677340",
     "status": "completed"
    },
    "tags": []
   },
   "outputs": [
    {
     "data": {
      "text/plain": [
       "torch.Size([5, 2, 3])"
      ]
     },
     "execution_count": 75,
     "metadata": {},
     "output_type": "execute_result"
    }
   ],
   "source": [
    "# Permute the dimensions of tensor x using torch.permute()\n",
    "# The specified permutation order is (2, 0, 1)\n",
    "permuted_x = torch.permute(x, (2, 0, 1))\n",
    "\n",
    "# Get the size (shape) of the permuted tensor\n",
    "size_of_permuted_x = permuted_x.size()\n",
    "\n",
    "# Display the size of the permuted tensor\n",
    "size_of_permuted_x"
   ]
  },
  {
   "cell_type": "code",
   "execution_count": 76,
   "id": "edaae8ae",
   "metadata": {
    "execution": {
     "iopub.execute_input": "2023-10-28T03:01:53.825847Z",
     "iopub.status.busy": "2023-10-28T03:01:53.825075Z",
     "iopub.status.idle": "2023-10-28T03:01:53.831320Z",
     "shell.execute_reply": "2023-10-28T03:01:53.830489Z"
    },
    "id": "QENeivz-yRNT",
    "outputId": "678033e1-cfda-4400-910f-6047710d31e1",
    "papermill": {
     "duration": 0.056776,
     "end_time": "2023-10-28T03:01:53.833366",
     "exception": false,
     "start_time": "2023-10-28T03:01:53.776590",
     "status": "completed"
    },
    "tags": []
   },
   "outputs": [
    {
     "data": {
      "text/plain": [
       "tensor(0.2666)"
      ]
     },
     "execution_count": 76,
     "metadata": {},
     "output_type": "execute_result"
    }
   ],
   "source": [
    "x_original[0,0,0]"
   ]
  },
  {
   "cell_type": "code",
   "execution_count": 77,
   "id": "80d6b96b",
   "metadata": {
    "execution": {
     "iopub.execute_input": "2023-10-28T03:01:53.923475Z",
     "iopub.status.busy": "2023-10-28T03:01:53.922984Z",
     "iopub.status.idle": "2023-10-28T03:01:53.929020Z",
     "shell.execute_reply": "2023-10-28T03:01:53.928265Z"
    },
    "id": "QCnulSTPzBID",
    "outputId": "7ca27bef-8778-4abf-ebaa-319546a633d4",
    "papermill": {
     "duration": 0.054129,
     "end_time": "2023-10-28T03:01:53.930930",
     "exception": false,
     "start_time": "2023-10-28T03:01:53.876801",
     "status": "completed"
    },
    "tags": []
   },
   "outputs": [
    {
     "data": {
      "text/plain": [
       "tensor(0.2666)"
      ]
     },
     "execution_count": 77,
     "metadata": {},
     "output_type": "execute_result"
    }
   ],
   "source": [
    "x_permuted[0,0,0]"
   ]
  },
  {
   "cell_type": "code",
   "execution_count": 78,
   "id": "59ec635e",
   "metadata": {
    "execution": {
     "iopub.execute_input": "2023-10-28T03:01:54.023830Z",
     "iopub.status.busy": "2023-10-28T03:01:54.023543Z",
     "iopub.status.idle": "2023-10-28T03:01:54.030972Z",
     "shell.execute_reply": "2023-10-28T03:01:54.030129Z"
    },
    "id": "SPhIFZ5dzDpr",
    "outputId": "0a348eec-02af-4717-cc68-c9dded9c3d84",
    "papermill": {
     "duration": 0.056086,
     "end_time": "2023-10-28T03:01:54.032928",
     "exception": false,
     "start_time": "2023-10-28T03:01:53.976842",
     "status": "completed"
    },
    "tags": []
   },
   "outputs": [
    {
     "data": {
      "text/plain": [
       "(tensor(0.5500), tensor(0.5500))"
      ]
     },
     "execution_count": 78,
     "metadata": {},
     "output_type": "execute_result"
    }
   ],
   "source": [
    "# Modify the value at a specific position in the original tensor x_original\n",
    "x_original[0, 0, 0] = 0.55\n",
    "\n",
    "# Check the values at the same position in both the original and permuted tensors\n",
    "value_in_original = x_original[0, 0, 0]\n",
    "value_in_permuted = x_permuted[0, 0, 0]\n",
    "\n",
    "value_in_original, value_in_permuted"
   ]
  },
  {
   "cell_type": "markdown",
   "id": "7800065e",
   "metadata": {
    "papermill": {
     "duration": 0.043843,
     "end_time": "2023-10-28T03:01:54.123081",
     "exception": false,
     "start_time": "2023-10-28T03:01:54.079238",
     "status": "completed"
    },
    "tags": []
   },
   "source": [
    "*- We first modify the value at position (0, 0, 0) in the original tensor x_original and set it to 0.55.*\n",
    "\n",
    "*- Then, we retrieve and store the values at the same position in both the original and permuted tensors.*\n",
    "\n",
    "*- Finally, we display the values.*"
   ]
  },
  {
   "cell_type": "markdown",
   "id": "9d4bb6bf",
   "metadata": {
    "id": "9Gu8O0rdzSwD",
    "papermill": {
     "duration": 0.043274,
     "end_time": "2023-10-28T03:01:54.211246",
     "exception": false,
     "start_time": "2023-10-28T03:01:54.167972",
     "status": "completed"
    },
    "tags": []
   },
   "source": [
    "## **Indexing**"
   ]
  },
  {
   "cell_type": "code",
   "execution_count": 79,
   "id": "6f547dbf",
   "metadata": {
    "execution": {
     "iopub.execute_input": "2023-10-28T03:01:54.307392Z",
     "iopub.status.busy": "2023-10-28T03:01:54.307018Z",
     "iopub.status.idle": "2023-10-28T03:01:54.314486Z",
     "shell.execute_reply": "2023-10-28T03:01:54.313479Z"
    },
    "id": "n99mTlJ4znut",
    "outputId": "92f2694d-7798-46ea-a554-363bd1da8fb8",
    "papermill": {
     "duration": 0.059561,
     "end_time": "2023-10-28T03:01:54.316542",
     "exception": false,
     "start_time": "2023-10-28T03:01:54.256981",
     "status": "completed"
    },
    "tags": []
   },
   "outputs": [
    {
     "data": {
      "text/plain": [
       "(tensor([[[1, 2, 3],\n",
       "          [4, 5, 6],\n",
       "          [7, 8, 9]]]),\n",
       " torch.Size([1, 3, 3]))"
      ]
     },
     "execution_count": 79,
     "metadata": {},
     "output_type": "execute_result"
    }
   ],
   "source": [
    "# Create a tensor using torch.arange() and reshape it\n",
    "x = torch.arange(1, 10).reshape(1, 3, 3)\n",
    "\n",
    "# Display the tensor x and its shape\n",
    "x, x.shape"
   ]
  },
  {
   "cell_type": "code",
   "execution_count": 80,
   "id": "8d0f6785",
   "metadata": {
    "execution": {
     "iopub.execute_input": "2023-10-28T03:01:54.412113Z",
     "iopub.status.busy": "2023-10-28T03:01:54.411577Z",
     "iopub.status.idle": "2023-10-28T03:01:54.417830Z",
     "shell.execute_reply": "2023-10-28T03:01:54.416989Z"
    },
    "id": "PSO3jShkzzAz",
    "outputId": "8e594e67-2f28-457b-9e37-4b9a9949ff5a",
    "papermill": {
     "duration": 0.056181,
     "end_time": "2023-10-28T03:01:54.419839",
     "exception": false,
     "start_time": "2023-10-28T03:01:54.363658",
     "status": "completed"
    },
    "tags": []
   },
   "outputs": [
    {
     "data": {
      "text/plain": [
       "tensor([[1, 2, 3],\n",
       "        [4, 5, 6],\n",
       "        [7, 8, 9]])"
      ]
     },
     "execution_count": 80,
     "metadata": {},
     "output_type": "execute_result"
    }
   ],
   "source": [
    "# Access the first element along the first dimension of the tensor x\n",
    "first_element = x[0]\n",
    "\n",
    "# Printing the first element (a 2D slice) of the tensor x\n",
    "first_element"
   ]
  },
  {
   "cell_type": "code",
   "execution_count": 81,
   "id": "5b55210e",
   "metadata": {
    "execution": {
     "iopub.execute_input": "2023-10-28T03:01:54.514383Z",
     "iopub.status.busy": "2023-10-28T03:01:54.513378Z",
     "iopub.status.idle": "2023-10-28T03:01:54.520020Z",
     "shell.execute_reply": "2023-10-28T03:01:54.519147Z"
    },
    "id": "NrLKjc99z7Ii",
    "outputId": "49bd7809-460b-4a97-e92f-52ccddbc820e",
    "papermill": {
     "duration": 0.056221,
     "end_time": "2023-10-28T03:01:54.522082",
     "exception": false,
     "start_time": "2023-10-28T03:01:54.465861",
     "status": "completed"
    },
    "tags": []
   },
   "outputs": [
    {
     "data": {
      "text/plain": [
       "tensor([1, 2, 3])"
      ]
     },
     "execution_count": 81,
     "metadata": {},
     "output_type": "execute_result"
    }
   ],
   "source": [
    "# Access the element at the first row and first column of the first 2D matrix in the tensor x\n",
    "element = x[0][0]\n",
    "\n",
    "# Printing the accessed element\n",
    "element"
   ]
  },
  {
   "cell_type": "code",
   "execution_count": 82,
   "id": "d6ca4c1e",
   "metadata": {
    "execution": {
     "iopub.execute_input": "2023-10-28T03:01:54.613098Z",
     "iopub.status.busy": "2023-10-28T03:01:54.612819Z",
     "iopub.status.idle": "2023-10-28T03:01:54.618788Z",
     "shell.execute_reply": "2023-10-28T03:01:54.617987Z"
    },
    "id": "_jGgtTjZz_4x",
    "outputId": "7ba5113f-cc24-495f-899b-6faa59d14f1f",
    "papermill": {
     "duration": 0.05353,
     "end_time": "2023-10-28T03:01:54.620662",
     "exception": false,
     "start_time": "2023-10-28T03:01:54.567132",
     "status": "completed"
    },
    "tags": []
   },
   "outputs": [
    {
     "data": {
      "text/plain": [
       "tensor([1, 2, 3])"
      ]
     },
     "execution_count": 82,
     "metadata": {},
     "output_type": "execute_result"
    }
   ],
   "source": [
    "# Access the element at the first row and first column of the first 2D matrix in the tensor x\n",
    "element = x[0, 0]\n",
    "element"
   ]
  },
  {
   "cell_type": "code",
   "execution_count": 83,
   "id": "591a8bd3",
   "metadata": {
    "execution": {
     "iopub.execute_input": "2023-10-28T03:01:54.710586Z",
     "iopub.status.busy": "2023-10-28T03:01:54.710104Z",
     "iopub.status.idle": "2023-10-28T03:01:54.716109Z",
     "shell.execute_reply": "2023-10-28T03:01:54.715302Z"
    },
    "id": "cRnU34AA0DVQ",
    "outputId": "de8f5a57-7aa3-4064-ed01-37d17affc484",
    "papermill": {
     "duration": 0.052723,
     "end_time": "2023-10-28T03:01:54.718071",
     "exception": false,
     "start_time": "2023-10-28T03:01:54.665348",
     "status": "completed"
    },
    "tags": []
   },
   "outputs": [
    {
     "data": {
      "text/plain": [
       "tensor(1)"
      ]
     },
     "execution_count": 83,
     "metadata": {},
     "output_type": "execute_result"
    }
   ],
   "source": [
    "# Access the element at the first row, first column, and first depth dimension of the tensor x\n",
    "element = x[0, 0, 0]\n",
    "element"
   ]
  },
  {
   "cell_type": "code",
   "execution_count": 84,
   "id": "8d172cec",
   "metadata": {
    "execution": {
     "iopub.execute_input": "2023-10-28T03:01:54.809011Z",
     "iopub.status.busy": "2023-10-28T03:01:54.808767Z",
     "iopub.status.idle": "2023-10-28T03:01:54.814739Z",
     "shell.execute_reply": "2023-10-28T03:01:54.813847Z"
    },
    "id": "x8yoDlbg0M37",
    "outputId": "9e7aec5e-3bea-42b0-fcae-56ed766ef1c4",
    "papermill": {
     "duration": 0.053494,
     "end_time": "2023-10-28T03:01:54.816653",
     "exception": false,
     "start_time": "2023-10-28T03:01:54.763159",
     "status": "completed"
    },
    "tags": []
   },
   "outputs": [
    {
     "data": {
      "text/plain": [
       "tensor(2)"
      ]
     },
     "execution_count": 84,
     "metadata": {},
     "output_type": "execute_result"
    }
   ],
   "source": [
    "# Access the element at the first row, first column, and second depth dimension of the tensor x\n",
    "element = x[0, 0, 1]\n",
    "element"
   ]
  },
  {
   "cell_type": "code",
   "execution_count": 85,
   "id": "db8c6726",
   "metadata": {
    "execution": {
     "iopub.execute_input": "2023-10-28T03:01:54.908060Z",
     "iopub.status.busy": "2023-10-28T03:01:54.907781Z",
     "iopub.status.idle": "2023-10-28T03:01:54.913775Z",
     "shell.execute_reply": "2023-10-28T03:01:54.913075Z"
    },
    "id": "-DbrLVUB0Ytp",
    "outputId": "65d9d4b9-cfcb-4537-bcce-9e017d9f2277",
    "papermill": {
     "duration": 0.054415,
     "end_time": "2023-10-28T03:01:54.915574",
     "exception": false,
     "start_time": "2023-10-28T03:01:54.861159",
     "status": "completed"
    },
    "tags": []
   },
   "outputs": [
    {
     "data": {
      "text/plain": [
       "tensor(5)"
      ]
     },
     "execution_count": 85,
     "metadata": {},
     "output_type": "execute_result"
    }
   ],
   "source": [
    "# Access the element at the first row, second column, and second depth dimension of the tensor x\n",
    "x[0, 1, 1]"
   ]
  },
  {
   "cell_type": "code",
   "execution_count": 86,
   "id": "f0f84f1c",
   "metadata": {
    "execution": {
     "iopub.execute_input": "2023-10-28T03:01:55.005690Z",
     "iopub.status.busy": "2023-10-28T03:01:55.005415Z",
     "iopub.status.idle": "2023-10-28T03:01:55.011286Z",
     "shell.execute_reply": "2023-10-28T03:01:55.010549Z"
    },
    "id": "-QygoFvB0cs5",
    "outputId": "e60d81bd-8420-4cd7-e30f-3145f322bc20",
    "papermill": {
     "duration": 0.053387,
     "end_time": "2023-10-28T03:01:55.013166",
     "exception": false,
     "start_time": "2023-10-28T03:01:54.959779",
     "status": "completed"
    },
    "tags": []
   },
   "outputs": [
    {
     "data": {
      "text/plain": [
       "tensor([[1, 2, 3]])"
      ]
     },
     "execution_count": 86,
     "metadata": {},
     "output_type": "execute_result"
    }
   ],
   "source": [
    "# Select all elements from the first column (index 0) along the second dimension of the tensor x\n",
    "selected_column = x[:, 0]\n",
    "selected_column"
   ]
  },
  {
   "cell_type": "code",
   "execution_count": 87,
   "id": "03e2c39f",
   "metadata": {
    "execution": {
     "iopub.execute_input": "2023-10-28T03:01:55.106198Z",
     "iopub.status.busy": "2023-10-28T03:01:55.105902Z",
     "iopub.status.idle": "2023-10-28T03:01:55.111850Z",
     "shell.execute_reply": "2023-10-28T03:01:55.111028Z"
    },
    "id": "38Py4xWk0riy",
    "outputId": "268e5928-f9e6-44f6-dc17-c7de922e9401",
    "papermill": {
     "duration": 0.053801,
     "end_time": "2023-10-28T03:01:55.113716",
     "exception": false,
     "start_time": "2023-10-28T03:01:55.059915",
     "status": "completed"
    },
    "tags": []
   },
   "outputs": [
    {
     "data": {
      "text/plain": [
       "tensor([[2, 5, 8]])"
      ]
     },
     "execution_count": 87,
     "metadata": {},
     "output_type": "execute_result"
    }
   ],
   "source": [
    "# Get all values of 0th & 1st dimensions but only index 1 of 2nd dimension\n",
    "x[:, :, 1]"
   ]
  },
  {
   "cell_type": "code",
   "execution_count": 88,
   "id": "06c594d0",
   "metadata": {
    "execution": {
     "iopub.execute_input": "2023-10-28T03:01:55.207761Z",
     "iopub.status.busy": "2023-10-28T03:01:55.207479Z",
     "iopub.status.idle": "2023-10-28T03:01:55.213538Z",
     "shell.execute_reply": "2023-10-28T03:01:55.212709Z"
    },
    "id": "5rfWF_D901My",
    "outputId": "50556de6-5c9a-41eb-f839-0c69234f13c4",
    "papermill": {
     "duration": 0.055551,
     "end_time": "2023-10-28T03:01:55.215553",
     "exception": false,
     "start_time": "2023-10-28T03:01:55.160002",
     "status": "completed"
    },
    "tags": []
   },
   "outputs": [
    {
     "data": {
      "text/plain": [
       "tensor([5])"
      ]
     },
     "execution_count": 88,
     "metadata": {},
     "output_type": "execute_result"
    }
   ],
   "source": [
    "# Get all values of the 0 dimension but only the 1 index value of the 1st and 2nd dimension\n",
    "x[:, 1, 1]"
   ]
  },
  {
   "cell_type": "code",
   "execution_count": 89,
   "id": "a543ca7b",
   "metadata": {
    "execution": {
     "iopub.execute_input": "2023-10-28T03:01:55.314931Z",
     "iopub.status.busy": "2023-10-28T03:01:55.314605Z",
     "iopub.status.idle": "2023-10-28T03:01:55.321228Z",
     "shell.execute_reply": "2023-10-28T03:01:55.320365Z"
    },
    "id": "Nu5m-Sej1PHx",
    "outputId": "b4ad86b4-0234-4a6d-d3c9-c8ebf07ae892",
    "papermill": {
     "duration": 0.058472,
     "end_time": "2023-10-28T03:01:55.323224",
     "exception": false,
     "start_time": "2023-10-28T03:01:55.264752",
     "status": "completed"
    },
    "tags": []
   },
   "outputs": [
    {
     "data": {
      "text/plain": [
       "tensor([1, 2, 3])"
      ]
     },
     "execution_count": 89,
     "metadata": {},
     "output_type": "execute_result"
    }
   ],
   "source": [
    "# Get index 0 of 0th and 1st dimension and all values of 2nd dimension\n",
    "x[0, 0, :] # same as x[0][0]"
   ]
  },
  {
   "cell_type": "markdown",
   "id": "414b506d",
   "metadata": {
    "id": "PPpz3D7B1RYR",
    "papermill": {
     "duration": 0.047769,
     "end_time": "2023-10-28T03:01:55.420347",
     "exception": false,
     "start_time": "2023-10-28T03:01:55.372578",
     "status": "completed"
    },
    "tags": []
   },
   "source": [
    "\n",
    "## **Tensors & NumPy**\n",
    "PyTorch provides convenient methods for converting between NumPy arrays and PyTorch tensors:\n",
    "\n",
    "- **torch.from_numpy(ndarray)** converts a NumPy array to a PyTorch tensor.\n",
    "- **torch.Tensor.numpy()** converts a PyTorch tensor to a NumPy array.\n",
    "\n",
    "These methods allow for seamless interaction between NumPy and PyTorch data structures."
   ]
  },
  {
   "cell_type": "code",
   "execution_count": 90,
   "id": "1f3070d9",
   "metadata": {
    "execution": {
     "iopub.execute_input": "2023-10-28T03:01:55.514798Z",
     "iopub.status.busy": "2023-10-28T03:01:55.514492Z",
     "iopub.status.idle": "2023-10-28T03:01:55.520919Z",
     "shell.execute_reply": "2023-10-28T03:01:55.519988Z"
    },
    "id": "RIJwa06Q2skP",
    "outputId": "576a53c5-d212-4153-fe2e-e0db49f21f31",
    "papermill": {
     "duration": 0.05568,
     "end_time": "2023-10-28T03:01:55.522972",
     "exception": false,
     "start_time": "2023-10-28T03:01:55.467292",
     "status": "completed"
    },
    "tags": []
   },
   "outputs": [
    {
     "data": {
      "text/plain": [
       "(array([1., 2., 3., 4., 5., 6., 7.]), (7,))"
      ]
     },
     "execution_count": 90,
     "metadata": {},
     "output_type": "execute_result"
    }
   ],
   "source": [
    "# Create a NumPy array with values ranging from 1.0 to 7.0\n",
    "array = np.arange(1.0, 8.0)\n",
    "\n",
    "# NumPy array and its shape\n",
    "array, array.shape"
   ]
  },
  {
   "cell_type": "code",
   "execution_count": 91,
   "id": "8a5535f2",
   "metadata": {
    "execution": {
     "iopub.execute_input": "2023-10-28T03:01:55.617401Z",
     "iopub.status.busy": "2023-10-28T03:01:55.616845Z",
     "iopub.status.idle": "2023-10-28T03:01:55.623683Z",
     "shell.execute_reply": "2023-10-28T03:01:55.622766Z"
    },
    "id": "leGXAwDD6kEl",
    "outputId": "8b3af961-5002-4b52-d35d-5470cf8172ef",
    "papermill": {
     "duration": 0.055388,
     "end_time": "2023-10-28T03:01:55.625807",
     "exception": false,
     "start_time": "2023-10-28T03:01:55.570419",
     "status": "completed"
    },
    "tags": []
   },
   "outputs": [
    {
     "data": {
      "text/plain": [
       "(tensor([1., 2., 3., 4., 5., 6., 7.], dtype=torch.float64), torch.Size([7]))"
      ]
     },
     "execution_count": 91,
     "metadata": {},
     "output_type": "execute_result"
    }
   ],
   "source": [
    "# Convert the NumPy array 'array' to a PyTorch tensor\n",
    "tensor = torch.from_numpy(array)\n",
    "\n",
    "# PyTorch tensor and its shape\n",
    "tensor, tensor.shape"
   ]
  },
  {
   "cell_type": "code",
   "execution_count": 92,
   "id": "59ea2d58",
   "metadata": {
    "execution": {
     "iopub.execute_input": "2023-10-28T03:01:55.720948Z",
     "iopub.status.busy": "2023-10-28T03:01:55.720665Z",
     "iopub.status.idle": "2023-10-28T03:01:55.727522Z",
     "shell.execute_reply": "2023-10-28T03:01:55.726533Z"
    },
    "id": "mTPieq1O6p38",
    "outputId": "affb531a-c584-4586-955b-cb3ccabdbdde",
    "papermill": {
     "duration": 0.055495,
     "end_time": "2023-10-28T03:01:55.729429",
     "exception": false,
     "start_time": "2023-10-28T03:01:55.673934",
     "status": "completed"
    },
    "tags": []
   },
   "outputs": [
    {
     "data": {
      "text/plain": [
       "(array([2., 3., 4., 5., 6., 7., 8.]),\n",
       " tensor([1., 2., 3., 4., 5., 6., 7.], dtype=torch.float64))"
      ]
     },
     "execution_count": 92,
     "metadata": {},
     "output_type": "execute_result"
    }
   ],
   "source": [
    "# Change the array, keep the tensor\n",
    "array = array + 1\n",
    "array, tensor"
   ]
  },
  {
   "cell_type": "code",
   "execution_count": 93,
   "id": "a6bea05b",
   "metadata": {
    "execution": {
     "iopub.execute_input": "2023-10-28T03:01:55.825087Z",
     "iopub.status.busy": "2023-10-28T03:01:55.824501Z",
     "iopub.status.idle": "2023-10-28T03:01:55.832107Z",
     "shell.execute_reply": "2023-10-28T03:01:55.831280Z"
    },
    "id": "3X-8kmSe67tV",
    "outputId": "a0938d25-e90a-4ea4-cc1c-978051a8196f",
    "papermill": {
     "duration": 0.05631,
     "end_time": "2023-10-28T03:01:55.834099",
     "exception": false,
     "start_time": "2023-10-28T03:01:55.777789",
     "status": "completed"
    },
    "tags": []
   },
   "outputs": [
    {
     "data": {
      "text/plain": [
       "(tensor([1., 1., 1., 1., 1., 1., 1.]),\n",
       " array([1., 1., 1., 1., 1., 1., 1.], dtype=float32))"
      ]
     },
     "execution_count": 93,
     "metadata": {},
     "output_type": "execute_result"
    }
   ],
   "source": [
    "# Create a PyTorch tensor 'tensor' filled with ones and having dtype=float32\n",
    "tensor = torch.ones(7)\n",
    "\n",
    "# Convert the PyTorch tensor to a NumPy array 'numpy_tensor'\n",
    "numpy_tensor = tensor.numpy()\n",
    "\n",
    "# Display the PyTorch tensor and the NumPy array\n",
    "tensor, numpy_tensor"
   ]
  },
  {
   "cell_type": "markdown",
   "id": "f7733d10",
   "metadata": {
    "id": "WTaTjDHH7BiN",
    "papermill": {
     "duration": 0.047815,
     "end_time": "2023-10-28T03:01:55.929041",
     "exception": false,
     "start_time": "2023-10-28T03:01:55.881226",
     "status": "completed"
    },
    "tags": []
   },
   "source": [
    "## **Reproducibility in PyTorch**\n",
    "Randomness is a powerful tool, but sometimes you need to reduce it for the sake of reproducibility. Reproducibility allows you and others to obtain the same or highly similar results when running the same code on different machines.\n",
    "\n",
    "Consider a scenario where you've developed an algorithm achieving a specific performance level, and you want your colleague to validate your findings on their computer. How can you ensure consistent results?\n",
    "\n",
    "This is where reproducibility comes into play. In PyTorch, you can take steps to control randomness, making your experiments more predictable.\n",
    "\n",
    "To demonstrate this, let's start by creating two random tensors. Since they are random, you might expect them to be different, right?\n",
    "\n",
    "Here's an example of ensuring reproducibility in PyTorch."
   ]
  },
  {
   "cell_type": "code",
   "execution_count": 94,
   "id": "f7ac14d5",
   "metadata": {
    "execution": {
     "iopub.execute_input": "2023-10-28T03:01:56.029128Z",
     "iopub.status.busy": "2023-10-28T03:01:56.028398Z",
     "iopub.status.idle": "2023-10-28T03:01:56.039042Z",
     "shell.execute_reply": "2023-10-28T03:01:56.038202Z"
    },
    "id": "uS52jzmG8erb",
    "outputId": "f78d4b02-25ab-4497-ce01-4be59d289511",
    "papermill": {
     "duration": 0.062729,
     "end_time": "2023-10-28T03:01:56.041022",
     "exception": false,
     "start_time": "2023-10-28T03:01:55.978293",
     "status": "completed"
    },
    "tags": []
   },
   "outputs": [
    {
     "name": "stdout",
     "output_type": "stream",
     "text": [
      "Tensor A:\n",
      "tensor([[0.2741, 0.6142, 0.8973, 0.3629],\n",
      "        [0.1748, 0.2401, 0.5457, 0.7303],\n",
      "        [0.5268, 0.6694, 0.3213, 0.4008]])\n",
      "\n",
      "Tensor B:\n",
      "tensor([[0.2892, 0.9977, 0.6649, 0.5646],\n",
      "        [0.9323, 0.4621, 0.4027, 0.1680],\n",
      "        [0.1170, 0.5063, 0.6061, 0.5141]])\n",
      "\n",
      "Does Tensor A equal Tensor B? (anywhere)\n"
     ]
    },
    {
     "data": {
      "text/plain": [
       "tensor([[False, False, False, False],\n",
       "        [False, False, False, False],\n",
       "        [False, False, False, False]])"
      ]
     },
     "execution_count": 94,
     "metadata": {},
     "output_type": "execute_result"
    }
   ],
   "source": [
    "# Create two random tensors, random_tensor_A and random_tensor_B\n",
    "random_tensor_A = torch.rand(3, 4)\n",
    "random_tensor_B = torch.rand(3, 4)\n",
    "\n",
    "# Display the values of Tensor A and Tensor B\n",
    "print(f\"Tensor A:\\n{random_tensor_A}\\n\")\n",
    "print(f\"Tensor B:\\n{random_tensor_B}\\n\")\n",
    "\n",
    "# Check if Tensor A equals Tensor B (element-wise, anywhere)\n",
    "are_equal = random_tensor_A == random_tensor_B\n",
    "\n",
    "# Print the result of the equality check\n",
    "print(f\"Does Tensor A equal Tensor B? (anywhere)\")\n",
    "are_equal"
   ]
  },
  {
   "cell_type": "markdown",
   "id": "714a4522",
   "metadata": {
    "id": "Icz7oUcI8pRT",
    "papermill": {
     "duration": 0.048624,
     "end_time": "2023-10-28T03:01:56.139561",
     "exception": false,
     "start_time": "2023-10-28T03:01:56.090937",
     "status": "completed"
    },
    "tags": []
   },
   "source": [
    "As expected, the previous random tensors had different values. But what if you wanted to create two random tensors with the same \"flavor\" of randomness? In other words, you want the tensors to still contain random values, but these values should be consistent.\n",
    "\n",
    "This is where torch.manual_seed(seed) comes into play. You can specify an integer value (such as 42 or any other) as the seed, and it will determine the characteristics of randomness.\n",
    "\n",
    "Let's demonstrate this by creating some random tensors with the same flavor."
   ]
  },
  {
   "cell_type": "code",
   "execution_count": 95,
   "id": "d0c34761",
   "metadata": {
    "execution": {
     "iopub.execute_input": "2023-10-28T03:01:56.239204Z",
     "iopub.status.busy": "2023-10-28T03:01:56.238413Z",
     "iopub.status.idle": "2023-10-28T03:01:56.247685Z",
     "shell.execute_reply": "2023-10-28T03:01:56.246797Z"
    },
    "id": "iPJXBEjB9JWa",
    "papermill": {
     "duration": 0.061967,
     "end_time": "2023-10-28T03:01:56.249852",
     "exception": false,
     "start_time": "2023-10-28T03:01:56.187885",
     "status": "completed"
    },
    "tags": []
   },
   "outputs": [
    {
     "data": {
      "text/plain": [
       "tensor([[0.8823, 0.9150, 0.3829, 0.9593],\n",
       "        [0.3904, 0.6009, 0.2566, 0.7936],\n",
       "        [0.9408, 0.1332, 0.9346, 0.5936]])"
      ]
     },
     "execution_count": 95,
     "metadata": {},
     "output_type": "execute_result"
    }
   ],
   "source": [
    "# Import the random module\n",
    "import random\n",
    "\n",
    "# Set the random seed to ensure reproducibility\n",
    "RANDOM_SEED = 42  # You can change this value to experiment with different random seeds\n",
    "\n",
    "# Set the random seed for PyTorch\n",
    "torch.manual_seed(seed=RANDOM_SEED)\n",
    "\n",
    "# Create a random tensor with the specified random seed\n",
    "random_tensor_C = torch.rand(3, 4)\n",
    "random_tensor_C"
   ]
  },
  {
   "cell_type": "code",
   "execution_count": 96,
   "id": "698a2dc4",
   "metadata": {
    "execution": {
     "iopub.execute_input": "2023-10-28T03:01:56.349526Z",
     "iopub.status.busy": "2023-10-28T03:01:56.349189Z",
     "iopub.status.idle": "2023-10-28T03:01:56.354288Z",
     "shell.execute_reply": "2023-10-28T03:01:56.353596Z"
    },
    "id": "gK5Kk0Ie9K8C",
    "papermill": {
     "duration": 0.05651,
     "end_time": "2023-10-28T03:01:56.356223",
     "exception": false,
     "start_time": "2023-10-28T03:01:56.299713",
     "status": "completed"
    },
    "tags": []
   },
   "outputs": [],
   "source": [
    "# Have to reset the seed every time a new rand() is called\n",
    "# Without this, tensor_D would be different to tensor_C\n",
    "torch.random.manual_seed(seed=RANDOM_SEED) # try commenting this line out and seeing what happens\n",
    "random_tensor_D = torch.rand(3, 4)"
   ]
  },
  {
   "cell_type": "code",
   "execution_count": 97,
   "id": "c6804d77",
   "metadata": {
    "execution": {
     "iopub.execute_input": "2023-10-28T03:01:56.452430Z",
     "iopub.status.busy": "2023-10-28T03:01:56.452090Z",
     "iopub.status.idle": "2023-10-28T03:01:56.459940Z",
     "shell.execute_reply": "2023-10-28T03:01:56.459243Z"
    },
    "id": "0HaEs1Tl9dK0",
    "outputId": "9a740670-b11d-40c2-c4f2-3133d9710bf8",
    "papermill": {
     "duration": 0.057177,
     "end_time": "2023-10-28T03:01:56.461701",
     "exception": false,
     "start_time": "2023-10-28T03:01:56.404524",
     "status": "completed"
    },
    "tags": []
   },
   "outputs": [
    {
     "name": "stdout",
     "output_type": "stream",
     "text": [
      "Tensor C:\n",
      "tensor([[0.8823, 0.9150, 0.3829, 0.9593],\n",
      "        [0.3904, 0.6009, 0.2566, 0.7936],\n",
      "        [0.9408, 0.1332, 0.9346, 0.5936]])\n",
      "\n",
      "Tensor D:\n",
      "tensor([[0.8823, 0.9150, 0.3829, 0.9593],\n",
      "        [0.3904, 0.6009, 0.2566, 0.7936],\n",
      "        [0.9408, 0.1332, 0.9346, 0.5936]])\n",
      "\n",
      "Does Tensor C equal Tensor D? (anywhere)\n"
     ]
    },
    {
     "data": {
      "text/plain": [
       "tensor([[True, True, True, True],\n",
       "        [True, True, True, True],\n",
       "        [True, True, True, True]])"
      ]
     },
     "execution_count": 97,
     "metadata": {},
     "output_type": "execute_result"
    }
   ],
   "source": [
    "print(f\"Tensor C:\\n{random_tensor_C}\\n\")\n",
    "print(f\"Tensor D:\\n{random_tensor_D}\\n\")\n",
    "print(f\"Does Tensor C equal Tensor D? (anywhere)\")\n",
    "random_tensor_C == random_tensor_D"
   ]
  },
  {
   "cell_type": "markdown",
   "id": "9f110bcd",
   "metadata": {
    "id": "IFZifm1g9rsL",
    "papermill": {
     "duration": 0.047276,
     "end_time": "2023-10-28T03:01:56.558087",
     "exception": false,
     "start_time": "2023-10-28T03:01:56.510811",
     "status": "completed"
    },
    "tags": []
   },
   "source": [
    "## **Device Compatibility**"
   ]
  },
  {
   "cell_type": "code",
   "execution_count": 98,
   "id": "b3b38cce",
   "metadata": {
    "execution": {
     "iopub.execute_input": "2023-10-28T03:01:56.654885Z",
     "iopub.status.busy": "2023-10-28T03:01:56.654108Z",
     "iopub.status.idle": "2023-10-28T03:01:57.710835Z",
     "shell.execute_reply": "2023-10-28T03:01:57.709885Z"
    },
    "id": "ANCTymNUHnKQ",
    "outputId": "4b5787d6-2a9e-44f8-af46-ada2d6c11796",
    "papermill": {
     "duration": 1.1082,
     "end_time": "2023-10-28T03:01:57.713051",
     "exception": false,
     "start_time": "2023-10-28T03:01:56.604851",
     "status": "completed"
    },
    "tags": []
   },
   "outputs": [
    {
     "name": "stdout",
     "output_type": "stream",
     "text": [
      "Sat Oct 28 03:01:57 2023       \r\n",
      "+-----------------------------------------------------------------------------+\r\n",
      "| NVIDIA-SMI 470.161.03   Driver Version: 470.161.03   CUDA Version: 11.4     |\r\n",
      "|-------------------------------+----------------------+----------------------+\r\n",
      "| GPU  Name        Persistence-M| Bus-Id        Disp.A | Volatile Uncorr. ECC |\r\n",
      "| Fan  Temp  Perf  Pwr:Usage/Cap|         Memory-Usage | GPU-Util  Compute M. |\r\n",
      "|                               |                      |               MIG M. |\r\n",
      "|===============================+======================+======================|\r\n",
      "|   0  Tesla T4            Off  | 00000000:00:04.0 Off |                    0 |\r\n",
      "| N/A   37C    P8    11W /  70W |      0MiB / 15109MiB |      0%      Default |\r\n",
      "|                               |                      |                  N/A |\r\n",
      "+-------------------------------+----------------------+----------------------+\r\n",
      "|   1  Tesla T4            Off  | 00000000:00:05.0 Off |                    0 |\r\n",
      "| N/A   38C    P8     9W /  70W |      0MiB / 15109MiB |      0%      Default |\r\n",
      "|                               |                      |                  N/A |\r\n",
      "+-------------------------------+----------------------+----------------------+\r\n",
      "                                                                               \r\n",
      "+-----------------------------------------------------------------------------+\r\n",
      "| Processes:                                                                  |\r\n",
      "|  GPU   GI   CI        PID   Type   Process name                  GPU Memory |\r\n",
      "|        ID   ID                                                   Usage      |\r\n",
      "|=============================================================================|\r\n",
      "|  No running processes found                                                 |\r\n",
      "+-----------------------------------------------------------------------------+\r\n"
     ]
    }
   ],
   "source": [
    "# This command, '!nvidia-smi', is used to display information about the NVIDIA GPU(s) installed on the system. \n",
    "# It provides details such as GPU model, memory usage, temperature, and more. \n",
    "# It's a useful tool for monitoring GPU status and can be helpful for tasks like deep learning training.\n",
    "!nvidia-smi"
   ]
  },
  {
   "cell_type": "markdown",
   "id": "0ce1b7af",
   "metadata": {
    "papermill": {
     "duration": 0.046192,
     "end_time": "2023-10-28T03:01:57.806371",
     "exception": false,
     "start_time": "2023-10-28T03:01:57.760179",
     "status": "completed"
    },
    "tags": []
   },
   "source": [
    "#### **Checking Device**\n",
    "Checking the device (CPU or GPU) is essential for efficient utilization of hardware resources. It allows for faster computation on GPUs, effective memory management, and compatibility with deep learning libraries, ultimately improving performance in machine learning tasks."
   ]
  },
  {
   "cell_type": "code",
   "execution_count": 99,
   "id": "27764388",
   "metadata": {
    "execution": {
     "iopub.execute_input": "2023-10-28T03:01:57.901662Z",
     "iopub.status.busy": "2023-10-28T03:01:57.901324Z",
     "iopub.status.idle": "2023-10-28T03:01:58.000872Z",
     "shell.execute_reply": "2023-10-28T03:01:57.999951Z"
    },
    "id": "oVAOswxgHnnJ",
    "outputId": "d9a1d793-2cb3-4649-a8f2-c2325a9ebb84",
    "papermill": {
     "duration": 0.149258,
     "end_time": "2023-10-28T03:01:58.002852",
     "exception": false,
     "start_time": "2023-10-28T03:01:57.853594",
     "status": "completed"
    },
    "tags": []
   },
   "outputs": [
    {
     "data": {
      "text/plain": [
       "True"
      ]
     },
     "execution_count": 99,
     "metadata": {},
     "output_type": "execute_result"
    }
   ],
   "source": [
    "# Check if a GPU is available for use with PyTorch\n",
    "gpu_available = torch.cuda.is_available()\n",
    "\n",
    "# Print the result (True if GPU is available, False otherwise)\n",
    "gpu_available"
   ]
  },
  {
   "cell_type": "markdown",
   "id": "d0d260c6",
   "metadata": {
    "papermill": {
     "duration": 0.047557,
     "end_time": "2023-10-28T03:01:58.098601",
     "exception": false,
     "start_time": "2023-10-28T03:01:58.051044",
     "status": "completed"
    },
    "tags": []
   },
   "source": [
    "#### **Setting Device**\n",
    "Setting a device in deep learning is the act of specifying whether computations should occur on a CPU or GPU. A \"cpu\" device implies that all operations, including model training and inference, are performed on the Central Processing Unit. In contrast, a \"cuda\" or GPU device offloads computations to the Graphics Processing Unit, which excels at parallel tasks like deep learning. The choice depends on hardware availability, model size, memory requirements, and compatibility with libraries, impacting training speed and resource utilization. It allows developers to optimize deep learning workflows for their specific hardware configuration."
   ]
  },
  {
   "cell_type": "code",
   "execution_count": 100,
   "id": "cb23bd62",
   "metadata": {
    "execution": {
     "iopub.execute_input": "2023-10-28T03:01:58.194913Z",
     "iopub.status.busy": "2023-10-28T03:01:58.194236Z",
     "iopub.status.idle": "2023-10-28T03:01:58.200466Z",
     "shell.execute_reply": "2023-10-28T03:01:58.199595Z"
    },
    "id": "V-PTwT6RHxAJ",
    "outputId": "5b7ff4d0-4778-431f-c3f9-7330f7ec14d2",
    "papermill": {
     "duration": 0.057163,
     "end_time": "2023-10-28T03:01:58.202450",
     "exception": false,
     "start_time": "2023-10-28T03:01:58.145287",
     "status": "completed"
    },
    "tags": []
   },
   "outputs": [
    {
     "data": {
      "text/plain": [
       "'cuda'"
      ]
     },
     "execution_count": 100,
     "metadata": {},
     "output_type": "execute_result"
    }
   ],
   "source": [
    "# Check if a GPU is available, and if so, set the device type to \"cuda\"; otherwise, use \"cpu\"\n",
    "device = \"cuda\" if torch.cuda.is_available() else \"cpu\"\n",
    "\n",
    "# Print the selected device type\n",
    "device"
   ]
  },
  {
   "cell_type": "code",
   "execution_count": 101,
   "id": "ec6d520e",
   "metadata": {
    "execution": {
     "iopub.execute_input": "2023-10-28T03:01:58.302789Z",
     "iopub.status.busy": "2023-10-28T03:01:58.302035Z",
     "iopub.status.idle": "2023-10-28T03:01:58.328017Z",
     "shell.execute_reply": "2023-10-28T03:01:58.327167Z"
    },
    "id": "52I_Y774IL06",
    "outputId": "d114f6c7-4e4e-45e4-dd84-50a4117d59ed",
    "papermill": {
     "duration": 0.078393,
     "end_time": "2023-10-28T03:01:58.330044",
     "exception": false,
     "start_time": "2023-10-28T03:01:58.251651",
     "status": "completed"
    },
    "tags": []
   },
   "outputs": [
    {
     "data": {
      "text/plain": [
       "2"
      ]
     },
     "execution_count": 101,
     "metadata": {},
     "output_type": "execute_result"
    }
   ],
   "source": [
    "# Count the number of devices\n",
    "torch.cuda.device_count()"
   ]
  },
  {
   "cell_type": "markdown",
   "id": "9a8f178c",
   "metadata": {
    "id": "g6XuQu6_IPSb",
    "papermill": {
     "duration": 0.047188,
     "end_time": "2023-10-28T03:01:58.425015",
     "exception": false,
     "start_time": "2023-10-28T03:01:58.377827",
     "status": "completed"
    },
    "tags": []
   },
   "source": [
    "#### **Putting tensors (and models) on the GPU**\n",
    "**Note:** Putting a tensor on GPU using to(device) (e.g. some_tensor.to(device)) returns a copy of that tensor, e.g. the same tensor will be on CPU and GPU. To overwrite tensors, reassign them:\n",
    "\n",
    "some_tensor = some_tensor.to(device)"
   ]
  },
  {
   "cell_type": "code",
   "execution_count": 102,
   "id": "67291a51",
   "metadata": {
    "execution": {
     "iopub.execute_input": "2023-10-28T03:01:58.519640Z",
     "iopub.status.busy": "2023-10-28T03:01:58.519327Z",
     "iopub.status.idle": "2023-10-28T03:02:01.697658Z",
     "shell.execute_reply": "2023-10-28T03:02:01.696732Z"
    },
    "id": "ZMmH3xtGISoZ",
    "outputId": "d7d9e018-55eb-4cbe-cf2e-e63f762050a6",
    "papermill": {
     "duration": 3.228459,
     "end_time": "2023-10-28T03:02:01.699741",
     "exception": false,
     "start_time": "2023-10-28T03:01:58.471282",
     "status": "completed"
    },
    "tags": []
   },
   "outputs": [
    {
     "name": "stdout",
     "output_type": "stream",
     "text": [
      "tensor([1, 2, 3]) cpu\n"
     ]
    },
    {
     "data": {
      "text/plain": [
       "tensor([1, 2, 3], device='cuda:0')"
      ]
     },
     "execution_count": 102,
     "metadata": {},
     "output_type": "execute_result"
    }
   ],
   "source": [
    "# Create tensor (default on CPU)\n",
    "tensor = torch.tensor([1, 2, 3])\n",
    "\n",
    "# Tensor not on GPU\n",
    "print(tensor, tensor.device)\n",
    "\n",
    "# Move tensor to GPU (if available)\n",
    "tensor_on_gpu = tensor.to(device)\n",
    "tensor_on_gpu"
   ]
  },
  {
   "cell_type": "markdown",
   "id": "a906e871",
   "metadata": {
    "id": "sB2B2H3hIjo6",
    "papermill": {
     "duration": 0.04726,
     "end_time": "2023-10-28T03:02:01.795393",
     "exception": false,
     "start_time": "2023-10-28T03:02:01.748133",
     "status": "completed"
    },
    "tags": []
   },
   "source": [
    "#### **Moving tensors back to the CPU**"
   ]
  },
  {
   "cell_type": "markdown",
   "id": "36869755",
   "metadata": {
    "papermill": {
     "duration": 0.047006,
     "end_time": "2023-10-28T03:02:01.888920",
     "exception": false,
     "start_time": "2023-10-28T03:02:01.841914",
     "status": "completed"
    },
    "tags": []
   },
   "source": [
    "**If tensor is on GPU, can't transform it to NumPy (this will error)**\n",
    "\n",
    "- For example, as the tensor tensor_on_gpu is on GPU now, so if we run the given code then it will show the error as follow:\n",
    "\n",
    "> ***tensor_on_gpu.numpy()***"
   ]
  },
  {
   "attachments": {
    "c89d7b36-3878-473c-a255-b540311ae6bb.png": {
     "image/png": "[encoded data removed]"
    }
   },
   "cell_type": "markdown",
   "id": "7d364aca",
   "metadata": {
    "papermill": {
     "duration": 0.046448,
     "end_time": "2023-10-28T03:02:01.982119",
     "exception": false,
     "start_time": "2023-10-28T03:02:01.935671",
     "status": "completed"
    },
    "tags": []
   },
   "source": [
    "![image.png](attachment:c89d7b36-3878-473c-a255-b540311ae6bb.png)"
   ]
  },
  {
   "cell_type": "code",
   "execution_count": 103,
   "id": "f92822c4",
   "metadata": {
    "execution": {
     "iopub.execute_input": "2023-10-28T03:02:02.080933Z",
     "iopub.status.busy": "2023-10-28T03:02:02.079992Z",
     "iopub.status.idle": "2023-10-28T03:02:02.087132Z",
     "shell.execute_reply": "2023-10-28T03:02:02.086227Z"
    },
    "id": "cY20BL-3I1YB",
    "outputId": "cd7edb3e-c0b4-4050-d385-e5217aea31cd",
    "papermill": {
     "duration": 0.059995,
     "end_time": "2023-10-28T03:02:02.089344",
     "exception": false,
     "start_time": "2023-10-28T03:02:02.029349",
     "status": "completed"
    },
    "tags": []
   },
   "outputs": [
    {
     "data": {
      "text/plain": [
       "array([1, 2, 3])"
      ]
     },
     "execution_count": 103,
     "metadata": {},
     "output_type": "execute_result"
    }
   ],
   "source": [
    "# Instead, copy the tensor back to cpu\n",
    "tensor_back_on_cpu = tensor_on_gpu.cpu().numpy()\n",
    "tensor_back_on_cpu"
   ]
  },
  {
   "cell_type": "code",
   "execution_count": 104,
   "id": "de48c649",
   "metadata": {
    "execution": {
     "iopub.execute_input": "2023-10-28T03:02:02.199222Z",
     "iopub.status.busy": "2023-10-28T03:02:02.198612Z",
     "iopub.status.idle": "2023-10-28T03:02:02.206122Z",
     "shell.execute_reply": "2023-10-28T03:02:02.204978Z"
    },
    "id": "xBRSbfS1I4dC",
    "outputId": "761084bb-41d9-4c70-bc0d-2f6df2c4eb66",
    "papermill": {
     "duration": 0.06919,
     "end_time": "2023-10-28T03:02:02.208741",
     "exception": false,
     "start_time": "2023-10-28T03:02:02.139551",
     "status": "completed"
    },
    "tags": []
   },
   "outputs": [
    {
     "data": {
      "text/plain": [
       "tensor([1, 2, 3], device='cuda:0')"
      ]
     },
     "execution_count": 104,
     "metadata": {},
     "output_type": "execute_result"
    }
   ],
   "source": [
    "tensor_on_gpu"
   ]
  },
  {
   "cell_type": "markdown",
   "id": "83c742f7",
   "metadata": {
    "papermill": {
     "duration": 0.060604,
     "end_time": "2023-10-28T03:02:02.325165",
     "exception": false,
     "start_time": "2023-10-28T03:02:02.264561",
     "status": "completed"
    },
    "tags": []
   },
   "source": [
    "## **Closing Thoughts**\n",
    "In this comprehensive guide, we've explored the fundamental concepts of PyTorch, a powerful deep learning framework, and its practical applications. We started by introducing PyTorch and its essential libraries, followed by a hands-on journey through tensors, their operations, and various tensor types. We discussed GPU utilization for faster computations and how to ensure reproducibility in your experiments. Whether you're a beginner in deep learning or an experienced practitioner, this guide serves as a valuable resource for harnessing the capabilities of PyTorch in your machine learning projects. With its flexibility, performance optimization, and rich ecosystem, PyTorch continues to be a driving force in the world of deep learning. Now armed with this knowledge, you're well-equipped to dive deeper into PyTorch and explore its vast potential in your data science endeavors.\n",
    "\n",
    "**Please feel free to ask in the comment section if you have any confusion or questions.**"
   ]
  },
  {
   "cell_type": "markdown",
   "id": "dd433676",
   "metadata": {
    "papermill": {
     "duration": 0.054522,
     "end_time": "2023-10-28T03:02:02.430541",
     "exception": false,
     "start_time": "2023-10-28T03:02:02.376019",
     "status": "completed"
    },
    "tags": []
   },
   "source": [
    "#### Here are some of the contributions I've made on Kaggle:\n",
    "\n",
    "- **[Comprehensive Guide on NumPy for Beginners](https://www.kaggle.com/code/tanvirnwu/comprehensive-guide-on-numpy-for-beginners#Learn-More)**\n",
    "- **[Comprehensive Guide on NumPy for Beginners](https://www.kaggle.com/code/tanvirnwu/boolean-in-python-with-example-and-explanation)**\n",
    "- **[Dictionary in Python with Examples & Explanations](https://www.kaggle.com/code/tanvirnwu/dictionary-in-python-with-examples-explanations)**\n",
    "- **[List in Python for Beginners](https://www.kaggle.com/code/tanvirnwu/list-in-python-for-beginners)**\n",
    "- **[A Brief Introduction of Graph Neural Network (GNN): Concepts, Types, and Uses](https://www.kaggle.com/discussions/general/449125#2493256)**\n",
    "- **[Essential Python Libraries for Data Visualization](https://www.kaggle.com/discussions/getting-started/450857)**"
   ]
  },
  {
   "cell_type": "markdown",
   "id": "affbee14",
   "metadata": {
    "papermill": {
     "duration": 0.047442,
     "end_time": "2023-10-28T03:02:02.526012",
     "exception": false,
     "start_time": "2023-10-28T03:02:02.478570",
     "status": "completed"
    },
    "tags": []
   },
   "source": [
    "### **Please Inspire me by your Upvotes, Comment & Follow. Thanks!**"
   ]
  }
 ],
 "metadata": {
  "kernelspec": {
   "display_name": "Python 3",
   "language": "python",
   "name": "python3"
  },
  "language_info": {
   "codemirror_mode": {
    "name": "ipython",
    "version": 3
   },
   "file_extension": ".py",
   "mimetype": "text/x-python",
   "name": "python",
   "nbconvert_exporter": "python",
   "pygments_lexer": "ipython3",
   "version": "3.10.12"
  },
  "papermill": {
   "default_parameters": {},
   "duration": 29.877621,
   "end_time": "2023-10-28T03:02:04.936280",
   "environment_variables": {},
   "exception": null,
   "input_path": "__notebook__.ipynb",
   "output_path": "__notebook__.ipynb",
   "parameters": {},
   "start_time": "2023-10-28T03:01:35.058659",
   "version": "2.4.0"
  }
 },
 "nbformat": 4,
 "nbformat_minor": 5
}
