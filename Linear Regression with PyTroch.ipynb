{
 "cells": [
  {
   "cell_type": "code",
   "execution_count": 29,
   "id": "c89e8d4e",
   "metadata": {},
   "outputs": [],
   "source": [
    "import torch\n",
    "import torch.nn as nn\n",
    "import numpy as np\n",
    "from sklearn.datasets import make_regression\n",
    "import matplotlib.pyplot as plt\n",
    "\n",
    "import warnings as wr\n",
    "wr.filterwarnings('ignore')"
   ]
  },
  {
   "cell_type": "code",
   "execution_count": 30,
   "id": "04ffbe96",
   "metadata": {},
   "outputs": [],
   "source": [
    "# Creating a dataset\n",
    "X_numpy, y_numpy = make_regression(n_samples=100, n_features=1, noise=20, random_state=1)"
   ]
  },
  {
   "cell_type": "code",
   "execution_count": 31,
   "id": "5db98df2",
   "metadata": {},
   "outputs": [],
   "source": [
    "# Training set as Tensor\n",
    "X = torch.from_numpy(X_numpy.astype(np.float32))\n",
    "# Target set as Tensor\n",
    "y = torch.from_numpy(y_numpy.astype(np.float32))"
   ]
  },
  {
   "cell_type": "code",
   "execution_count": 32,
   "id": "945452bd",
   "metadata": {},
   "outputs": [],
   "source": [
    "# Reshaping the Tensor y\n",
    "y = y.view(y.shape[0], 1)"
   ]
  },
  {
   "cell_type": "code",
   "execution_count": 34,
   "id": "76a1d92c",
   "metadata": {},
   "outputs": [
    {
     "data": {
      "text/plain": [
       "(torch.float32, torch.float32)"
      ]
     },
     "execution_count": 34,
     "metadata": {},
     "output_type": "execute_result"
    }
   ],
   "source": [
    "y.dtype, X.dtype"
   ]
  },
  {
   "cell_type": "code",
   "execution_count": 5,
   "id": "6f8eb79d",
   "metadata": {},
   "outputs": [],
   "source": [
    "# Sample size and the nnumber of features\n",
    "n_samples, n_features = X.shape"
   ]
  },
  {
   "cell_type": "code",
   "execution_count": 6,
   "id": "27b9611d",
   "metadata": {},
   "outputs": [],
   "source": [
    "input_size = n_features\n",
    "output_size = 1 # Target varible/feature size\n",
    "\n",
    "# creates an instance of the nn.Linea which is nothing but Linear Regression\n",
    "model = nn.Linear(input_size, output_size) "
   ]
  },
  {
   "cell_type": "code",
   "execution_count": 7,
   "id": "dc5103a3",
   "metadata": {},
   "outputs": [],
   "source": [
    "# Setting learning rate (alpha) \n",
    "learning_rate = 0.01\n",
    "\n",
    "# Loss function as MSE for regression task\n",
    "criterion = nn.MSELoss()\n",
    "\n",
    "# creates an instance of the stochastic gradient descent (SGD) optimizer\n",
    "optimizer = torch.optim.SGD(model.parameters(), lr=learning_rate)  "
   ]
  },
  {
   "cell_type": "code",
   "execution_count": 8,
   "id": "5a3e5b82",
   "metadata": {},
   "outputs": [
    {
     "name": "stdout",
     "output_type": "stream",
     "text": [
      "epoch: 10, loss = 4360.5356\n",
      "epoch: 20, loss = 3255.1062\n",
      "epoch: 30, loss = 2454.8708\n",
      "epoch: 40, loss = 1874.9723\n",
      "epoch: 50, loss = 1454.3417\n",
      "epoch: 60, loss = 1148.9679\n",
      "epoch: 70, loss = 927.0892\n",
      "epoch: 80, loss = 765.7556\n",
      "epoch: 90, loss = 648.3654\n",
      "epoch: 100, loss = 562.8956\n"
     ]
    },
    {
     "data": {
      "image/png": "[encoded data removed]",
      "text/plain": [
       "<Figure size 640x480 with 1 Axes>"
      ]
     },
     "metadata": {},
     "output_type": "display_data"
    }
   ],
   "source": [
    "n_iters = 100\n",
    "for epoch in range(n_iters):\n",
    "    \n",
    "    # Forward pass \n",
    "    y_pred = model(X)\n",
    "    \n",
    "    # Loss calculation\n",
    "    loss = criterion(y_pred, y)\n",
    "    \n",
    "    # Backward pass and updating the weights\n",
    "    loss.backward()\n",
    "    optimizer.step()\n",
    "\n",
    "    # Making the optimizer zero gradient before new step\n",
    "    optimizer.zero_grad()\n",
    "\n",
    "    if (epoch+1) % 10 == 0:\n",
    "        print(f'epoch: {epoch+1}, loss = {loss.item():.4f}')\n",
    "\n",
    "# Plot\n",
    "predicted = model(X).detach().numpy()\n",
    "\n",
    "plt.plot(X_numpy, y_numpy, 'g*')\n",
    "plt.plot(X_numpy, predicted, 'r')\n",
    "plt.title('Best Fit Line of Our Model')\n",
    "plt.xlabel('X_numpy')\n",
    "plt.ylabel('y_numpy')\n",
    "plt.show()"
   ]
  },
  {
   "cell_type": "code",
   "execution_count": 9,
   "id": "1e010002",
   "metadata": {},
   "outputs": [
    {
     "data": {
      "text/plain": [
       "tensor([70.8819], grad_fn=<AddBackward0>)"
      ]
     },
     "execution_count": 9,
     "metadata": {},
     "output_type": "execute_result"
    }
   ],
   "source": [
    "X_test = torch.tensor([1], dtype=torch.float32)  # Convert to Float data type\n",
    "yy = model(X_test)\n",
    "yy"
   ]
  },
  {
   "cell_type": "markdown",
   "id": "c78e1269",
   "metadata": {},
   "source": [
    "## Try with another dataset"
   ]
  },
  {
   "cell_type": "code",
   "execution_count": 37,
   "id": "ecb1b96a",
   "metadata": {},
   "outputs": [
    {
     "data": {
      "text/html": [
       "<div>\n",
       "<style scoped>\n",
       "    .dataframe tbody tr th:only-of-type {\n",
       "        vertical-align: middle;\n",
       "    }\n",
       "\n",
       "    .dataframe tbody tr th {\n",
       "        vertical-align: top;\n",
       "    }\n",
       "\n",
       "    .dataframe thead th {\n",
       "        text-align: right;\n",
       "    }\n",
       "</style>\n",
       "<table border=\"1\" class=\"dataframe\">\n",
       "  <thead>\n",
       "    <tr style=\"text-align: right;\">\n",
       "      <th></th>\n",
       "      <th>area</th>\n",
       "      <th>rent</th>\n",
       "    </tr>\n",
       "  </thead>\n",
       "  <tbody>\n",
       "    <tr>\n",
       "      <th>0</th>\n",
       "      <td>2000</td>\n",
       "      <td>31500</td>\n",
       "    </tr>\n",
       "    <tr>\n",
       "      <th>1</th>\n",
       "      <td>2100</td>\n",
       "      <td>35000</td>\n",
       "    </tr>\n",
       "    <tr>\n",
       "      <th>2</th>\n",
       "      <td>2500</td>\n",
       "      <td>41050</td>\n",
       "    </tr>\n",
       "    <tr>\n",
       "      <th>3</th>\n",
       "      <td>2250</td>\n",
       "      <td>36100</td>\n",
       "    </tr>\n",
       "    <tr>\n",
       "      <th>4</th>\n",
       "      <td>3000</td>\n",
       "      <td>52100</td>\n",
       "    </tr>\n",
       "  </tbody>\n",
       "</table>\n",
       "</div>"
      ],
      "text/plain": [
       "   area   rent\n",
       "0  2000  31500\n",
       "1  2100  35000\n",
       "2  2500  41050\n",
       "3  2250  36100\n",
       "4  3000  52100"
      ]
     },
     "execution_count": 37,
     "metadata": {},
     "output_type": "execute_result"
    }
   ],
   "source": [
    "import pandas as pd\n",
    "\n",
    "#Importing the Dataset\n",
    "df = pd.read_csv(\"data/Rent.csv\", sep=';')\n",
    "df.head() "
   ]
  },
  {
   "cell_type": "code",
   "execution_count": 38,
   "id": "ec33e618",
   "metadata": {},
   "outputs": [
    {
     "data": {
      "text/plain": [
       "(60, 2)"
      ]
     },
     "execution_count": 38,
     "metadata": {},
     "output_type": "execute_result"
    }
   ],
   "source": [
    "df.shape"
   ]
  },
  {
   "cell_type": "code",
   "execution_count": 39,
   "id": "1cb902ac",
   "metadata": {
    "scrolled": true
   },
   "outputs": [],
   "source": [
    "X = df.drop('rent', axis =1)\n",
    "y = df[['rent']]\n",
    "\n",
    "\n",
    "from sklearn.preprocessing import StandardScaler\n",
    "\n",
    "scaler = StandardScaler()\n",
    "X = scaler.fit_transform(X)\n",
    "y = scaler.fit_transform(y)\n",
    "\n",
    "# Convert DataFrame columns to NumPy arrays\n",
    "X = torch.from_numpy(X.astype(np.float32))\n",
    "y = torch.from_numpy(y.astype(np.float32))"
   ]
  },
  {
   "cell_type": "code",
   "execution_count": 41,
   "id": "f4d28a1e",
   "metadata": {
    "scrolled": true
   },
   "outputs": [],
   "source": [
    "# Reshaping the Tensor y\n",
    "y = y.view(y.shape[0], 1)"
   ]
  },
  {
   "cell_type": "code",
   "execution_count": 42,
   "id": "928f8b94",
   "metadata": {},
   "outputs": [],
   "source": [
    "# Sample size and the nnumber of features\n",
    "n_samples, n_features = X.shape"
   ]
  },
  {
   "cell_type": "code",
   "execution_count": 43,
   "id": "0b3c6779",
   "metadata": {},
   "outputs": [],
   "source": [
    "input_size = n_features # As we have only one feature varible\n",
    "output_size = 1 \n",
    "\n",
    "# Creates an instance of the nn.Linea which is nothing but Linear Regression\n",
    "model2 = nn.Linear(input_size, output_size) "
   ]
  },
  {
   "cell_type": "code",
   "execution_count": 44,
   "id": "ad320286",
   "metadata": {},
   "outputs": [],
   "source": [
    "# Setting learning rate (alpha) \n",
    "learning_rate = 0.01\n",
    "\n",
    "# Loss function as MSE for regression task\n",
    "criterion = nn.MSELoss()\n",
    "\n",
    "# creates an instance of the stochastic gradient descent (SGD) optimizer\n",
    "optimizer = torch.optim.SGD(model2.parameters(), lr = learning_rate)  "
   ]
  },
  {
   "cell_type": "code",
   "execution_count": 46,
   "id": "089f36ce",
   "metadata": {},
   "outputs": [
    {
     "name": "stdout",
     "output_type": "stream",
     "text": [
      "epoch: 10, loss = 0.0816\n",
      "epoch: 20, loss = 0.0710\n",
      "epoch: 30, loss = 0.0640\n",
      "epoch: 40, loss = 0.0592\n",
      "epoch: 50, loss = 0.0561\n",
      "epoch: 60, loss = 0.0540\n",
      "epoch: 70, loss = 0.0526\n",
      "epoch: 80, loss = 0.0516\n",
      "epoch: 90, loss = 0.0510\n",
      "epoch: 100, loss = 0.0506\n"
     ]
    },
    {
     "data": {
      "image/png": "[encoded data removed]",
      "text/plain": [
       "<Figure size 640x480 with 1 Axes>"
      ]
     },
     "metadata": {},
     "output_type": "display_data"
    }
   ],
   "source": [
    "n_iters = 100\n",
    "for epoch in range(n_iters):\n",
    "    \n",
    "    # Forward pass\n",
    "    y_pred = model2(X)\n",
    "    \n",
    "    # Loss calculation\n",
    "    loss = criterion (y_pred, y)\n",
    "    \n",
    "    # Backward pass and updating the weights\n",
    "    loss.backward()\n",
    "    optimizer.step()\n",
    "\n",
    "    # Making the optimizer zero gradient before new step\n",
    "    optimizer.zero_grad()\n",
    "\n",
    "    if (epoch+1) % 10 == 0:\n",
    "        print(f'epoch: {epoch+1}, loss = {loss.item():.4f}')\n",
    "\n",
    "# Plot\n",
    "predicted = model2(X).detach().numpy()\n",
    "\n",
    "plt.plot(X, y, 'g*')\n",
    "plt.plot(X, predicted, 'r')\n",
    "plt.title('Best Fit Line of Our Model')\n",
    "plt.xlabel('Area')\n",
    "plt.ylabel('Rent')\n",
    "plt.show()"
   ]
  },
  {
   "cell_type": "code",
   "execution_count": null,
   "id": "d0db3eb3",
   "metadata": {},
   "outputs": [],
   "source": []
  }
 ],
 "metadata": {
  "kernelspec": {
   "display_name": "Python 3 (ipykernel)",
   "language": "python",
   "name": "python3"
  },
  "language_info": {
   "codemirror_mode": {
    "name": "ipython",
    "version": 3
   },
   "file_extension": ".py",
   "mimetype": "text/x-python",
   "name": "python",
   "nbconvert_exporter": "python",
   "pygments_lexer": "ipython3",
   "version": "3.10.9"
  }
 },
 "nbformat": 4,
 "nbformat_minor": 5
}
