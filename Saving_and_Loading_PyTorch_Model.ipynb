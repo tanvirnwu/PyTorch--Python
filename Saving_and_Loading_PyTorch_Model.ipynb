{
  "nbformat": 4,
  "nbformat_minor": 0,
  "metadata": {
    "colab": {
      "provenance": [],
      "gpuType": "T4",
      "authorship_tag": "ABX9TyOwbgxIU6nGMIISwnTSfxGG",
      "include_colab_link": true
    },
    "kernelspec": {
      "name": "python3",
      "display_name": "Python 3"
    },
    "language_info": {
      "name": "python"
    },
    "accelerator": "GPU"
  },
  "cells": [
    {
      "cell_type": "markdown",
      "metadata": {
        "id": "view-in-github",
        "colab_type": "text"
      },
      "source": [
        "<a href=\"https://colab.research.google.com/github/tanvirnwu/PyTorch--Python/blob/main/Saving_and_Loading_PyTorch_Model.ipynb\" target=\"_parent\"><img src=\"https://colab.research.google.com/assets/colab-badge.svg\" alt=\"Open In Colab\"/></a>"
      ]
    },
    {
      "cell_type": "code",
      "execution_count": 9,
      "metadata": {
        "colab": {
          "base_uri": "https://localhost:8080/"
        },
        "id": "AQnv8b6kgHp4",
        "outputId": "7ff2dbd1-e92e-4cca-c703-16d6977d1354"
      },
      "outputs": [
        {
          "output_type": "stream",
          "name": "stdout",
          "text": [
            "Collecting torch_summary\n",
            "  Downloading torch_summary-1.4.5-py3-none-any.whl (16 kB)\n",
            "Installing collected packages: torch_summary\n",
            "Successfully installed torch_summary-1.4.5\n"
          ]
        }
      ],
      "source": [
        "import torch\n",
        "import torch.nn as nn\n",
        "import numpy as np\n",
        "from torch.utils.data import Dataset, DataLoader\n",
        "!pip install torch_summary\n",
        "from torchsummary import summary\n",
        "from torch.optim import SGD\n",
        "import time"
      ]
    },
    {
      "cell_type": "code",
      "source": [
        "device = \"cuda\" if torch.cuda.is_available() else \"cpu\"\n",
        "device"
      ],
      "metadata": {
        "colab": {
          "base_uri": "https://localhost:8080/",
          "height": 36
        },
        "id": "DJrNjw1cgYpR",
        "outputId": "68141381-e66e-48c8-aa75-9a39a811c8de"
      },
      "execution_count": 2,
      "outputs": [
        {
          "output_type": "execute_result",
          "data": {
            "text/plain": [
              "'cuda'"
            ],
            "application/vnd.google.colaboratory.intrinsic+json": {
              "type": "string"
            }
          },
          "metadata": {},
          "execution_count": 2
        }
      ]
    },
    {
      "cell_type": "code",
      "source": [
        "class DataProcessing (Dataset):\n",
        "    def __init__(self, X, y):\n",
        "        self.X = torch.tensor(X).float().to(device)\n",
        "        self.y = torch.tensor(y).float().to(device)\n",
        "\n",
        "    def __getitem__(self, index):\n",
        "        return self.X[index], self.y[index]\n",
        "\n",
        "    def __len__(self):\n",
        "        return len(self.X)"
      ],
      "metadata": {
        "id": "L-xG01ABgcA_"
      },
      "execution_count": 6,
      "outputs": []
    },
    {
      "cell_type": "code",
      "source": [
        "X = np.random.randint(0, 10, size=(10, 2))\n",
        "\n",
        "# Calculate the row-wise sum along axis=1\n",
        "row_sums = np.sum(X, axis=1)\n",
        "\n",
        "# Reshape the row_sums array to have a column shape\n",
        "y = row_sums.reshape(-1, 1)\n",
        "X, y"
      ],
      "metadata": {
        "colab": {
          "base_uri": "https://localhost:8080/"
        },
        "id": "NY5zvyk1gf9K",
        "outputId": "742e34bd-9691-4806-c0fb-737150dd378a"
      },
      "execution_count": 4,
      "outputs": [
        {
          "output_type": "execute_result",
          "data": {
            "text/plain": [
              "(array([[2, 5],\n",
              "        [9, 0],\n",
              "        [6, 5],\n",
              "        [3, 5],\n",
              "        [2, 5],\n",
              "        [8, 3],\n",
              "        [9, 9],\n",
              "        [3, 0],\n",
              "        [5, 9],\n",
              "        [3, 0]]),\n",
              " array([[ 7],\n",
              "        [ 9],\n",
              "        [11],\n",
              "        [ 8],\n",
              "        [ 7],\n",
              "        [11],\n",
              "        [18],\n",
              "        [ 3],\n",
              "        [14],\n",
              "        [ 3]]))"
            ]
          },
          "metadata": {},
          "execution_count": 4
        }
      ]
    },
    {
      "cell_type": "code",
      "source": [
        "# Create an object of the DataProcessing class\n",
        "dp = DataProcessing (X, y)\n",
        "dp[1], dp[0]"
      ],
      "metadata": {
        "colab": {
          "base_uri": "https://localhost:8080/"
        },
        "id": "2cFiaDYigsKr",
        "outputId": "a694f46b-a7ef-419e-c052-b43b5eb54071"
      },
      "execution_count": 7,
      "outputs": [
        {
          "output_type": "execute_result",
          "data": {
            "text/plain": [
              "((tensor([9., 0.], device='cuda:0'), tensor([9.], device='cuda:0')),\n",
              " (tensor([2., 5.], device='cuda:0'), tensor([7.], device='cuda:0')))"
            ]
          },
          "metadata": {},
          "execution_count": 7
        }
      ]
    },
    {
      "cell_type": "code",
      "source": [
        "dloader = DataLoader(dp, batch_size=2, shuffle=True)"
      ],
      "metadata": {
        "id": "_A0SZJhygvnf"
      },
      "execution_count": 8,
      "outputs": []
    },
    {
      "cell_type": "markdown",
      "source": [
        "Creating a Sequential Model"
      ],
      "metadata": {
        "id": "RRMPYoYag9eL"
      }
    },
    {
      "cell_type": "code",
      "source": [
        "model = nn.Sequential(\n",
        "        nn.Linear(2, 6),\n",
        "        nn.ReLU(),\n",
        "        nn.Linear(6, 1)\n",
        "        ).to(device)\n",
        ""
      ],
      "metadata": {
        "id": "RGyuc4DEg84m"
      },
      "execution_count": 10,
      "outputs": []
    },
    {
      "cell_type": "code",
      "source": [
        "summary(model, torch.zeros(1,2));"
      ],
      "metadata": {
        "colab": {
          "base_uri": "https://localhost:8080/"
        },
        "id": "oLeaDMmOg0Q1",
        "outputId": "d72c02a1-1a2e-467c-9d44-9af6d3ee612f"
      },
      "execution_count": 11,
      "outputs": [
        {
          "output_type": "stream",
          "name": "stdout",
          "text": [
            "==========================================================================================\n",
            "Layer (type:depth-idx)                   Output Shape              Param #\n",
            "==========================================================================================\n",
            "├─Linear: 1-1                            [-1, 6]                   18\n",
            "├─ReLU: 1-2                              [-1, 6]                   --\n",
            "├─Linear: 1-3                            [-1, 1]                   7\n",
            "==========================================================================================\n",
            "Total params: 25\n",
            "Trainable params: 25\n",
            "Non-trainable params: 0\n",
            "Total mult-adds (M): 0.00\n",
            "==========================================================================================\n",
            "Input size (MB): 0.00\n",
            "Forward/backward pass size (MB): 0.00\n",
            "Params size (MB): 0.00\n",
            "Estimated Total Size (MB): 0.00\n",
            "==========================================================================================\n"
          ]
        }
      ]
    },
    {
      "cell_type": "code",
      "source": [
        "#Define a loss function and optimizer\n",
        "loss_func = nn.MSELoss()\n",
        "optimizer = SGD(model.parameters(), lr = 0.001)"
      ],
      "metadata": {
        "id": "dVpkrQb7hCBY"
      },
      "execution_count": 12,
      "outputs": []
    },
    {
      "cell_type": "code",
      "source": [
        "loss_history = []\n",
        "start = time.time()\n",
        "\n",
        "for xx in range(50):\n",
        "  for X, y in dloader:\n",
        "    optimizer.zero_grad()\n",
        "    y_pred = model(X)\n",
        "    loss_value = loss_func(y_pred, y)\n",
        "    loss_value.backward()\n",
        "    optimizer.step()\n",
        "    loss_history.append(loss_value)\n",
        "\n",
        "end = time.time()\n",
        "print(f\"Total Training Time = {end-start}\")"
      ],
      "metadata": {
        "colab": {
          "base_uri": "https://localhost:8080/"
        },
        "id": "jVl1YtxAhF_C",
        "outputId": "265c6f91-c8c1-4a86-ed52-ce57d61ec54a"
      },
      "execution_count": 13,
      "outputs": [
        {
          "output_type": "stream",
          "name": "stdout",
          "text": [
            "Total Training Time = 0.3030283451080322\n"
          ]
        }
      ]
    },
    {
      "cell_type": "markdown",
      "source": [
        "### Saving Model"
      ],
      "metadata": {
        "id": "beaAwW5BhKbv"
      }
    },
    {
      "cell_type": "code",
      "source": [
        "save_path = \"mymodel.pth\"\n",
        "torch.save(model.state_dict(), save_path)\n",
        "!du -hsc {save_path} #Size of the model on disk"
      ],
      "metadata": {
        "colab": {
          "base_uri": "https://localhost:8080/"
        },
        "id": "Mdj68TULhHrf",
        "outputId": "4a4ac8ab-abc1-4ccf-e237-3685b630fe6c"
      },
      "execution_count": 14,
      "outputs": [
        {
          "output_type": "stream",
          "name": "stdout",
          "text": [
            "4.0K\tmymodel.pth\n",
            "4.0K\ttotal\n"
          ]
        }
      ]
    },
    {
      "cell_type": "markdown",
      "source": [
        "###Loading Model"
      ],
      "metadata": {
        "id": "nfXZEV00ho4Q"
      }
    },
    {
      "cell_type": "code",
      "source": [
        "load_path = \"mymodel.pth\"\n",
        "model.load_state_dict(torch.load(load_path))"
      ],
      "metadata": {
        "colab": {
          "base_uri": "https://localhost:8080/"
        },
        "id": "vZ-VVIfshi7R",
        "outputId": "0920d4fc-0cff-4818-8bbf-fdff8e7e199c"
      },
      "execution_count": 15,
      "outputs": [
        {
          "output_type": "execute_result",
          "data": {
            "text/plain": [
              "<All keys matched successfully>"
            ]
          },
          "metadata": {},
          "execution_count": 15
        }
      ]
    },
    {
      "cell_type": "markdown",
      "source": [
        "### Prediction Using the Loaded Model"
      ],
      "metadata": {
        "id": "XRn507krh6Y6"
      }
    },
    {
      "cell_type": "code",
      "source": [
        "X_test = np.random.randint(0, 10, size=(10, 2))\n",
        "row_sums = np.sum(X_test, axis=1)\n",
        "\n",
        "y_test = row_sums.reshape(-1, 1)\n",
        "X_test = torch.tensor(X_test).float().to(device)\n",
        "y_test = torch.tensor(y_test).float().to(device)\n",
        "X_test, y_test"
      ],
      "metadata": {
        "colab": {
          "base_uri": "https://localhost:8080/"
        },
        "id": "aKS_bMzYh3GX",
        "outputId": "dbf2cfb3-0b47-43ee-dc79-bc766f92b865"
      },
      "execution_count": 17,
      "outputs": [
        {
          "output_type": "execute_result",
          "data": {
            "text/plain": [
              "(tensor([[6., 8.],\n",
              "         [2., 6.],\n",
              "         [1., 5.],\n",
              "         [7., 1.],\n",
              "         [6., 5.],\n",
              "         [5., 2.],\n",
              "         [3., 4.],\n",
              "         [6., 4.],\n",
              "         [7., 4.],\n",
              "         [6., 5.]], device='cuda:0'),\n",
              " tensor([[14.],\n",
              "         [ 8.],\n",
              "         [ 6.],\n",
              "         [ 8.],\n",
              "         [11.],\n",
              "         [ 7.],\n",
              "         [ 7.],\n",
              "         [10.],\n",
              "         [11.],\n",
              "         [11.]], device='cuda:0'))"
            ]
          },
          "metadata": {},
          "execution_count": 17
        }
      ]
    },
    {
      "cell_type": "code",
      "source": [
        "y_test_pred = model(X_test)\n",
        "y_test_pred = y_test_pred.round().to(dtype=torch.int)\n",
        "y_test_pred"
      ],
      "metadata": {
        "colab": {
          "base_uri": "https://localhost:8080/"
        },
        "id": "tZzRLgkKiESf",
        "outputId": "18c0eead-c6d4-4b01-ec6e-00cc8ebb18a0"
      },
      "execution_count": 18,
      "outputs": [
        {
          "output_type": "execute_result",
          "data": {
            "text/plain": [
              "tensor([[14],\n",
              "        [ 8],\n",
              "        [ 6],\n",
              "        [ 8],\n",
              "        [11],\n",
              "        [ 7],\n",
              "        [ 7],\n",
              "        [10],\n",
              "        [11],\n",
              "        [11]], device='cuda:0', dtype=torch.int32)"
            ]
          },
          "metadata": {},
          "execution_count": 18
        }
      ]
    },
    {
      "cell_type": "markdown",
      "source": [
        "### Accuracy"
      ],
      "metadata": {
        "id": "vJaaat8miN7m"
      }
    },
    {
      "cell_type": "code",
      "source": [
        "def calculate_accuracy(predicted_labels, true_labels):\n",
        "    # Convert predicted and true labels to numpy arrays if they are tensors\n",
        "    if torch.is_tensor(predicted_labels):\n",
        "        predicted_labels = predicted_labels.cpu().numpy()\n",
        "    if torch.is_tensor(true_labels):\n",
        "        true_labels = true_labels.cpu().numpy()\n",
        "\n",
        "    # Calculate accuracy\n",
        "    num_correct = (predicted_labels == true_labels).sum()\n",
        "    total_samples = len(true_labels)\n",
        "    accuracy = num_correct / total_samples\n",
        "\n",
        "    return accuracy"
      ],
      "metadata": {
        "id": "sjgGME_2iJag"
      },
      "execution_count": 19,
      "outputs": []
    },
    {
      "cell_type": "code",
      "source": [
        "accuracy = calculate_accuracy(y_test_pred, y_test)\n",
        "print(f\"Accuracy: {accuracy*100}%\")"
      ],
      "metadata": {
        "colab": {
          "base_uri": "https://localhost:8080/"
        },
        "id": "F1a0JZ74iQmi",
        "outputId": "cccfe2ac-0d5b-402e-8788-5b2775bcc0e3"
      },
      "execution_count": 20,
      "outputs": [
        {
          "output_type": "stream",
          "name": "stdout",
          "text": [
            "Accuracy: 100.0%\n"
          ]
        }
      ]
    }
  ]
}