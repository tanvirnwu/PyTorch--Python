{
 "cells": [
  {
   "cell_type": "code",
   "execution_count": 6,
   "id": "22bc5b27",
   "metadata": {},
   "outputs": [],
   "source": [
    "import os\n",
    "import numpy as np\n",
    "from PIL import Image\n",
    "import torch\n",
    "import torchvision.transforms as transforms\n",
    "import torchvision.transforms.functional as F\n",
    "\n",
    "# Define the paths for input and output folders\n",
    "input_folder = 'C:\\\\Users\\\\tanvi\\\\OneDrive\\\\Desktop\\\\New folder\\\\Papers\\\\Image Dehazing\\\\Datasets\\\\HD DATASET\\\\Sample1'\n",
    "output_folder = 'C:\\\\Users\\\\tanvi\\\\OneDrive\\\\Desktop\\\\New folder\\\\Papers\\\\Image Dehazing\\\\Datasets\\\\HD DATASET\\\\Sample2'\n",
    "\n",
    "\n",
    "# Define the raindrop parameters\n",
    "rain_intensity = 0.2\n",
    "rain_length = 20\n",
    "rain_thickness = 1\n",
    "\n",
    "# Define the torchvision transforms\n",
    "transform = transforms.Compose([\n",
    "    transforms.ToTensor()\n",
    "])\n",
    "\n",
    "# Load images from the input folder\n",
    "image_filenames = [f for f in os.listdir(input_folder) if f.endswith('.jpg') or f.endswith('.png')]\n",
    "\n",
    "# Loop through each image and add raindrops\n",
    "for image_filename in image_filenames:\n",
    "    image_path = os.path.join(input_folder, image_filename)\n",
    "    output_path = os.path.join(output_folder, image_filename)\n",
    "    \n",
    "    # Load the image using PIL\n",
    "    img = Image.open(image_path)\n",
    "    \n",
    "    # Convert the PIL image to a PyTorch tensor\n",
    "    img_tensor = transform(img).unsqueeze(0)\n",
    "    \n",
    "    # Generate random raindrop positions and orientations\n",
    "    h, w = img_tensor.size(2), img_tensor.size(3)\n",
    "    num_raindrops = int(h * w * rain_intensity)\n",
    "    rain_positions = torch.rand((num_raindrops, 2)) * torch.tensor([h, w])\n",
    "    rain_orientations = torch.rand((num_raindrops)) * 2 * np.pi\n",
    "    \n",
    "    # Create the raindrop mask\n",
    "    rain_mask = torch.zeros((1, 1, h, w))\n",
    "    for i in range(num_raindrops):\n",
    "        x, y = rain_positions[i]\n",
    "        theta = rain_orientations[i]\n",
    "        x_end = x + rain_length * np.cos(theta)\n",
    "        y_end = y + rain_length * np.sin(theta)\n",
    "        rain_mask[:, :, int(x):int(x_end), int(y):int(y_end)] = rain_thickness\n",
    "    \n",
    "    # Apply the raindrop mask to the image tensor\n",
    "    img_tensor_with_rain = img_tensor + rain_mask\n",
    "    \n",
    "    # Clip values to [0, 1]\n",
    "    img_tensor_with_rain = torch.clamp(img_tensor_with_rain, 0, 1)\n",
    "    \n",
    "    # Convert back to PIL image\n",
    "    img_with_rain = transforms.ToPILImage()(img_tensor_with_rain.squeeze(0))\n",
    "    \n",
    "    # Save the augmented image to the output folder\n",
    "    img_with_rain.save(output_path)\n"
   ]
  },
  {
   "cell_type": "code",
   "execution_count": 5,
   "id": "96059906",
   "metadata": {},
   "outputs": [
    {
     "data": {
      "text/plain": [
       "4"
      ]
     },
     "execution_count": 5,
     "metadata": {},
     "output_type": "execute_result"
    }
   ],
   "source": [
    "2+2"
   ]
  },
  {
   "cell_type": "code",
   "execution_count": null,
   "id": "d0b0395d",
   "metadata": {},
   "outputs": [],
   "source": []
  }
 ],
 "metadata": {
  "kernelspec": {
   "display_name": "Python 3 (ipykernel)",
   "language": "python",
   "name": "python3"
  },
  "language_info": {
   "codemirror_mode": {
    "name": "ipython",
    "version": 3
   },
   "file_extension": ".py",
   "mimetype": "text/x-python",
   "name": "python",
   "nbconvert_exporter": "python",
   "pygments_lexer": "ipython3",
   "version": "3.10.9"
  }
 },
 "nbformat": 4,
 "nbformat_minor": 5
}
