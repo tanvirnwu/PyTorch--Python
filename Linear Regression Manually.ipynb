{
 "cells": [
  {
   "cell_type": "code",
   "execution_count": 1,
   "id": "d1131ca4",
   "metadata": {},
   "outputs": [],
   "source": [
    "import torch\n",
    "import torch.nn as nn\n",
    "import matplotlib.pyplot as plt"
   ]
  },
  {
   "cell_type": "code",
   "execution_count": 2,
   "id": "3017f8cf",
   "metadata": {},
   "outputs": [],
   "source": [
    "# Creating the inputer and Target sets\n",
    "X = torch.tensor([[1], [2], [3], [4]], dtype=torch.float32)\n",
    "Y = torch.tensor([[2], [4], [6], [8]], dtype=torch.float32)"
   ]
  },
  {
   "cell_type": "code",
   "execution_count": 3,
   "id": "76881719",
   "metadata": {},
   "outputs": [
    {
     "data": {
      "text/plain": [
       "Text(0.5, 1.0, 'Scatter Plot')"
      ]
     },
     "execution_count": 3,
     "metadata": {},
     "output_type": "execute_result"
    },
    {
     "data": {
      "image/png": "[encoded data removed]",
      "text/plain": [
       "<Figure size 640x480 with 1 Axes>"
      ]
     },
     "metadata": {},
     "output_type": "display_data"
    }
   ],
   "source": [
    "# Create scatter plot\n",
    "plt.scatter(X, Y)\n",
    "\n",
    "# Set labels and title\n",
    "plt.xlabel('X')\n",
    "plt.ylabel('Y')\n",
    "plt.title('Scatter Plot')\n",
    "\n",
    "# The data is linear"
   ]
  },
  {
   "cell_type": "code",
   "execution_count": 4,
   "id": "246707a5",
   "metadata": {
    "scrolled": true
   },
   "outputs": [],
   "source": [
    "n_samples, n_features = X.shape"
   ]
  },
  {
   "cell_type": "code",
   "execution_count": 5,
   "id": "8be300b2",
   "metadata": {},
   "outputs": [
    {
     "name": "stdout",
     "output_type": "stream",
     "text": [
      "Number of Samples: 4, Number of Features: 1\n"
     ]
    }
   ],
   "source": [
    "print(f'Number of Samples: {n_samples}, Number of Features: {n_features}')"
   ]
  },
  {
   "cell_type": "code",
   "execution_count": 6,
   "id": "ac3b0d8d",
   "metadata": {},
   "outputs": [],
   "source": [
    "# Setting an input or testing value\n",
    "X_test = torch.tensor([5], dtype=torch.float32)"
   ]
  },
  {
   "cell_type": "code",
   "execution_count": 7,
   "id": "482f3888",
   "metadata": {},
   "outputs": [],
   "source": [
    "input_size = n_features\n",
    "output_size = n_features"
   ]
  },
  {
   "cell_type": "code",
   "execution_count": 8,
   "id": "f16826b4",
   "metadata": {},
   "outputs": [],
   "source": [
    "# we can call this model with samples X\n",
    "model1 = nn.Linear(input_size, output_size)"
   ]
  },
  {
   "cell_type": "code",
   "execution_count": 9,
   "id": "6c12424f",
   "metadata": {},
   "outputs": [
    {
     "name": "stdout",
     "output_type": "stream",
     "text": [
      "Prediction before training: f(5) = 4.908\n"
     ]
    }
   ],
   "source": [
    "print(f'Prediction before training: f(5) = {model1(X_test).item():.3f}')"
   ]
  },
  {
   "cell_type": "code",
   "execution_count": 84,
   "id": "769c6ff8",
   "metadata": {},
   "outputs": [],
   "source": [
    "# Assigning the learning rate (alpoha) and the number of iterations\n",
    "learning_rate = 0.01\n",
    "n_iters = 15"
   ]
  },
  {
   "cell_type": "code",
   "execution_count": 85,
   "id": "4e4826b4",
   "metadata": {},
   "outputs": [],
   "source": [
    "# Defining the loss function & optimizer\n",
    "loss = nn.MSELoss()\n",
    "optimizer = torch.optim.SGD(model1.parameters(), lr=learning_rate)"
   ]
  },
  {
   "cell_type": "markdown",
   "id": "15be1155",
   "metadata": {},
   "source": [
    "# Training Model"
   ]
  },
  {
   "cell_type": "code",
   "execution_count": 88,
   "id": "ae6f813a",
   "metadata": {
    "scrolled": true
   },
   "outputs": [
    {
     "name": "stdout",
     "output_type": "stream",
     "text": [
      "epoch  1 : w =  2.0000734329223633  loss =  tensor(8.0195e-09, grad_fn=<MseLossBackward0>)\n",
      "epoch  3 : w =  2.0000734329223633  loss =  tensor(7.9012e-09, grad_fn=<MseLossBackward0>)\n",
      "epoch  5 : w =  2.000072956085205  loss =  tensor(7.8271e-09, grad_fn=<MseLossBackward0>)\n",
      "epoch  7 : w =  2.000072479248047  loss =  tensor(7.7152e-09, grad_fn=<MseLossBackward0>)\n",
      "epoch  9 : w =  2.0000720024108887  loss =  tensor(7.6380e-09, grad_fn=<MseLossBackward0>)\n",
      "epoch  11 : w =  2.0000715255737305  loss =  tensor(7.5275e-09, grad_fn=<MseLossBackward0>)\n",
      "epoch  13 : w =  2.0000710487365723  loss =  tensor(7.4601e-09, grad_fn=<MseLossBackward0>)\n",
      "epoch  15 : w =  2.000070571899414  loss =  tensor(7.3509e-09, grad_fn=<MseLossBackward0>)\n",
      "Prediction using Model 1: 10.000\n"
     ]
    }
   ],
   "source": [
    "for epoch in range(n_iters):\n",
    "    # prediction using forward pass with our model\n",
    "    y_predicted = model1(X)\n",
    "\n",
    "    # loss calculation\n",
    "    l = loss(Y, y_predicted)\n",
    "\n",
    "    # calculate gradients using backward pass\n",
    "    l.backward()\n",
    "\n",
    "    # updating weights\n",
    "    optimizer.step()\n",
    "\n",
    "    # zero the gradients after updating\n",
    "    optimizer.zero_grad()\n",
    "\n",
    "    if epoch % 2 == 0:\n",
    "        [w, b] = model1.parameters() # unpacking parameters\n",
    "        print('epoch ', epoch+1, ': w = ', w[0][0].item(), ' loss = ', l)\n",
    "\n",
    "print(f'Prediction using Model 1: {model1(X_test).item():.3f}')"
   ]
  },
  {
   "cell_type": "markdown",
   "id": "0a4acd6f",
   "metadata": {},
   "source": [
    "### Manually Creating the Linear Regression Class"
   ]
  },
  {
   "cell_type": "code",
   "execution_count": 62,
   "id": "eb6d162e",
   "metadata": {},
   "outputs": [],
   "source": [
    "class LinearRegression(nn.Module):\n",
    "    def __init__(self, input_dim, output_dim):\n",
    "        super(LinearRegression, self).__init__()\n",
    "        # define diferent layers\n",
    "        self.lin = nn.Linear(input_dim, output_dim)\n",
    "\n",
    "    def forward(self, x):\n",
    "        return self.lin(x)\n",
    "\n",
    "model2 = LinearRegression(input_size, output_size)"
   ]
  },
  {
   "cell_type": "code",
   "execution_count": 78,
   "id": "617e14f9",
   "metadata": {},
   "outputs": [],
   "source": [
    "# Assigning the learning rate (alpoha) and the number of iterations\n",
    "learning_rate = 0.05\n",
    "n_iters = 175"
   ]
  },
  {
   "cell_type": "code",
   "execution_count": 79,
   "id": "b951bea8",
   "metadata": {},
   "outputs": [],
   "source": [
    "# Defining the loss function & optimizer\n",
    "loss = nn.MSELoss()\n",
    "optimizer = torch.optim.SGD(model2.parameters(), lr=learning_rate)"
   ]
  },
  {
   "cell_type": "markdown",
   "id": "4c4c30e0",
   "metadata": {},
   "source": [
    "#### Training model2"
   ]
  },
  {
   "cell_type": "code",
   "execution_count": 80,
   "id": "41cf8110",
   "metadata": {},
   "outputs": [
    {
     "name": "stdout",
     "output_type": "stream",
     "text": [
      "epoch  1 : w =  1.999446153640747  loss =  tensor(4.5631e-07, grad_fn=<MseLossBackward0>)\n",
      "epoch  16 : w =  1.9995583295822144  loss =  tensor(2.9021e-07, grad_fn=<MseLossBackward0>)\n",
      "epoch  31 : w =  1.9996477365493774  loss =  tensor(1.8463e-07, grad_fn=<MseLossBackward0>)\n",
      "epoch  46 : w =  1.9997190237045288  loss =  tensor(1.1742e-07, grad_fn=<MseLossBackward0>)\n",
      "epoch  61 : w =  1.999776005744934  loss =  tensor(7.4700e-08, grad_fn=<MseLossBackward0>)\n",
      "epoch  76 : w =  1.999821424484253  loss =  tensor(4.7507e-08, grad_fn=<MseLossBackward0>)\n",
      "epoch  91 : w =  1.9998575448989868  loss =  tensor(3.0179e-08, grad_fn=<MseLossBackward0>)\n",
      "epoch  106 : w =  1.999886393547058  loss =  tensor(1.9226e-08, grad_fn=<MseLossBackward0>)\n",
      "epoch  121 : w =  1.9999094009399414  loss =  tensor(1.2232e-08, grad_fn=<MseLossBackward0>)\n",
      "epoch  136 : w =  1.9999277591705322  loss =  tensor(7.7749e-09, grad_fn=<MseLossBackward0>)\n",
      "epoch  151 : w =  1.999942421913147  loss =  tensor(4.9334e-09, grad_fn=<MseLossBackward0>)\n",
      "epoch  166 : w =  1.9999539852142334  loss =  tensor(3.1392e-09, grad_fn=<MseLossBackward0>)\n",
      "Prediction using Model 2: 10.000\n"
     ]
    }
   ],
   "source": [
    "for epoch in range(n_iters):\n",
    "    # predict using forward pass with our model\n",
    "    y_predicted = model2(X)\n",
    "\n",
    "    # loss calculation\n",
    "    l = loss(Y, y_predicted)\n",
    "\n",
    "    # calculate gradients using backward pass\n",
    "    l.backward()\n",
    "\n",
    "    # updating the weights\n",
    "    optimizer.step()\n",
    "\n",
    "    # zero the gradients after updating\n",
    "    optimizer.zero_grad()\n",
    "\n",
    "    if epoch % 15 == 0:\n",
    "        [w, b] = model2.parameters() # unpacking parameters\n",
    "        print('epoch ', epoch+1, ': w = ', w[0][0].item(), ' loss = ', l)\n",
    "\n",
    "print(f'Prediction using Model 2: {model2(X_test).item():.3f}')"
   ]
  },
  {
   "cell_type": "code",
   "execution_count": 81,
   "id": "fbc0e3ca",
   "metadata": {},
   "outputs": [],
   "source": [
    "# Setting a new input or testing value\n",
    "XX_test = torch.tensor([6], dtype=torch.float32)"
   ]
  },
  {
   "cell_type": "code",
   "execution_count": 87,
   "id": "790a0f10",
   "metadata": {},
   "outputs": [
    {
     "name": "stdout",
     "output_type": "stream",
     "text": [
      "Prediction using Model 1: 12.000\n",
      "Prediction using Model 2: 12.000\n"
     ]
    }
   ],
   "source": [
    "# Checking both models changing the input/test value\n",
    "print(f'Prediction using Model 1: {model1(XX_test).item():.3f}')\n",
    "print(f'Prediction using Model 2: {model2(XX_test).item():.3f}')"
   ]
  }
 ],
 "metadata": {
  "kernelspec": {
   "display_name": "Python 3 (ipykernel)",
   "language": "python",
   "name": "python3"
  },
  "language_info": {
   "codemirror_mode": {
    "name": "ipython",
    "version": 3
   },
   "file_extension": ".py",
   "mimetype": "text/x-python",
   "name": "python",
   "nbconvert_exporter": "python",
   "pygments_lexer": "ipython3",
   "version": "3.10.9"
  }
 },
 "nbformat": 4,
 "nbformat_minor": 5
}
