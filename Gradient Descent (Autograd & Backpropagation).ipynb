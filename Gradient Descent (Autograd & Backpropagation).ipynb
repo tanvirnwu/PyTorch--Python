{
 "cells": [
  {
   "cell_type": "markdown",
   "id": "67f34b7c",
   "metadata": {},
   "source": [
    "## Manually \n",
    "\n",
    "First we will see how we can implement the gradient & backpropagation technique manullay then we will do the same thing using Troch. "
   ]
  },
  {
   "cell_type": "code",
   "execution_count": 1,
   "id": "79b3d4a9",
   "metadata": {},
   "outputs": [],
   "source": [
    "import numpy as np"
   ]
  },
  {
   "cell_type": "code",
   "execution_count": 2,
   "id": "f92ac99c",
   "metadata": {},
   "outputs": [],
   "source": [
    "# here : f = 2 * x\n",
    "#Creating two arrays as input and output\n",
    "X = np.array([1, 2, 3, 4], dtype=np.float32)\n",
    "Y = np.array([2, 4, 6, 8], dtype=np.float32)\n",
    "\n",
    "# So for input X= 5, the output should be Y = 10\n",
    "# We will build a model manually which can predict this output (Y = 10, for input X = 5)"
   ]
  },
  {
   "cell_type": "code",
   "execution_count": 3,
   "id": "99bbacb6",
   "metadata": {},
   "outputs": [],
   "source": [
    "w = 0.0"
   ]
  },
  {
   "cell_type": "code",
   "execution_count": 4,
   "id": "b8285bd1",
   "metadata": {},
   "outputs": [],
   "source": [
    "# Output from the model\n",
    "def forward(x):\n",
    "    return w * x"
   ]
  },
  {
   "cell_type": "code",
   "execution_count": 5,
   "id": "1e9a491f",
   "metadata": {},
   "outputs": [],
   "source": [
    "# loss function as MSE\n",
    "def loss(y, y_pred):\n",
    "    return ((y_pred - y)**2).mean()"
   ]
  },
  {
   "cell_type": "code",
   "execution_count": 6,
   "id": "37a2d061",
   "metadata": {},
   "outputs": [],
   "source": [
    "# J = MSE = 1/N * (w*x - y)**2\n",
    "# dJ/dw = 1/N * 2x(w*x - y)\n",
    "def gradient(x, y, y_pred):\n",
    "    return np.mean(2*x*(y_pred - y))"
   ]
  },
  {
   "cell_type": "code",
   "execution_count": 7,
   "id": "7b690bf7",
   "metadata": {
    "scrolled": true
   },
   "outputs": [
    {
     "name": "stdout",
     "output_type": "stream",
     "text": [
      "Before we train the model if we predict for f(5), then the output = 0.000\n"
     ]
    }
   ],
   "source": [
    "print(f'Before we train the model if we predict for f(5), then the output = {forward(5):.3f}')\n",
    "# As the model is not trained yet so it is not ready to predict. "
   ]
  },
  {
   "cell_type": "markdown",
   "id": "5a98c954",
   "metadata": {},
   "source": [
    "#### Training the model"
   ]
  },
  {
   "cell_type": "code",
   "execution_count": 8,
   "id": "14cd50b7",
   "metadata": {},
   "outputs": [],
   "source": [
    "learning_rate = 0.01 # Alpha value which is known as learning rate\n",
    "n_iters = 70 # The number of iterations"
   ]
  },
  {
   "cell_type": "code",
   "execution_count": 9,
   "id": "793b77b3",
   "metadata": {},
   "outputs": [
    {
     "name": "stdout",
     "output_type": "stream",
     "text": [
      "epoch 1: w = 0.300, loss = 30.00000000\n",
      "epoch 8: w = 1.455, loss = 3.08308983\n",
      "epoch 15: w = 1.825, loss = 0.31684822\n",
      "epoch 22: w = 1.944, loss = 0.03256244\n",
      "epoch 29: w = 1.982, loss = 0.00334642\n",
      "epoch 36: w = 1.994, loss = 0.00034391\n",
      "epoch 43: w = 1.998, loss = 0.00003534\n",
      "epoch 50: w = 1.999, loss = 0.00000363\n",
      "epoch 57: w = 2.000, loss = 0.00000037\n",
      "epoch 64: w = 2.000, loss = 0.00000004\n",
      "Prediction after training the model, f(5) = 10.000\n"
     ]
    }
   ],
   "source": [
    "for epoch in range(n_iters):\n",
    "    # predict = forward pass\n",
    "    y_pred = forward(X)\n",
    "\n",
    "    # loss\n",
    "    l = loss(Y, y_pred)\n",
    "    \n",
    "    # calculate gradients\n",
    "    dw = gradient(X, Y, y_pred)\n",
    "\n",
    "    # update weights\n",
    "    w -= learning_rate * dw\n",
    "\n",
    "    if epoch % 7 == 0:\n",
    "        print(f'epoch {epoch+1}: w = {w:.3f}, loss = {l:.8f}')\n",
    "\n",
    "# After training the model it can predict well\n",
    "print(f'Prediction after training the model, f(5) = {forward(5):.3f}')"
   ]
  },
  {
   "cell_type": "markdown",
   "id": "1cf835f0",
   "metadata": {},
   "source": [
    "## Auto using Torch"
   ]
  },
  {
   "cell_type": "code",
   "execution_count": 10,
   "id": "9001774b",
   "metadata": {},
   "outputs": [],
   "source": [
    "import torch"
   ]
  },
  {
   "cell_type": "code",
   "execution_count": 11,
   "id": "705b106d",
   "metadata": {},
   "outputs": [],
   "source": [
    "X = torch.tensor([1, 2, 3, 4], dtype=torch.float32)\n",
    "Y = torch.tensor([2, 4, 6, 8], dtype=torch.float32)"
   ]
  },
  {
   "cell_type": "code",
   "execution_count": 12,
   "id": "08efc0af",
   "metadata": {},
   "outputs": [],
   "source": [
    "w = torch.tensor(0.0, dtype=torch.float32, requires_grad=True)"
   ]
  },
  {
   "cell_type": "code",
   "execution_count": 13,
   "id": "8f1d0693",
   "metadata": {},
   "outputs": [],
   "source": [
    "def forward(x):\n",
    "    return w * x"
   ]
  },
  {
   "cell_type": "code",
   "execution_count": 14,
   "id": "717ddb65",
   "metadata": {},
   "outputs": [],
   "source": [
    "def loss(y, y_pred):\n",
    "    return ((y_pred - y)**2).mean()"
   ]
  },
  {
   "cell_type": "code",
   "execution_count": 15,
   "id": "b34c0fc4",
   "metadata": {},
   "outputs": [
    {
     "name": "stdout",
     "output_type": "stream",
     "text": [
      "Before we train the model if we predict for f(5), then the output = 0.000\n"
     ]
    }
   ],
   "source": [
    "print(f'Before we train the model if we predict for f(5), then the output = {forward(5):.3f}')"
   ]
  },
  {
   "cell_type": "code",
   "execution_count": 16,
   "id": "f60be7b7",
   "metadata": {},
   "outputs": [],
   "source": [
    "learning_rate = 0.01\n",
    "n_iters = 100"
   ]
  },
  {
   "cell_type": "code",
   "execution_count": 17,
   "id": "98c276c4",
   "metadata": {},
   "outputs": [
    {
     "name": "stdout",
     "output_type": "stream",
     "text": [
      "epoch 1: w = 0.300, loss = 30.00000000\n",
      "epoch 11: w = 1.665, loss = 1.16278565\n",
      "epoch 21: w = 1.934, loss = 0.04506890\n",
      "epoch 31: w = 1.987, loss = 0.00174685\n",
      "epoch 41: w = 1.997, loss = 0.00006770\n",
      "epoch 51: w = 1.999, loss = 0.00000262\n",
      "epoch 61: w = 2.000, loss = 0.00000010\n",
      "epoch 71: w = 2.000, loss = 0.00000000\n",
      "epoch 81: w = 2.000, loss = 0.00000000\n",
      "epoch 91: w = 2.000, loss = 0.00000000\n",
      "Prediction after training the model, f(5) = 10.000\n"
     ]
    }
   ],
   "source": [
    "for epoch in range(n_iters):\n",
    "    # predict = forward pass\n",
    "    y_pred = forward(X)\n",
    "\n",
    "    # loss\n",
    "    l = loss(Y, y_pred)\n",
    "\n",
    "    # calculate gradients = backward pass\n",
    "    l.backward()\n",
    "\n",
    "    # update weights\n",
    "    #w.data = w.data - learning_rate * w.grad\n",
    "    with torch.no_grad():\n",
    "        w -= learning_rate * w.grad\n",
    "    \n",
    "    # zero the gradients after updating\n",
    "    w.grad.zero_()\n",
    "\n",
    "    if epoch % 10 == 0:\n",
    "        print(f'epoch {epoch+1}: w = {w.item():.3f}, loss = {l.item():.8f}')\n",
    "\n",
    "print(f'Prediction after training the model, f(5) = {forward(5):.3f}')"
   ]
  },
  {
   "cell_type": "code",
   "execution_count": null,
   "id": "d84f184a",
   "metadata": {},
   "outputs": [],
   "source": []
  }
 ],
 "metadata": {
  "kernelspec": {
   "display_name": "Python 3 (ipykernel)",
   "language": "python",
   "name": "python3"
  },
  "language_info": {
   "codemirror_mode": {
    "name": "ipython",
    "version": 3
   },
   "file_extension": ".py",
   "mimetype": "text/x-python",
   "name": "python",
   "nbconvert_exporter": "python",
   "pygments_lexer": "ipython3",
   "version": "3.10.9"
  }
 },
 "nbformat": 4,
 "nbformat_minor": 5
}
