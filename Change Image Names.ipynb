{
 "cells": [
  {
   "cell_type": "code",
   "execution_count": 1,
   "id": "962c9f8d",
   "metadata": {},
   "outputs": [],
   "source": [
    "import os\n",
    "import shutil\n",
    "\n",
    "def copy_images_with_new_names(folder_1_path, folder_2_path, new_name_prefix='GT_'):\n",
    "    if not os.path.exists(folder_2_path):\n",
    "        os.makedirs(folder_2_path)\n",
    "\n",
    "    # Get a list of all image files in Folder_1\n",
    "    image_files = [f for f in os.listdir(folder_1_path) if os.path.isfile(os.path.join(folder_1_path, f))]\n",
    "\n",
    "    for idx, image_file in enumerate(image_files):\n",
    "        # Generate the new name for the image\n",
    "        new_name = f\"{new_name_prefix}{idx + 1}.jpg\"\n",
    "\n",
    "        # Get the full paths for the source and destination files\n",
    "        src_path = os.path.join(folder_1_path, image_file)\n",
    "        dest_path = os.path.join(folder_2_path, new_name)\n",
    "\n",
    "        # Copy the image from Folder_1 to Folder_2 with the new name and jpg extension\n",
    "        shutil.copy(src_path, dest_path)\n",
    "\n"
   ]
  },
  {
   "cell_type": "code",
   "execution_count": 2,
   "id": "bc5934c2",
   "metadata": {},
   "outputs": [],
   "source": [
    "folder_1_path = r\"C:\\Users\\tanvi\\OneDrive\\Desktop\\New folder\\Papers\\Image Dehazing\\Datasets\\HD DATASET\"\n",
    "folder_2_path = r\"C:\\Users\\tanvi\\OneDrive\\Desktop\\New folder\\Papers\\Image Dehazing\\Datasets\\HD DATASET\\Renamed Images\"\n",
    "\n",
    "new_name_prefix = \"GT_\"\n",
    "\n",
    "copy_images_with_new_names(folder_1_path, folder_2_path, new_name_prefix)"
   ]
  },
  {
   "cell_type": "code",
   "execution_count": null,
   "id": "337a1ca6",
   "metadata": {},
   "outputs": [],
   "source": []
  }
 ],
 "metadata": {
  "kernelspec": {
   "display_name": "Python 3 (ipykernel)",
   "language": "python",
   "name": "python3"
  },
  "language_info": {
   "codemirror_mode": {
    "name": "ipython",
    "version": 3
   },
   "file_extension": ".py",
   "mimetype": "text/x-python",
   "name": "python",
   "nbconvert_exporter": "python",
   "pygments_lexer": "ipython3",
   "version": "3.10.9"
  }
 },
 "nbformat": 4,
 "nbformat_minor": 5
}
